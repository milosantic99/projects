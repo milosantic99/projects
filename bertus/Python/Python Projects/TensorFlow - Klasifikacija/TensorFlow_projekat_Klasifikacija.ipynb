{
  "nbformat": 4,
  "nbformat_minor": 0,
  "metadata": {
    "colab": {
      "name": "TensorFlow_projekat -Klasifikacija.ipynb",
      "provenance": [],
      "collapsed_sections": [
        "GP9-EOUC6oPA"
      ]
    },
    "kernelspec": {
      "name": "python3",
      "display_name": "Python 3"
    },
    "language_info": {
      "name": "python"
    }
  },
  "cells": [
    {
      "cell_type": "markdown",
      "source": [
        "# Analiza i priprema podataka"
      ],
      "metadata": {
        "id": "V1aS1pc771sQ"
      }
    },
    {
      "cell_type": "markdown",
      "source": [
        "Pre svega,neophodno je instalrati TensorFlow sledećom komandom"
      ],
      "metadata": {
        "id": "XLmTVYemCUNq"
      }
    },
    {
      "cell_type": "code",
      "source": [
        "!pip install tensorflow"
      ],
      "metadata": {
        "colab": {
          "base_uri": "https://localhost:8080/"
        },
        "id": "VxZF9gwBIC1Y",
        "outputId": "cd1548c3-5a94-435d-9dd3-81ae47613423"
      },
      "execution_count": null,
      "outputs": [
        {
          "output_type": "stream",
          "name": "stdout",
          "text": [
            "Requirement already satisfied: tensorflow in /usr/local/lib/python3.7/dist-packages (2.8.0)\n",
            "Requirement already satisfied: numpy>=1.20 in /usr/local/lib/python3.7/dist-packages (from tensorflow) (1.21.5)\n",
            "Requirement already satisfied: libclang>=9.0.1 in /usr/local/lib/python3.7/dist-packages (from tensorflow) (13.0.0)\n",
            "Requirement already satisfied: grpcio<2.0,>=1.24.3 in /usr/local/lib/python3.7/dist-packages (from tensorflow) (1.44.0)\n",
            "Requirement already satisfied: flatbuffers>=1.12 in /usr/local/lib/python3.7/dist-packages (from tensorflow) (2.0)\n",
            "Requirement already satisfied: keras<2.9,>=2.8.0rc0 in /usr/local/lib/python3.7/dist-packages (from tensorflow) (2.8.0)\n",
            "Requirement already satisfied: setuptools in /usr/local/lib/python3.7/dist-packages (from tensorflow) (57.4.0)\n",
            "Requirement already satisfied: typing-extensions>=3.6.6 in /usr/local/lib/python3.7/dist-packages (from tensorflow) (3.10.0.2)\n",
            "Requirement already satisfied: tensorflow-io-gcs-filesystem>=0.23.1 in /usr/local/lib/python3.7/dist-packages (from tensorflow) (0.24.0)\n",
            "Requirement already satisfied: opt-einsum>=2.3.2 in /usr/local/lib/python3.7/dist-packages (from tensorflow) (3.3.0)\n",
            "Requirement already satisfied: google-pasta>=0.1.1 in /usr/local/lib/python3.7/dist-packages (from tensorflow) (0.2.0)\n",
            "Requirement already satisfied: protobuf>=3.9.2 in /usr/local/lib/python3.7/dist-packages (from tensorflow) (3.17.3)\n",
            "Requirement already satisfied: six>=1.12.0 in /usr/local/lib/python3.7/dist-packages (from tensorflow) (1.15.0)\n",
            "Requirement already satisfied: termcolor>=1.1.0 in /usr/local/lib/python3.7/dist-packages (from tensorflow) (1.1.0)\n",
            "Requirement already satisfied: absl-py>=0.4.0 in /usr/local/lib/python3.7/dist-packages (from tensorflow) (1.0.0)\n",
            "Requirement already satisfied: astunparse>=1.6.0 in /usr/local/lib/python3.7/dist-packages (from tensorflow) (1.6.3)\n",
            "Requirement already satisfied: h5py>=2.9.0 in /usr/local/lib/python3.7/dist-packages (from tensorflow) (3.1.0)\n",
            "Requirement already satisfied: tensorboard<2.9,>=2.8 in /usr/local/lib/python3.7/dist-packages (from tensorflow) (2.8.0)\n",
            "Requirement already satisfied: gast>=0.2.1 in /usr/local/lib/python3.7/dist-packages (from tensorflow) (0.5.3)\n",
            "Requirement already satisfied: tf-estimator-nightly==2.8.0.dev2021122109 in /usr/local/lib/python3.7/dist-packages (from tensorflow) (2.8.0.dev2021122109)\n",
            "Requirement already satisfied: keras-preprocessing>=1.1.1 in /usr/local/lib/python3.7/dist-packages (from tensorflow) (1.1.2)\n",
            "Requirement already satisfied: wrapt>=1.11.0 in /usr/local/lib/python3.7/dist-packages (from tensorflow) (1.13.3)\n",
            "Requirement already satisfied: wheel<1.0,>=0.23.0 in /usr/local/lib/python3.7/dist-packages (from astunparse>=1.6.0->tensorflow) (0.37.1)\n",
            "Requirement already satisfied: cached-property in /usr/local/lib/python3.7/dist-packages (from h5py>=2.9.0->tensorflow) (1.5.2)\n",
            "Requirement already satisfied: google-auth<3,>=1.6.3 in /usr/local/lib/python3.7/dist-packages (from tensorboard<2.9,>=2.8->tensorflow) (1.35.0)\n",
            "Requirement already satisfied: werkzeug>=0.11.15 in /usr/local/lib/python3.7/dist-packages (from tensorboard<2.9,>=2.8->tensorflow) (1.0.1)\n",
            "Requirement already satisfied: requests<3,>=2.21.0 in /usr/local/lib/python3.7/dist-packages (from tensorboard<2.9,>=2.8->tensorflow) (2.23.0)\n",
            "Requirement already satisfied: tensorboard-data-server<0.7.0,>=0.6.0 in /usr/local/lib/python3.7/dist-packages (from tensorboard<2.9,>=2.8->tensorflow) (0.6.1)\n",
            "Requirement already satisfied: markdown>=2.6.8 in /usr/local/lib/python3.7/dist-packages (from tensorboard<2.9,>=2.8->tensorflow) (3.3.6)\n",
            "Requirement already satisfied: google-auth-oauthlib<0.5,>=0.4.1 in /usr/local/lib/python3.7/dist-packages (from tensorboard<2.9,>=2.8->tensorflow) (0.4.6)\n",
            "Requirement already satisfied: tensorboard-plugin-wit>=1.6.0 in /usr/local/lib/python3.7/dist-packages (from tensorboard<2.9,>=2.8->tensorflow) (1.8.1)\n",
            "Requirement already satisfied: rsa<5,>=3.1.4 in /usr/local/lib/python3.7/dist-packages (from google-auth<3,>=1.6.3->tensorboard<2.9,>=2.8->tensorflow) (4.8)\n",
            "Requirement already satisfied: cachetools<5.0,>=2.0.0 in /usr/local/lib/python3.7/dist-packages (from google-auth<3,>=1.6.3->tensorboard<2.9,>=2.8->tensorflow) (4.2.4)\n",
            "Requirement already satisfied: pyasn1-modules>=0.2.1 in /usr/local/lib/python3.7/dist-packages (from google-auth<3,>=1.6.3->tensorboard<2.9,>=2.8->tensorflow) (0.2.8)\n",
            "Requirement already satisfied: requests-oauthlib>=0.7.0 in /usr/local/lib/python3.7/dist-packages (from google-auth-oauthlib<0.5,>=0.4.1->tensorboard<2.9,>=2.8->tensorflow) (1.3.1)\n",
            "Requirement already satisfied: importlib-metadata>=4.4 in /usr/local/lib/python3.7/dist-packages (from markdown>=2.6.8->tensorboard<2.9,>=2.8->tensorflow) (4.11.2)\n",
            "Requirement already satisfied: zipp>=0.5 in /usr/local/lib/python3.7/dist-packages (from importlib-metadata>=4.4->markdown>=2.6.8->tensorboard<2.9,>=2.8->tensorflow) (3.7.0)\n",
            "Requirement already satisfied: pyasn1<0.5.0,>=0.4.6 in /usr/local/lib/python3.7/dist-packages (from pyasn1-modules>=0.2.1->google-auth<3,>=1.6.3->tensorboard<2.9,>=2.8->tensorflow) (0.4.8)\n",
            "Requirement already satisfied: urllib3!=1.25.0,!=1.25.1,<1.26,>=1.21.1 in /usr/local/lib/python3.7/dist-packages (from requests<3,>=2.21.0->tensorboard<2.9,>=2.8->tensorflow) (1.24.3)\n",
            "Requirement already satisfied: chardet<4,>=3.0.2 in /usr/local/lib/python3.7/dist-packages (from requests<3,>=2.21.0->tensorboard<2.9,>=2.8->tensorflow) (3.0.4)\n",
            "Requirement already satisfied: certifi>=2017.4.17 in /usr/local/lib/python3.7/dist-packages (from requests<3,>=2.21.0->tensorboard<2.9,>=2.8->tensorflow) (2021.10.8)\n",
            "Requirement already satisfied: idna<3,>=2.5 in /usr/local/lib/python3.7/dist-packages (from requests<3,>=2.21.0->tensorboard<2.9,>=2.8->tensorflow) (2.10)\n",
            "Requirement already satisfied: oauthlib>=3.0.0 in /usr/local/lib/python3.7/dist-packages (from requests-oauthlib>=0.7.0->google-auth-oauthlib<0.5,>=0.4.1->tensorboard<2.9,>=2.8->tensorflow) (3.2.0)\n"
          ]
        }
      ]
    },
    {
      "cell_type": "markdown",
      "source": [
        "Sledi importovanje potrebnih biblioteka, među kojima su pandas, numpy, seborn itd."
      ],
      "metadata": {
        "id": "m6t8Ngt0yV3s"
      }
    },
    {
      "cell_type": "code",
      "execution_count": null,
      "metadata": {
        "id": "7Xk3T58OH8eC"
      },
      "outputs": [],
      "source": [
        "import tensorflow as tf\n",
        "from google.colab import files\n",
        "import pandas as pd\n",
        "import numpy as np\n",
        "import random\n",
        "import seaborn as sns\n",
        "import matplotlib.pyplot as plt\n"
      ]
    },
    {
      "cell_type": "markdown",
      "source": [
        "Sledeći deo koda vrši učitavanje csv fajla koji sadrži skup podataka za rad."
      ],
      "metadata": {
        "id": "bWJ04RIxCZXq"
      }
    },
    {
      "cell_type": "code",
      "source": [
        "\n",
        "file=files.upload()\n",
        "dataset=pd.read_csv(\"winequalityN.csv\")"
      ],
      "metadata": {
        "colab": {
          "resources": {
            "http://localhost:8080/nbextensions/google.colab/files.js": {
              "data": "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",
              "ok": true,
              "headers": [
                [
                  "content-type",
                  "application/javascript"
                ]
              ],
              "status": 200,
              "status_text": ""
            }
          },
          "base_uri": "https://localhost:8080/",
          "height": 74
        },
        "id": "tB84ougHItuf",
        "outputId": "341de53d-2c40-441d-9a69-cffe73fac879"
      },
      "execution_count": null,
      "outputs": [
        {
          "output_type": "display_data",
          "data": {
            "text/html": [
              "\n",
              "     <input type=\"file\" id=\"files-c765bdf2-bd0b-4de0-ac47-524b25b2c9cf\" name=\"files[]\" multiple disabled\n",
              "        style=\"border:none\" />\n",
              "     <output id=\"result-c765bdf2-bd0b-4de0-ac47-524b25b2c9cf\">\n",
              "      Upload widget is only available when the cell has been executed in the\n",
              "      current browser session. Please rerun this cell to enable.\n",
              "      </output>\n",
              "      <script src=\"/nbextensions/google.colab/files.js\"></script> "
            ],
            "text/plain": [
              "<IPython.core.display.HTML object>"
            ]
          },
          "metadata": {}
        },
        {
          "output_type": "stream",
          "name": "stdout",
          "text": [
            "Saving winequalityN.csv to winequalityN (1).csv\n"
          ]
        }
      ]
    },
    {
      "cell_type": "markdown",
      "source": [
        "Učitane podatke kopiramo u fajl pod nazivom data. Funkcija tail() prikazuje poslednjih 5 vrsta u skupu podataka."
      ],
      "metadata": {
        "id": "kujrXBHICjE-"
      }
    },
    {
      "cell_type": "code",
      "source": [
        "data=dataset.copy()\n",
        "data.tail()"
      ],
      "metadata": {
        "colab": {
          "base_uri": "https://localhost:8080/",
          "height": 206
        },
        "id": "NhX5I8iII9ZN",
        "outputId": "2e42920c-125a-4778-dd15-71829cebade1"
      },
      "execution_count": null,
      "outputs": [
        {
          "output_type": "execute_result",
          "data": {
            "text/html": [
              "\n",
              "  <div id=\"df-c3b9a85e-fac2-424c-8369-62acbaa508d5\">\n",
              "    <div class=\"colab-df-container\">\n",
              "      <div>\n",
              "<style scoped>\n",
              "    .dataframe tbody tr th:only-of-type {\n",
              "        vertical-align: middle;\n",
              "    }\n",
              "\n",
              "    .dataframe tbody tr th {\n",
              "        vertical-align: top;\n",
              "    }\n",
              "\n",
              "    .dataframe thead th {\n",
              "        text-align: right;\n",
              "    }\n",
              "</style>\n",
              "<table border=\"1\" class=\"dataframe\">\n",
              "  <thead>\n",
              "    <tr style=\"text-align: right;\">\n",
              "      <th></th>\n",
              "      <th>type</th>\n",
              "      <th>fixed acidity</th>\n",
              "      <th>volatile acidity</th>\n",
              "      <th>citric acid</th>\n",
              "      <th>residual sugar</th>\n",
              "      <th>chlorides</th>\n",
              "      <th>free sulfur dioxide</th>\n",
              "      <th>total sulfur dioxide</th>\n",
              "      <th>density</th>\n",
              "      <th>pH</th>\n",
              "      <th>sulphates</th>\n",
              "      <th>alcohol</th>\n",
              "      <th>quality</th>\n",
              "    </tr>\n",
              "  </thead>\n",
              "  <tbody>\n",
              "    <tr>\n",
              "      <th>6492</th>\n",
              "      <td>red</td>\n",
              "      <td>6.2</td>\n",
              "      <td>0.600</td>\n",
              "      <td>0.08</td>\n",
              "      <td>2.0</td>\n",
              "      <td>0.090</td>\n",
              "      <td>32.0</td>\n",
              "      <td>44.0</td>\n",
              "      <td>0.99490</td>\n",
              "      <td>3.45</td>\n",
              "      <td>0.58</td>\n",
              "      <td>10.5</td>\n",
              "      <td>5</td>\n",
              "    </tr>\n",
              "    <tr>\n",
              "      <th>6493</th>\n",
              "      <td>red</td>\n",
              "      <td>5.9</td>\n",
              "      <td>0.550</td>\n",
              "      <td>0.10</td>\n",
              "      <td>2.2</td>\n",
              "      <td>0.062</td>\n",
              "      <td>39.0</td>\n",
              "      <td>51.0</td>\n",
              "      <td>0.99512</td>\n",
              "      <td>3.52</td>\n",
              "      <td>NaN</td>\n",
              "      <td>11.2</td>\n",
              "      <td>6</td>\n",
              "    </tr>\n",
              "    <tr>\n",
              "      <th>6494</th>\n",
              "      <td>red</td>\n",
              "      <td>6.3</td>\n",
              "      <td>0.510</td>\n",
              "      <td>0.13</td>\n",
              "      <td>2.3</td>\n",
              "      <td>0.076</td>\n",
              "      <td>29.0</td>\n",
              "      <td>40.0</td>\n",
              "      <td>0.99574</td>\n",
              "      <td>3.42</td>\n",
              "      <td>0.75</td>\n",
              "      <td>11.0</td>\n",
              "      <td>6</td>\n",
              "    </tr>\n",
              "    <tr>\n",
              "      <th>6495</th>\n",
              "      <td>red</td>\n",
              "      <td>5.9</td>\n",
              "      <td>0.645</td>\n",
              "      <td>0.12</td>\n",
              "      <td>2.0</td>\n",
              "      <td>0.075</td>\n",
              "      <td>32.0</td>\n",
              "      <td>44.0</td>\n",
              "      <td>0.99547</td>\n",
              "      <td>3.57</td>\n",
              "      <td>0.71</td>\n",
              "      <td>10.2</td>\n",
              "      <td>5</td>\n",
              "    </tr>\n",
              "    <tr>\n",
              "      <th>6496</th>\n",
              "      <td>red</td>\n",
              "      <td>6.0</td>\n",
              "      <td>0.310</td>\n",
              "      <td>0.47</td>\n",
              "      <td>3.6</td>\n",
              "      <td>0.067</td>\n",
              "      <td>18.0</td>\n",
              "      <td>42.0</td>\n",
              "      <td>0.99549</td>\n",
              "      <td>3.39</td>\n",
              "      <td>0.66</td>\n",
              "      <td>11.0</td>\n",
              "      <td>6</td>\n",
              "    </tr>\n",
              "  </tbody>\n",
              "</table>\n",
              "</div>\n",
              "      <button class=\"colab-df-convert\" onclick=\"convertToInteractive('df-c3b9a85e-fac2-424c-8369-62acbaa508d5')\"\n",
              "              title=\"Convert this dataframe to an interactive table.\"\n",
              "              style=\"display:none;\">\n",
              "        \n",
              "  <svg xmlns=\"http://www.w3.org/2000/svg\" height=\"24px\"viewBox=\"0 0 24 24\"\n",
              "       width=\"24px\">\n",
              "    <path d=\"M0 0h24v24H0V0z\" fill=\"none\"/>\n",
              "    <path d=\"M18.56 5.44l.94 2.06.94-2.06 2.06-.94-2.06-.94-.94-2.06-.94 2.06-2.06.94zm-11 1L8.5 8.5l.94-2.06 2.06-.94-2.06-.94L8.5 2.5l-.94 2.06-2.06.94zm10 10l.94 2.06.94-2.06 2.06-.94-2.06-.94-.94-2.06-.94 2.06-2.06.94z\"/><path d=\"M17.41 7.96l-1.37-1.37c-.4-.4-.92-.59-1.43-.59-.52 0-1.04.2-1.43.59L10.3 9.45l-7.72 7.72c-.78.78-.78 2.05 0 2.83L4 21.41c.39.39.9.59 1.41.59.51 0 1.02-.2 1.41-.59l7.78-7.78 2.81-2.81c.8-.78.8-2.07 0-2.86zM5.41 20L4 18.59l7.72-7.72 1.47 1.35L5.41 20z\"/>\n",
              "  </svg>\n",
              "      </button>\n",
              "      \n",
              "  <style>\n",
              "    .colab-df-container {\n",
              "      display:flex;\n",
              "      flex-wrap:wrap;\n",
              "      gap: 12px;\n",
              "    }\n",
              "\n",
              "    .colab-df-convert {\n",
              "      background-color: #E8F0FE;\n",
              "      border: none;\n",
              "      border-radius: 50%;\n",
              "      cursor: pointer;\n",
              "      display: none;\n",
              "      fill: #1967D2;\n",
              "      height: 32px;\n",
              "      padding: 0 0 0 0;\n",
              "      width: 32px;\n",
              "    }\n",
              "\n",
              "    .colab-df-convert:hover {\n",
              "      background-color: #E2EBFA;\n",
              "      box-shadow: 0px 1px 2px rgba(60, 64, 67, 0.3), 0px 1px 3px 1px rgba(60, 64, 67, 0.15);\n",
              "      fill: #174EA6;\n",
              "    }\n",
              "\n",
              "    [theme=dark] .colab-df-convert {\n",
              "      background-color: #3B4455;\n",
              "      fill: #D2E3FC;\n",
              "    }\n",
              "\n",
              "    [theme=dark] .colab-df-convert:hover {\n",
              "      background-color: #434B5C;\n",
              "      box-shadow: 0px 1px 3px 1px rgba(0, 0, 0, 0.15);\n",
              "      filter: drop-shadow(0px 1px 2px rgba(0, 0, 0, 0.3));\n",
              "      fill: #FFFFFF;\n",
              "    }\n",
              "  </style>\n",
              "\n",
              "      <script>\n",
              "        const buttonEl =\n",
              "          document.querySelector('#df-c3b9a85e-fac2-424c-8369-62acbaa508d5 button.colab-df-convert');\n",
              "        buttonEl.style.display =\n",
              "          google.colab.kernel.accessAllowed ? 'block' : 'none';\n",
              "\n",
              "        async function convertToInteractive(key) {\n",
              "          const element = document.querySelector('#df-c3b9a85e-fac2-424c-8369-62acbaa508d5');\n",
              "          const dataTable =\n",
              "            await google.colab.kernel.invokeFunction('convertToInteractive',\n",
              "                                                     [key], {});\n",
              "          if (!dataTable) return;\n",
              "\n",
              "          const docLinkHtml = 'Like what you see? Visit the ' +\n",
              "            '<a target=\"_blank\" href=https://colab.research.google.com/notebooks/data_table.ipynb>data table notebook</a>'\n",
              "            + ' to learn more about interactive tables.';\n",
              "          element.innerHTML = '';\n",
              "          dataTable['output_type'] = 'display_data';\n",
              "          await google.colab.output.renderOutput(dataTable, element);\n",
              "          const docLink = document.createElement('div');\n",
              "          docLink.innerHTML = docLinkHtml;\n",
              "          element.appendChild(docLink);\n",
              "        }\n",
              "      </script>\n",
              "    </div>\n",
              "  </div>\n",
              "  "
            ],
            "text/plain": [
              "     type  fixed acidity  volatile acidity  citric acid  residual sugar  \\\n",
              "6492  red            6.2             0.600         0.08             2.0   \n",
              "6493  red            5.9             0.550         0.10             2.2   \n",
              "6494  red            6.3             0.510         0.13             2.3   \n",
              "6495  red            5.9             0.645         0.12             2.0   \n",
              "6496  red            6.0             0.310         0.47             3.6   \n",
              "\n",
              "      chlorides  free sulfur dioxide  total sulfur dioxide  density    pH  \\\n",
              "6492      0.090                 32.0                  44.0  0.99490  3.45   \n",
              "6493      0.062                 39.0                  51.0  0.99512  3.52   \n",
              "6494      0.076                 29.0                  40.0  0.99574  3.42   \n",
              "6495      0.075                 32.0                  44.0  0.99547  3.57   \n",
              "6496      0.067                 18.0                  42.0  0.99549  3.39   \n",
              "\n",
              "      sulphates  alcohol  quality  \n",
              "6492       0.58     10.5        5  \n",
              "6493        NaN     11.2        6  \n",
              "6494       0.75     11.0        6  \n",
              "6495       0.71     10.2        5  \n",
              "6496       0.66     11.0        6  "
            ]
          },
          "metadata": {},
          "execution_count": 9
        }
      ]
    },
    {
      "cell_type": "markdown",
      "source": [
        "Ispitati da li skup podataka sadrži nedostajuće vrednosti. Ukoliko postoje, obrisati ih. Ovde se nećemo baviti detaljnom analizom i obradom nedostajućih vrednosti. Jedan od načina za sređivanje nedostajućih vrednosti je i popunjavanje određenim vrednostima kao što su mean, median ako su podaci numeričkog tipa. U ovom primeru ćemo ih samo obrisati."
      ],
      "metadata": {
        "id": "6Ej-W3xDKF6k"
      }
    },
    {
      "cell_type": "code",
      "source": [
        "data.isna().sum()"
      ],
      "metadata": {
        "colab": {
          "base_uri": "https://localhost:8080/"
        },
        "id": "V6sACylKKdIO",
        "outputId": "8ce6753d-271a-4ec7-b83c-9c5c03139a4b"
      },
      "execution_count": null,
      "outputs": [
        {
          "output_type": "execute_result",
          "data": {
            "text/plain": [
              "type                     0\n",
              "fixed acidity           10\n",
              "volatile acidity         8\n",
              "citric acid              3\n",
              "residual sugar           2\n",
              "chlorides                2\n",
              "free sulfur dioxide      0\n",
              "total sulfur dioxide     0\n",
              "density                  0\n",
              "pH                       9\n",
              "sulphates                4\n",
              "alcohol                  0\n",
              "quality                  0\n",
              "dtype: int64"
            ]
          },
          "metadata": {},
          "execution_count": 10
        }
      ]
    },
    {
      "cell_type": "markdown",
      "source": [
        "Vidimo da skup sadrži nedostajuće vrednosti. Sledi brisanje narednom komandom."
      ],
      "metadata": {
        "id": "Cl9Vr8tfzmoN"
      }
    },
    {
      "cell_type": "code",
      "source": [
        "data=data.dropna()"
      ],
      "metadata": {
        "id": "K5y_fdNGzidk"
      },
      "execution_count": null,
      "outputs": []
    },
    {
      "cell_type": "markdown",
      "source": [
        "Analizirajmo malo naš skup podataka. Funkcija describe() daje neke informacije u kolonama, kao što su srednja vrednost, standardno odstupanje, minimum,maksimum itd."
      ],
      "metadata": {
        "id": "QQH1Po-rzwrN"
      }
    },
    {
      "cell_type": "code",
      "source": [
        "data.describe()\n"
      ],
      "metadata": {
        "colab": {
          "base_uri": "https://localhost:8080/",
          "height": 362
        },
        "id": "vLVp62bpLeBv",
        "outputId": "ee624f80-06bf-4b1d-cfc5-8cfa26ae83bd"
      },
      "execution_count": null,
      "outputs": [
        {
          "output_type": "execute_result",
          "data": {
            "text/html": [
              "\n",
              "  <div id=\"df-e69be929-5bf2-4cf7-a5dd-441e45602d71\">\n",
              "    <div class=\"colab-df-container\">\n",
              "      <div>\n",
              "<style scoped>\n",
              "    .dataframe tbody tr th:only-of-type {\n",
              "        vertical-align: middle;\n",
              "    }\n",
              "\n",
              "    .dataframe tbody tr th {\n",
              "        vertical-align: top;\n",
              "    }\n",
              "\n",
              "    .dataframe thead th {\n",
              "        text-align: right;\n",
              "    }\n",
              "</style>\n",
              "<table border=\"1\" class=\"dataframe\">\n",
              "  <thead>\n",
              "    <tr style=\"text-align: right;\">\n",
              "      <th></th>\n",
              "      <th>fixed acidity</th>\n",
              "      <th>volatile acidity</th>\n",
              "      <th>citric acid</th>\n",
              "      <th>residual sugar</th>\n",
              "      <th>chlorides</th>\n",
              "      <th>free sulfur dioxide</th>\n",
              "      <th>total sulfur dioxide</th>\n",
              "      <th>density</th>\n",
              "      <th>pH</th>\n",
              "      <th>sulphates</th>\n",
              "      <th>alcohol</th>\n",
              "      <th>quality</th>\n",
              "    </tr>\n",
              "  </thead>\n",
              "  <tbody>\n",
              "    <tr>\n",
              "      <th>count</th>\n",
              "      <td>6463.000000</td>\n",
              "      <td>6463.000000</td>\n",
              "      <td>6463.000000</td>\n",
              "      <td>6463.000000</td>\n",
              "      <td>6463.000000</td>\n",
              "      <td>6463.000000</td>\n",
              "      <td>6463.000000</td>\n",
              "      <td>6463.000000</td>\n",
              "      <td>6463.000000</td>\n",
              "      <td>6463.000000</td>\n",
              "      <td>6463.000000</td>\n",
              "      <td>6463.000000</td>\n",
              "    </tr>\n",
              "    <tr>\n",
              "      <th>mean</th>\n",
              "      <td>7.217755</td>\n",
              "      <td>0.339589</td>\n",
              "      <td>0.318758</td>\n",
              "      <td>5.443958</td>\n",
              "      <td>0.056056</td>\n",
              "      <td>30.516865</td>\n",
              "      <td>115.694492</td>\n",
              "      <td>0.994698</td>\n",
              "      <td>3.218332</td>\n",
              "      <td>0.531150</td>\n",
              "      <td>10.492825</td>\n",
              "      <td>5.818505</td>\n",
              "    </tr>\n",
              "    <tr>\n",
              "      <th>std</th>\n",
              "      <td>1.297913</td>\n",
              "      <td>0.164639</td>\n",
              "      <td>0.145252</td>\n",
              "      <td>4.756852</td>\n",
              "      <td>0.035076</td>\n",
              "      <td>17.758815</td>\n",
              "      <td>56.526736</td>\n",
              "      <td>0.003001</td>\n",
              "      <td>0.160650</td>\n",
              "      <td>0.148913</td>\n",
              "      <td>1.193128</td>\n",
              "      <td>0.873286</td>\n",
              "    </tr>\n",
              "    <tr>\n",
              "      <th>min</th>\n",
              "      <td>3.800000</td>\n",
              "      <td>0.080000</td>\n",
              "      <td>0.000000</td>\n",
              "      <td>0.600000</td>\n",
              "      <td>0.009000</td>\n",
              "      <td>1.000000</td>\n",
              "      <td>6.000000</td>\n",
              "      <td>0.987110</td>\n",
              "      <td>2.720000</td>\n",
              "      <td>0.220000</td>\n",
              "      <td>8.000000</td>\n",
              "      <td>3.000000</td>\n",
              "    </tr>\n",
              "    <tr>\n",
              "      <th>25%</th>\n",
              "      <td>6.400000</td>\n",
              "      <td>0.230000</td>\n",
              "      <td>0.250000</td>\n",
              "      <td>1.800000</td>\n",
              "      <td>0.038000</td>\n",
              "      <td>17.000000</td>\n",
              "      <td>77.000000</td>\n",
              "      <td>0.992330</td>\n",
              "      <td>3.110000</td>\n",
              "      <td>0.430000</td>\n",
              "      <td>9.500000</td>\n",
              "      <td>5.000000</td>\n",
              "    </tr>\n",
              "    <tr>\n",
              "      <th>50%</th>\n",
              "      <td>7.000000</td>\n",
              "      <td>0.290000</td>\n",
              "      <td>0.310000</td>\n",
              "      <td>3.000000</td>\n",
              "      <td>0.047000</td>\n",
              "      <td>29.000000</td>\n",
              "      <td>118.000000</td>\n",
              "      <td>0.994890</td>\n",
              "      <td>3.210000</td>\n",
              "      <td>0.510000</td>\n",
              "      <td>10.300000</td>\n",
              "      <td>6.000000</td>\n",
              "    </tr>\n",
              "    <tr>\n",
              "      <th>75%</th>\n",
              "      <td>7.700000</td>\n",
              "      <td>0.400000</td>\n",
              "      <td>0.390000</td>\n",
              "      <td>8.100000</td>\n",
              "      <td>0.065000</td>\n",
              "      <td>41.000000</td>\n",
              "      <td>156.000000</td>\n",
              "      <td>0.997000</td>\n",
              "      <td>3.320000</td>\n",
              "      <td>0.600000</td>\n",
              "      <td>11.300000</td>\n",
              "      <td>6.000000</td>\n",
              "    </tr>\n",
              "    <tr>\n",
              "      <th>max</th>\n",
              "      <td>15.900000</td>\n",
              "      <td>1.580000</td>\n",
              "      <td>1.660000</td>\n",
              "      <td>65.800000</td>\n",
              "      <td>0.611000</td>\n",
              "      <td>289.000000</td>\n",
              "      <td>440.000000</td>\n",
              "      <td>1.038980</td>\n",
              "      <td>4.010000</td>\n",
              "      <td>2.000000</td>\n",
              "      <td>14.900000</td>\n",
              "      <td>9.000000</td>\n",
              "    </tr>\n",
              "  </tbody>\n",
              "</table>\n",
              "</div>\n",
              "      <button class=\"colab-df-convert\" onclick=\"convertToInteractive('df-e69be929-5bf2-4cf7-a5dd-441e45602d71')\"\n",
              "              title=\"Convert this dataframe to an interactive table.\"\n",
              "              style=\"display:none;\">\n",
              "        \n",
              "  <svg xmlns=\"http://www.w3.org/2000/svg\" height=\"24px\"viewBox=\"0 0 24 24\"\n",
              "       width=\"24px\">\n",
              "    <path d=\"M0 0h24v24H0V0z\" fill=\"none\"/>\n",
              "    <path d=\"M18.56 5.44l.94 2.06.94-2.06 2.06-.94-2.06-.94-.94-2.06-.94 2.06-2.06.94zm-11 1L8.5 8.5l.94-2.06 2.06-.94-2.06-.94L8.5 2.5l-.94 2.06-2.06.94zm10 10l.94 2.06.94-2.06 2.06-.94-2.06-.94-.94-2.06-.94 2.06-2.06.94z\"/><path d=\"M17.41 7.96l-1.37-1.37c-.4-.4-.92-.59-1.43-.59-.52 0-1.04.2-1.43.59L10.3 9.45l-7.72 7.72c-.78.78-.78 2.05 0 2.83L4 21.41c.39.39.9.59 1.41.59.51 0 1.02-.2 1.41-.59l7.78-7.78 2.81-2.81c.8-.78.8-2.07 0-2.86zM5.41 20L4 18.59l7.72-7.72 1.47 1.35L5.41 20z\"/>\n",
              "  </svg>\n",
              "      </button>\n",
              "      \n",
              "  <style>\n",
              "    .colab-df-container {\n",
              "      display:flex;\n",
              "      flex-wrap:wrap;\n",
              "      gap: 12px;\n",
              "    }\n",
              "\n",
              "    .colab-df-convert {\n",
              "      background-color: #E8F0FE;\n",
              "      border: none;\n",
              "      border-radius: 50%;\n",
              "      cursor: pointer;\n",
              "      display: none;\n",
              "      fill: #1967D2;\n",
              "      height: 32px;\n",
              "      padding: 0 0 0 0;\n",
              "      width: 32px;\n",
              "    }\n",
              "\n",
              "    .colab-df-convert:hover {\n",
              "      background-color: #E2EBFA;\n",
              "      box-shadow: 0px 1px 2px rgba(60, 64, 67, 0.3), 0px 1px 3px 1px rgba(60, 64, 67, 0.15);\n",
              "      fill: #174EA6;\n",
              "    }\n",
              "\n",
              "    [theme=dark] .colab-df-convert {\n",
              "      background-color: #3B4455;\n",
              "      fill: #D2E3FC;\n",
              "    }\n",
              "\n",
              "    [theme=dark] .colab-df-convert:hover {\n",
              "      background-color: #434B5C;\n",
              "      box-shadow: 0px 1px 3px 1px rgba(0, 0, 0, 0.15);\n",
              "      filter: drop-shadow(0px 1px 2px rgba(0, 0, 0, 0.3));\n",
              "      fill: #FFFFFF;\n",
              "    }\n",
              "  </style>\n",
              "\n",
              "      <script>\n",
              "        const buttonEl =\n",
              "          document.querySelector('#df-e69be929-5bf2-4cf7-a5dd-441e45602d71 button.colab-df-convert');\n",
              "        buttonEl.style.display =\n",
              "          google.colab.kernel.accessAllowed ? 'block' : 'none';\n",
              "\n",
              "        async function convertToInteractive(key) {\n",
              "          const element = document.querySelector('#df-e69be929-5bf2-4cf7-a5dd-441e45602d71');\n",
              "          const dataTable =\n",
              "            await google.colab.kernel.invokeFunction('convertToInteractive',\n",
              "                                                     [key], {});\n",
              "          if (!dataTable) return;\n",
              "\n",
              "          const docLinkHtml = 'Like what you see? Visit the ' +\n",
              "            '<a target=\"_blank\" href=https://colab.research.google.com/notebooks/data_table.ipynb>data table notebook</a>'\n",
              "            + ' to learn more about interactive tables.';\n",
              "          element.innerHTML = '';\n",
              "          dataTable['output_type'] = 'display_data';\n",
              "          await google.colab.output.renderOutput(dataTable, element);\n",
              "          const docLink = document.createElement('div');\n",
              "          docLink.innerHTML = docLinkHtml;\n",
              "          element.appendChild(docLink);\n",
              "        }\n",
              "      </script>\n",
              "    </div>\n",
              "  </div>\n",
              "  "
            ],
            "text/plain": [
              "       fixed acidity  volatile acidity  citric acid  residual sugar  \\\n",
              "count    6463.000000       6463.000000  6463.000000     6463.000000   \n",
              "mean        7.217755          0.339589     0.318758        5.443958   \n",
              "std         1.297913          0.164639     0.145252        4.756852   \n",
              "min         3.800000          0.080000     0.000000        0.600000   \n",
              "25%         6.400000          0.230000     0.250000        1.800000   \n",
              "50%         7.000000          0.290000     0.310000        3.000000   \n",
              "75%         7.700000          0.400000     0.390000        8.100000   \n",
              "max        15.900000          1.580000     1.660000       65.800000   \n",
              "\n",
              "         chlorides  free sulfur dioxide  total sulfur dioxide      density  \\\n",
              "count  6463.000000          6463.000000           6463.000000  6463.000000   \n",
              "mean      0.056056            30.516865            115.694492     0.994698   \n",
              "std       0.035076            17.758815             56.526736     0.003001   \n",
              "min       0.009000             1.000000              6.000000     0.987110   \n",
              "25%       0.038000            17.000000             77.000000     0.992330   \n",
              "50%       0.047000            29.000000            118.000000     0.994890   \n",
              "75%       0.065000            41.000000            156.000000     0.997000   \n",
              "max       0.611000           289.000000            440.000000     1.038980   \n",
              "\n",
              "                pH    sulphates      alcohol      quality  \n",
              "count  6463.000000  6463.000000  6463.000000  6463.000000  \n",
              "mean      3.218332     0.531150    10.492825     5.818505  \n",
              "std       0.160650     0.148913     1.193128     0.873286  \n",
              "min       2.720000     0.220000     8.000000     3.000000  \n",
              "25%       3.110000     0.430000     9.500000     5.000000  \n",
              "50%       3.210000     0.510000    10.300000     6.000000  \n",
              "75%       3.320000     0.600000    11.300000     6.000000  \n",
              "max       4.010000     2.000000    14.900000     9.000000  "
            ]
          },
          "metadata": {},
          "execution_count": 12
        }
      ]
    },
    {
      "cell_type": "markdown",
      "source": [
        "Pozivajući funkciju info() možemo saznati nešto više o našim podacima. Jedan bitan podatak je i tip svakog atributa koji je označen kolonom Dtype."
      ],
      "metadata": {
        "id": "c9mOqxdq0BiN"
      }
    },
    {
      "cell_type": "code",
      "source": [
        "data.info()"
      ],
      "metadata": {
        "colab": {
          "base_uri": "https://localhost:8080/"
        },
        "id": "zhwPI2ktRHAb",
        "outputId": "73428ee6-3ea4-4cdc-e4d0-68910004458a"
      },
      "execution_count": null,
      "outputs": [
        {
          "output_type": "stream",
          "name": "stdout",
          "text": [
            "<class 'pandas.core.frame.DataFrame'>\n",
            "Int64Index: 6463 entries, 0 to 6496\n",
            "Data columns (total 13 columns):\n",
            " #   Column                Non-Null Count  Dtype  \n",
            "---  ------                --------------  -----  \n",
            " 0   type                  6463 non-null   object \n",
            " 1   fixed acidity         6463 non-null   float64\n",
            " 2   volatile acidity      6463 non-null   float64\n",
            " 3   citric acid           6463 non-null   float64\n",
            " 4   residual sugar        6463 non-null   float64\n",
            " 5   chlorides             6463 non-null   float64\n",
            " 6   free sulfur dioxide   6463 non-null   float64\n",
            " 7   total sulfur dioxide  6463 non-null   float64\n",
            " 8   density               6463 non-null   float64\n",
            " 9   pH                    6463 non-null   float64\n",
            " 10  sulphates             6463 non-null   float64\n",
            " 11  alcohol               6463 non-null   float64\n",
            " 12  quality               6463 non-null   int64  \n",
            "dtypes: float64(11), int64(1), object(1)\n",
            "memory usage: 706.9+ KB\n"
          ]
        }
      ]
    },
    {
      "cell_type": "markdown",
      "source": [
        "Ukoliko pozovemo data.shape dobićemo iz koliko vrsta i kolona se sastoji naš skup podataka"
      ],
      "metadata": {
        "id": "RDHk5XLd0WXN"
      }
    },
    {
      "cell_type": "code",
      "source": [
        "data.shape"
      ],
      "metadata": {
        "colab": {
          "base_uri": "https://localhost:8080/"
        },
        "id": "VBFcAAOyfwmO",
        "outputId": "b6e8bc90-bf90-4367-8391-3fc25a1010f9"
      },
      "execution_count": null,
      "outputs": [
        {
          "output_type": "execute_result",
          "data": {
            "text/plain": [
              "(6463, 13)"
            ]
          },
          "metadata": {},
          "execution_count": 14
        }
      ]
    },
    {
      "cell_type": "markdown",
      "source": [
        "Sada ćemo napraviti kopiju naše skupa podataka i smestiti u novu promenljivu. Pozivom funkcije info(), videli smo da je kolona type kategorijskoh tipa, što nije pogodno za funkcije predikcije. Zato ćemo izvršiti One-hot-encodings (enkodiranje) nad tom kolonom, funkcijom pd.get.dummies(). Argumenti koji joj je šalju su, respektivno, skup podataka, kolona nad kojom se vrši enodiranje i prefiks koji će sadržati novoformirane kolone u svom nazivu.\n",
        "Zatim pozivom data1.head dobijamo prvih 5 vrsta našeg novog skupa."
      ],
      "metadata": {
        "id": "6U3ZtGBo0gH6"
      }
    },
    {
      "cell_type": "code",
      "source": [
        "data1=data.copy()\n",
        "data1=pd.get_dummies(data1, columns=['type'],prefix=['type'])\n",
        "data1.head()"
      ],
      "metadata": {
        "colab": {
          "base_uri": "https://localhost:8080/",
          "height": 250
        },
        "id": "55SH5c8Cf9__",
        "outputId": "c7beb44f-7d22-4310-ab4d-43936e011c7d"
      },
      "execution_count": null,
      "outputs": [
        {
          "output_type": "execute_result",
          "data": {
            "text/html": [
              "\n",
              "  <div id=\"df-5b0ab9ef-92f7-42ee-a92d-8c59c148d959\">\n",
              "    <div class=\"colab-df-container\">\n",
              "      <div>\n",
              "<style scoped>\n",
              "    .dataframe tbody tr th:only-of-type {\n",
              "        vertical-align: middle;\n",
              "    }\n",
              "\n",
              "    .dataframe tbody tr th {\n",
              "        vertical-align: top;\n",
              "    }\n",
              "\n",
              "    .dataframe thead th {\n",
              "        text-align: right;\n",
              "    }\n",
              "</style>\n",
              "<table border=\"1\" class=\"dataframe\">\n",
              "  <thead>\n",
              "    <tr style=\"text-align: right;\">\n",
              "      <th></th>\n",
              "      <th>fixed acidity</th>\n",
              "      <th>volatile acidity</th>\n",
              "      <th>citric acid</th>\n",
              "      <th>residual sugar</th>\n",
              "      <th>chlorides</th>\n",
              "      <th>free sulfur dioxide</th>\n",
              "      <th>total sulfur dioxide</th>\n",
              "      <th>density</th>\n",
              "      <th>pH</th>\n",
              "      <th>sulphates</th>\n",
              "      <th>alcohol</th>\n",
              "      <th>quality</th>\n",
              "      <th>type_red</th>\n",
              "      <th>type_white</th>\n",
              "    </tr>\n",
              "  </thead>\n",
              "  <tbody>\n",
              "    <tr>\n",
              "      <th>0</th>\n",
              "      <td>7.0</td>\n",
              "      <td>0.27</td>\n",
              "      <td>0.36</td>\n",
              "      <td>20.7</td>\n",
              "      <td>0.045</td>\n",
              "      <td>45.0</td>\n",
              "      <td>170.0</td>\n",
              "      <td>1.0010</td>\n",
              "      <td>3.00</td>\n",
              "      <td>0.45</td>\n",
              "      <td>8.8</td>\n",
              "      <td>6</td>\n",
              "      <td>0</td>\n",
              "      <td>1</td>\n",
              "    </tr>\n",
              "    <tr>\n",
              "      <th>1</th>\n",
              "      <td>6.3</td>\n",
              "      <td>0.30</td>\n",
              "      <td>0.34</td>\n",
              "      <td>1.6</td>\n",
              "      <td>0.049</td>\n",
              "      <td>14.0</td>\n",
              "      <td>132.0</td>\n",
              "      <td>0.9940</td>\n",
              "      <td>3.30</td>\n",
              "      <td>0.49</td>\n",
              "      <td>9.5</td>\n",
              "      <td>6</td>\n",
              "      <td>0</td>\n",
              "      <td>1</td>\n",
              "    </tr>\n",
              "    <tr>\n",
              "      <th>2</th>\n",
              "      <td>8.1</td>\n",
              "      <td>0.28</td>\n",
              "      <td>0.40</td>\n",
              "      <td>6.9</td>\n",
              "      <td>0.050</td>\n",
              "      <td>30.0</td>\n",
              "      <td>97.0</td>\n",
              "      <td>0.9951</td>\n",
              "      <td>3.26</td>\n",
              "      <td>0.44</td>\n",
              "      <td>10.1</td>\n",
              "      <td>6</td>\n",
              "      <td>0</td>\n",
              "      <td>1</td>\n",
              "    </tr>\n",
              "    <tr>\n",
              "      <th>3</th>\n",
              "      <td>7.2</td>\n",
              "      <td>0.23</td>\n",
              "      <td>0.32</td>\n",
              "      <td>8.5</td>\n",
              "      <td>0.058</td>\n",
              "      <td>47.0</td>\n",
              "      <td>186.0</td>\n",
              "      <td>0.9956</td>\n",
              "      <td>3.19</td>\n",
              "      <td>0.40</td>\n",
              "      <td>9.9</td>\n",
              "      <td>6</td>\n",
              "      <td>0</td>\n",
              "      <td>1</td>\n",
              "    </tr>\n",
              "    <tr>\n",
              "      <th>4</th>\n",
              "      <td>7.2</td>\n",
              "      <td>0.23</td>\n",
              "      <td>0.32</td>\n",
              "      <td>8.5</td>\n",
              "      <td>0.058</td>\n",
              "      <td>47.0</td>\n",
              "      <td>186.0</td>\n",
              "      <td>0.9956</td>\n",
              "      <td>3.19</td>\n",
              "      <td>0.40</td>\n",
              "      <td>9.9</td>\n",
              "      <td>6</td>\n",
              "      <td>0</td>\n",
              "      <td>1</td>\n",
              "    </tr>\n",
              "  </tbody>\n",
              "</table>\n",
              "</div>\n",
              "      <button class=\"colab-df-convert\" onclick=\"convertToInteractive('df-5b0ab9ef-92f7-42ee-a92d-8c59c148d959')\"\n",
              "              title=\"Convert this dataframe to an interactive table.\"\n",
              "              style=\"display:none;\">\n",
              "        \n",
              "  <svg xmlns=\"http://www.w3.org/2000/svg\" height=\"24px\"viewBox=\"0 0 24 24\"\n",
              "       width=\"24px\">\n",
              "    <path d=\"M0 0h24v24H0V0z\" fill=\"none\"/>\n",
              "    <path d=\"M18.56 5.44l.94 2.06.94-2.06 2.06-.94-2.06-.94-.94-2.06-.94 2.06-2.06.94zm-11 1L8.5 8.5l.94-2.06 2.06-.94-2.06-.94L8.5 2.5l-.94 2.06-2.06.94zm10 10l.94 2.06.94-2.06 2.06-.94-2.06-.94-.94-2.06-.94 2.06-2.06.94z\"/><path d=\"M17.41 7.96l-1.37-1.37c-.4-.4-.92-.59-1.43-.59-.52 0-1.04.2-1.43.59L10.3 9.45l-7.72 7.72c-.78.78-.78 2.05 0 2.83L4 21.41c.39.39.9.59 1.41.59.51 0 1.02-.2 1.41-.59l7.78-7.78 2.81-2.81c.8-.78.8-2.07 0-2.86zM5.41 20L4 18.59l7.72-7.72 1.47 1.35L5.41 20z\"/>\n",
              "  </svg>\n",
              "      </button>\n",
              "      \n",
              "  <style>\n",
              "    .colab-df-container {\n",
              "      display:flex;\n",
              "      flex-wrap:wrap;\n",
              "      gap: 12px;\n",
              "    }\n",
              "\n",
              "    .colab-df-convert {\n",
              "      background-color: #E8F0FE;\n",
              "      border: none;\n",
              "      border-radius: 50%;\n",
              "      cursor: pointer;\n",
              "      display: none;\n",
              "      fill: #1967D2;\n",
              "      height: 32px;\n",
              "      padding: 0 0 0 0;\n",
              "      width: 32px;\n",
              "    }\n",
              "\n",
              "    .colab-df-convert:hover {\n",
              "      background-color: #E2EBFA;\n",
              "      box-shadow: 0px 1px 2px rgba(60, 64, 67, 0.3), 0px 1px 3px 1px rgba(60, 64, 67, 0.15);\n",
              "      fill: #174EA6;\n",
              "    }\n",
              "\n",
              "    [theme=dark] .colab-df-convert {\n",
              "      background-color: #3B4455;\n",
              "      fill: #D2E3FC;\n",
              "    }\n",
              "\n",
              "    [theme=dark] .colab-df-convert:hover {\n",
              "      background-color: #434B5C;\n",
              "      box-shadow: 0px 1px 3px 1px rgba(0, 0, 0, 0.15);\n",
              "      filter: drop-shadow(0px 1px 2px rgba(0, 0, 0, 0.3));\n",
              "      fill: #FFFFFF;\n",
              "    }\n",
              "  </style>\n",
              "\n",
              "      <script>\n",
              "        const buttonEl =\n",
              "          document.querySelector('#df-5b0ab9ef-92f7-42ee-a92d-8c59c148d959 button.colab-df-convert');\n",
              "        buttonEl.style.display =\n",
              "          google.colab.kernel.accessAllowed ? 'block' : 'none';\n",
              "\n",
              "        async function convertToInteractive(key) {\n",
              "          const element = document.querySelector('#df-5b0ab9ef-92f7-42ee-a92d-8c59c148d959');\n",
              "          const dataTable =\n",
              "            await google.colab.kernel.invokeFunction('convertToInteractive',\n",
              "                                                     [key], {});\n",
              "          if (!dataTable) return;\n",
              "\n",
              "          const docLinkHtml = 'Like what you see? Visit the ' +\n",
              "            '<a target=\"_blank\" href=https://colab.research.google.com/notebooks/data_table.ipynb>data table notebook</a>'\n",
              "            + ' to learn more about interactive tables.';\n",
              "          element.innerHTML = '';\n",
              "          dataTable['output_type'] = 'display_data';\n",
              "          await google.colab.output.renderOutput(dataTable, element);\n",
              "          const docLink = document.createElement('div');\n",
              "          docLink.innerHTML = docLinkHtml;\n",
              "          element.appendChild(docLink);\n",
              "        }\n",
              "      </script>\n",
              "    </div>\n",
              "  </div>\n",
              "  "
            ],
            "text/plain": [
              "   fixed acidity  volatile acidity  citric acid  residual sugar  chlorides  \\\n",
              "0            7.0              0.27         0.36            20.7      0.045   \n",
              "1            6.3              0.30         0.34             1.6      0.049   \n",
              "2            8.1              0.28         0.40             6.9      0.050   \n",
              "3            7.2              0.23         0.32             8.5      0.058   \n",
              "4            7.2              0.23         0.32             8.5      0.058   \n",
              "\n",
              "   free sulfur dioxide  total sulfur dioxide  density    pH  sulphates  \\\n",
              "0                 45.0                 170.0   1.0010  3.00       0.45   \n",
              "1                 14.0                 132.0   0.9940  3.30       0.49   \n",
              "2                 30.0                  97.0   0.9951  3.26       0.44   \n",
              "3                 47.0                 186.0   0.9956  3.19       0.40   \n",
              "4                 47.0                 186.0   0.9956  3.19       0.40   \n",
              "\n",
              "   alcohol  quality  type_red  type_white  \n",
              "0      8.8        6         0           1  \n",
              "1      9.5        6         0           1  \n",
              "2     10.1        6         0           1  \n",
              "3      9.9        6         0           1  \n",
              "4      9.9        6         0           1  "
            ]
          },
          "metadata": {},
          "execution_count": 15
        }
      ]
    },
    {
      "cell_type": "markdown",
      "source": [
        "Ukoliko malo bolje pogledamo kolonu '**quality**' primetićemo da se vrednosti kreću od 3 do 9."
      ],
      "metadata": {
        "id": "kCjXz3xR29bl"
      }
    },
    {
      "cell_type": "code",
      "source": [
        "data1['quality'].value_counts().sort_index()"
      ],
      "metadata": {
        "colab": {
          "base_uri": "https://localhost:8080/"
        },
        "id": "S0MqZOlQ17j_",
        "outputId": "868cff2c-af35-44cc-9c52-c890072a76d4"
      },
      "execution_count": null,
      "outputs": [
        {
          "output_type": "execute_result",
          "data": {
            "text/plain": [
              "3      30\n",
              "4     214\n",
              "5    2128\n",
              "6    2820\n",
              "7    1074\n",
              "8     192\n",
              "9       5\n",
              "Name: quality, dtype: int64"
            ]
          },
          "metadata": {},
          "execution_count": 16
        }
      ]
    },
    {
      "cell_type": "markdown",
      "source": [
        "Hajde da ove vrednosti klasifikujemo u binarnu promenljivu dodajući novu kolonu pod nazivom \"is_good_wine\". Ukoliko je vrednost \"quality\" veća od 6, ovaj atribut će imati vrednst 1, a ukoliko je manja 0."
      ],
      "metadata": {
        "id": "vRjXf_gx3Ctr"
      }
    },
    {
      "cell_type": "code",
      "source": [
        "data1['is_good_wine'] = [\n",
        "    1 if quality >= 6 else 0 for quality in data1['quality']\n",
        "]\n",
        "data1.drop('quality', axis=1, inplace=True)\n",
        "data1.head()\n"
      ],
      "metadata": {
        "colab": {
          "base_uri": "https://localhost:8080/",
          "height": 267
        },
        "id": "2ZJ5REDsmFNM",
        "outputId": "160a7e1e-b173-4abd-bbd0-7e04395c0eac"
      },
      "execution_count": null,
      "outputs": [
        {
          "output_type": "execute_result",
          "data": {
            "text/html": [
              "\n",
              "  <div id=\"df-d75a0866-874d-4422-ab92-bcc49b824d1e\">\n",
              "    <div class=\"colab-df-container\">\n",
              "      <div>\n",
              "<style scoped>\n",
              "    .dataframe tbody tr th:only-of-type {\n",
              "        vertical-align: middle;\n",
              "    }\n",
              "\n",
              "    .dataframe tbody tr th {\n",
              "        vertical-align: top;\n",
              "    }\n",
              "\n",
              "    .dataframe thead th {\n",
              "        text-align: right;\n",
              "    }\n",
              "</style>\n",
              "<table border=\"1\" class=\"dataframe\">\n",
              "  <thead>\n",
              "    <tr style=\"text-align: right;\">\n",
              "      <th></th>\n",
              "      <th>fixed acidity</th>\n",
              "      <th>volatile acidity</th>\n",
              "      <th>citric acid</th>\n",
              "      <th>residual sugar</th>\n",
              "      <th>chlorides</th>\n",
              "      <th>free sulfur dioxide</th>\n",
              "      <th>total sulfur dioxide</th>\n",
              "      <th>density</th>\n",
              "      <th>pH</th>\n",
              "      <th>sulphates</th>\n",
              "      <th>alcohol</th>\n",
              "      <th>type_red</th>\n",
              "      <th>type_white</th>\n",
              "      <th>is_good_wine</th>\n",
              "    </tr>\n",
              "  </thead>\n",
              "  <tbody>\n",
              "    <tr>\n",
              "      <th>0</th>\n",
              "      <td>7.0</td>\n",
              "      <td>0.27</td>\n",
              "      <td>0.36</td>\n",
              "      <td>20.7</td>\n",
              "      <td>0.045</td>\n",
              "      <td>45.0</td>\n",
              "      <td>170.0</td>\n",
              "      <td>1.0010</td>\n",
              "      <td>3.00</td>\n",
              "      <td>0.45</td>\n",
              "      <td>8.8</td>\n",
              "      <td>0</td>\n",
              "      <td>1</td>\n",
              "      <td>1</td>\n",
              "    </tr>\n",
              "    <tr>\n",
              "      <th>1</th>\n",
              "      <td>6.3</td>\n",
              "      <td>0.30</td>\n",
              "      <td>0.34</td>\n",
              "      <td>1.6</td>\n",
              "      <td>0.049</td>\n",
              "      <td>14.0</td>\n",
              "      <td>132.0</td>\n",
              "      <td>0.9940</td>\n",
              "      <td>3.30</td>\n",
              "      <td>0.49</td>\n",
              "      <td>9.5</td>\n",
              "      <td>0</td>\n",
              "      <td>1</td>\n",
              "      <td>1</td>\n",
              "    </tr>\n",
              "    <tr>\n",
              "      <th>2</th>\n",
              "      <td>8.1</td>\n",
              "      <td>0.28</td>\n",
              "      <td>0.40</td>\n",
              "      <td>6.9</td>\n",
              "      <td>0.050</td>\n",
              "      <td>30.0</td>\n",
              "      <td>97.0</td>\n",
              "      <td>0.9951</td>\n",
              "      <td>3.26</td>\n",
              "      <td>0.44</td>\n",
              "      <td>10.1</td>\n",
              "      <td>0</td>\n",
              "      <td>1</td>\n",
              "      <td>1</td>\n",
              "    </tr>\n",
              "    <tr>\n",
              "      <th>3</th>\n",
              "      <td>7.2</td>\n",
              "      <td>0.23</td>\n",
              "      <td>0.32</td>\n",
              "      <td>8.5</td>\n",
              "      <td>0.058</td>\n",
              "      <td>47.0</td>\n",
              "      <td>186.0</td>\n",
              "      <td>0.9956</td>\n",
              "      <td>3.19</td>\n",
              "      <td>0.40</td>\n",
              "      <td>9.9</td>\n",
              "      <td>0</td>\n",
              "      <td>1</td>\n",
              "      <td>1</td>\n",
              "    </tr>\n",
              "    <tr>\n",
              "      <th>4</th>\n",
              "      <td>7.2</td>\n",
              "      <td>0.23</td>\n",
              "      <td>0.32</td>\n",
              "      <td>8.5</td>\n",
              "      <td>0.058</td>\n",
              "      <td>47.0</td>\n",
              "      <td>186.0</td>\n",
              "      <td>0.9956</td>\n",
              "      <td>3.19</td>\n",
              "      <td>0.40</td>\n",
              "      <td>9.9</td>\n",
              "      <td>0</td>\n",
              "      <td>1</td>\n",
              "      <td>1</td>\n",
              "    </tr>\n",
              "  </tbody>\n",
              "</table>\n",
              "</div>\n",
              "      <button class=\"colab-df-convert\" onclick=\"convertToInteractive('df-d75a0866-874d-4422-ab92-bcc49b824d1e')\"\n",
              "              title=\"Convert this dataframe to an interactive table.\"\n",
              "              style=\"display:none;\">\n",
              "        \n",
              "  <svg xmlns=\"http://www.w3.org/2000/svg\" height=\"24px\"viewBox=\"0 0 24 24\"\n",
              "       width=\"24px\">\n",
              "    <path d=\"M0 0h24v24H0V0z\" fill=\"none\"/>\n",
              "    <path d=\"M18.56 5.44l.94 2.06.94-2.06 2.06-.94-2.06-.94-.94-2.06-.94 2.06-2.06.94zm-11 1L8.5 8.5l.94-2.06 2.06-.94-2.06-.94L8.5 2.5l-.94 2.06-2.06.94zm10 10l.94 2.06.94-2.06 2.06-.94-2.06-.94-.94-2.06-.94 2.06-2.06.94z\"/><path d=\"M17.41 7.96l-1.37-1.37c-.4-.4-.92-.59-1.43-.59-.52 0-1.04.2-1.43.59L10.3 9.45l-7.72 7.72c-.78.78-.78 2.05 0 2.83L4 21.41c.39.39.9.59 1.41.59.51 0 1.02-.2 1.41-.59l7.78-7.78 2.81-2.81c.8-.78.8-2.07 0-2.86zM5.41 20L4 18.59l7.72-7.72 1.47 1.35L5.41 20z\"/>\n",
              "  </svg>\n",
              "      </button>\n",
              "      \n",
              "  <style>\n",
              "    .colab-df-container {\n",
              "      display:flex;\n",
              "      flex-wrap:wrap;\n",
              "      gap: 12px;\n",
              "    }\n",
              "\n",
              "    .colab-df-convert {\n",
              "      background-color: #E8F0FE;\n",
              "      border: none;\n",
              "      border-radius: 50%;\n",
              "      cursor: pointer;\n",
              "      display: none;\n",
              "      fill: #1967D2;\n",
              "      height: 32px;\n",
              "      padding: 0 0 0 0;\n",
              "      width: 32px;\n",
              "    }\n",
              "\n",
              "    .colab-df-convert:hover {\n",
              "      background-color: #E2EBFA;\n",
              "      box-shadow: 0px 1px 2px rgba(60, 64, 67, 0.3), 0px 1px 3px 1px rgba(60, 64, 67, 0.15);\n",
              "      fill: #174EA6;\n",
              "    }\n",
              "\n",
              "    [theme=dark] .colab-df-convert {\n",
              "      background-color: #3B4455;\n",
              "      fill: #D2E3FC;\n",
              "    }\n",
              "\n",
              "    [theme=dark] .colab-df-convert:hover {\n",
              "      background-color: #434B5C;\n",
              "      box-shadow: 0px 1px 3px 1px rgba(0, 0, 0, 0.15);\n",
              "      filter: drop-shadow(0px 1px 2px rgba(0, 0, 0, 0.3));\n",
              "      fill: #FFFFFF;\n",
              "    }\n",
              "  </style>\n",
              "\n",
              "      <script>\n",
              "        const buttonEl =\n",
              "          document.querySelector('#df-d75a0866-874d-4422-ab92-bcc49b824d1e button.colab-df-convert');\n",
              "        buttonEl.style.display =\n",
              "          google.colab.kernel.accessAllowed ? 'block' : 'none';\n",
              "\n",
              "        async function convertToInteractive(key) {\n",
              "          const element = document.querySelector('#df-d75a0866-874d-4422-ab92-bcc49b824d1e');\n",
              "          const dataTable =\n",
              "            await google.colab.kernel.invokeFunction('convertToInteractive',\n",
              "                                                     [key], {});\n",
              "          if (!dataTable) return;\n",
              "\n",
              "          const docLinkHtml = 'Like what you see? Visit the ' +\n",
              "            '<a target=\"_blank\" href=https://colab.research.google.com/notebooks/data_table.ipynb>data table notebook</a>'\n",
              "            + ' to learn more about interactive tables.';\n",
              "          element.innerHTML = '';\n",
              "          dataTable['output_type'] = 'display_data';\n",
              "          await google.colab.output.renderOutput(dataTable, element);\n",
              "          const docLink = document.createElement('div');\n",
              "          docLink.innerHTML = docLinkHtml;\n",
              "          element.appendChild(docLink);\n",
              "        }\n",
              "      </script>\n",
              "    </div>\n",
              "  </div>\n",
              "  "
            ],
            "text/plain": [
              "   fixed acidity  volatile acidity  citric acid  residual sugar  chlorides  \\\n",
              "0            7.0              0.27         0.36            20.7      0.045   \n",
              "1            6.3              0.30         0.34             1.6      0.049   \n",
              "2            8.1              0.28         0.40             6.9      0.050   \n",
              "3            7.2              0.23         0.32             8.5      0.058   \n",
              "4            7.2              0.23         0.32             8.5      0.058   \n",
              "\n",
              "   free sulfur dioxide  total sulfur dioxide  density    pH  sulphates  \\\n",
              "0                 45.0                 170.0   1.0010  3.00       0.45   \n",
              "1                 14.0                 132.0   0.9940  3.30       0.49   \n",
              "2                 30.0                  97.0   0.9951  3.26       0.44   \n",
              "3                 47.0                 186.0   0.9956  3.19       0.40   \n",
              "4                 47.0                 186.0   0.9956  3.19       0.40   \n",
              "\n",
              "   alcohol  type_red  type_white  is_good_wine  \n",
              "0      8.8         0           1             1  \n",
              "1      9.5         0           1             1  \n",
              "2     10.1         0           1             1  \n",
              "3      9.9         0           1             1  \n",
              "4      9.9         0           1             1  "
            ]
          },
          "metadata": {},
          "execution_count": 17
        }
      ]
    },
    {
      "cell_type": "markdown",
      "source": [
        "Izvršavanjem sledećeg koda vidimo da imamo 4091 vrstu vina koja se klasifikuju kao dobra, a 2372 kao loša."
      ],
      "metadata": {
        "id": "4pptr5M-5ZMC"
      }
    },
    {
      "cell_type": "code",
      "source": [
        "data1['is_good_wine'].value_counts()"
      ],
      "metadata": {
        "colab": {
          "base_uri": "https://localhost:8080/"
        },
        "id": "7GL87eC53ZHv",
        "outputId": "292fd3d7-7210-4233-86f8-bed4ad09eb9d"
      },
      "execution_count": null,
      "outputs": [
        {
          "output_type": "execute_result",
          "data": {
            "text/plain": [
              "1    4091\n",
              "0    2372\n",
              "Name: is_good_wine, dtype: int64"
            ]
          },
          "metadata": {},
          "execution_count": 18
        }
      ]
    },
    {
      "cell_type": "markdown",
      "source": [
        "# Podela na train i test skup\n",
        "\n",
        "Model koji pravimo će prediktovati da li vino pripada grupi dobrih ili loših vina. Dakle, vršiće se binarna klasifikacija.\n",
        "\n",
        "Podatke ćemo podeliti u razmeri 80:20 na skup za treniranje i testiranje. Model će prediktovati da li vino pripada grupi dobrih ili loših vina.\n",
        "\n",
        "\n",
        "\n",
        "\n"
      ],
      "metadata": {
        "id": "kIxD4JTI5l_Z"
      }
    },
    {
      "cell_type": "code",
      "source": [
        "from sklearn.model_selection import train_test_split\n",
        "\n",
        "X = data1.drop('is_good_wine', axis=1)\n",
        "y = data1['is_good_wine']\n",
        "\n",
        "X_train, X_test, y_train, y_test = train_test_split(\n",
        "    X, y, \n",
        "    test_size=0.2, random_state=42\n",
        ")"
      ],
      "metadata": {
        "id": "wPwUK2NCnLD4"
      },
      "execution_count": null,
      "outputs": []
    },
    {
      "cell_type": "markdown",
      "source": [
        "Pogledajmo, trening skup obuhvata 5170 vrsta. Ostalih 1293 pripada tesnom skupu."
      ],
      "metadata": {
        "id": "JAo7s_8Q6AaX"
      }
    },
    {
      "cell_type": "code",
      "source": [
        "X_train.shape\n"
      ],
      "metadata": {
        "colab": {
          "base_uri": "https://localhost:8080/"
        },
        "id": "2WJL7EQunUFK",
        "outputId": "6836c533-9b7e-4196-8d9a-2510ca100521"
      },
      "execution_count": null,
      "outputs": [
        {
          "output_type": "execute_result",
          "data": {
            "text/plain": [
              "(5170, 13)"
            ]
          },
          "metadata": {},
          "execution_count": 20
        }
      ]
    },
    {
      "cell_type": "markdown",
      "source": [
        "## Skaliranje podataka\n",
        "\n",
        "Kolone kao što su sulfati i limunska kiselina imaju vrednosti blizu nule, dok je ukupan sumpor dioksid u stotinama. Neuronska će misliti da je vrednost na višoj skali važnija, zato se vrši skaliranje podataka."
      ],
      "metadata": {
        "id": "GP9-EOUC6oPA"
      }
    },
    {
      "cell_type": "code",
      "source": [
        "from sklearn.preprocessing import StandardScaler\n",
        "\n",
        "scaler = StandardScaler()\n",
        "X_train_scaled = scaler.fit_transform(X_train)\n",
        "X_test_scaled = scaler.transform(X_test)"
      ],
      "metadata": {
        "id": "JWD1SCEHnZkv"
      },
      "execution_count": null,
      "outputs": []
    },
    {
      "cell_type": "markdown",
      "source": [
        "Štampanjem kolone X_train_scaled vidimo da je skaliranje uspešno izvršeno."
      ],
      "metadata": {
        "id": "QAIcN8-97Dm6"
      }
    },
    {
      "cell_type": "code",
      "source": [
        "print(X_train_scaled)"
      ],
      "metadata": {
        "colab": {
          "base_uri": "https://localhost:8080/"
        },
        "id": "9bIYIdrGno2A",
        "outputId": "5d1f9b06-01a3-4c6f-e4ec-3e83975aa75c"
      },
      "execution_count": null,
      "outputs": [
        {
          "output_type": "stream",
          "name": "stdout",
          "text": [
            "[[-0.86265684  0.56588915  0.22079121 ... -1.66472797 -0.57094748\n",
            "   0.57094748]\n",
            " [ 0.99186667 -1.02945526  2.92098728 ...  1.63149383 -0.57094748\n",
            "   0.57094748]\n",
            " [-1.55810316 -0.72265826  0.98238498 ... -0.62233304 -0.57094748\n",
            "   0.57094748]\n",
            " ...\n",
            " [ 3.31002106  0.44317035  1.39779975 ...  0.44823472  1.7514746\n",
            "  -1.7514746 ]\n",
            " [ 1.99640024 -0.53858006  1.19009236 ... -0.39695035  1.7514746\n",
            "  -1.7514746 ]\n",
            " [ 1.22368211  0.13637334  0.84391338 ... -0.48146886 -0.57094748\n",
            "   0.57094748]]\n"
          ]
        }
      ]
    },
    {
      "cell_type": "markdown",
      "source": [
        "# Obuka klasifikacionog modela pomoću TensorFlow biblioteke"
      ],
      "metadata": {
        "id": "YDBp3qqM7f7L"
      }
    },
    {
      "cell_type": "markdown",
      "source": [
        "Pre svega, treba importovati potrebne biblioteke.\n",
        "Naš model će imati 4 sloja neurona, od čega prvi ima 128 neurona, drugi i treći 256 i izlazni sloj ima 1 neuron zato što vršimo binarnu klasifikaciju. (Da li vino pripada dobrim vinima ili ne).\n",
        "\n",
        "Skriveni slojevi koriste ReLU kao funkciju aktivacije, a izlazni sloj koristi Sigmoid."
      ],
      "metadata": {
        "id": "opb0BYgm8kbs"
      }
    },
    {
      "cell_type": "code",
      "source": [
        "import tensorflow.keras.models\n",
        "import tensorflow.keras.layers\n",
        "from keras import regularizers\n",
        "tf.random.set_seed(42)\n",
        "\n",
        "\n",
        "model = tf.keras.Sequential([\n",
        "    tf.keras.layers.Dense(128, activation='relu',kernel_regularizer=regularizers.l2(0.01)),\n",
        "    tf.keras.layers.Dense(256, activation='relu',kernel_regularizer=regularizers.l2(0.01)),\n",
        "    tf.keras.layers.Dense(256, activation='relu',kernel_regularizer=regularizers.l2(0.01)),\n",
        "    tf.keras.layers.Dense(1, activation='sigmoid',kernel_regularizer=regularizers.l2(0.01))\n",
        "])\n",
        "\n"
      ],
      "metadata": {
        "id": "jpTg3KxYnz0V"
      },
      "execution_count": null,
      "outputs": []
    },
    {
      "cell_type": "markdown",
      "source": [
        "Funkcija gubitka (loss) će biti binary_crossentropy, optimizer adam, a koristićemo metriku accuracy(tačnost)."
      ],
      "metadata": {
        "id": "3bT3avdZ9IdI"
      }
    },
    {
      "cell_type": "code",
      "source": [
        "opt = tf.keras.optimizers.Adam(learning_rate=0.01)\n",
        "model.compile(\n",
        "    loss='binary_crossentropy',\n",
        "    optimizer=opt,\n",
        "    metrics=['accuracy']\n",
        ")\n",
        "\n",
        "history = model.fit(X_train_scaled, y_train, epochs=100, validation_split=0.2)\n",
        "model.evaluate(X_test,y_test,batch_size=64)"
      ],
      "metadata": {
        "colab": {
          "base_uri": "https://localhost:8080/"
        },
        "id": "6DfStrvxovz_",
        "outputId": "bd6b3c5b-274d-48ca-f830-fedbae487e00"
      },
      "execution_count": null,
      "outputs": [
        {
          "output_type": "stream",
          "name": "stdout",
          "text": [
            "Epoch 1/100\n",
            "130/130 [==============================] - 1s 6ms/step - loss: 0.8049 - accuracy: 0.7176 - val_loss: 0.6087 - val_accuracy: 0.7389\n",
            "Epoch 2/100\n",
            "130/130 [==============================] - 1s 4ms/step - loss: 0.5937 - accuracy: 0.7309 - val_loss: 0.6032 - val_accuracy: 0.7205\n",
            "Epoch 3/100\n",
            "130/130 [==============================] - 1s 4ms/step - loss: 0.5836 - accuracy: 0.7357 - val_loss: 0.6100 - val_accuracy: 0.7292\n",
            "Epoch 4/100\n",
            "130/130 [==============================] - 1s 4ms/step - loss: 0.5873 - accuracy: 0.7379 - val_loss: 0.5903 - val_accuracy: 0.7418\n",
            "Epoch 5/100\n",
            "130/130 [==============================] - 1s 4ms/step - loss: 0.5790 - accuracy: 0.7343 - val_loss: 0.6056 - val_accuracy: 0.7369\n",
            "Epoch 6/100\n",
            "130/130 [==============================] - 1s 4ms/step - loss: 0.5794 - accuracy: 0.7384 - val_loss: 0.5888 - val_accuracy: 0.7360\n",
            "Epoch 7/100\n",
            "130/130 [==============================] - 1s 4ms/step - loss: 0.5774 - accuracy: 0.7365 - val_loss: 0.6284 - val_accuracy: 0.6789\n",
            "Epoch 8/100\n",
            "130/130 [==============================] - 1s 4ms/step - loss: 0.5768 - accuracy: 0.7430 - val_loss: 0.5962 - val_accuracy: 0.7282\n",
            "Epoch 9/100\n",
            "130/130 [==============================] - 1s 4ms/step - loss: 0.5835 - accuracy: 0.7365 - val_loss: 0.6037 - val_accuracy: 0.7195\n",
            "Epoch 10/100\n",
            "130/130 [==============================] - 1s 4ms/step - loss: 0.5784 - accuracy: 0.7391 - val_loss: 0.5843 - val_accuracy: 0.7408\n",
            "Epoch 11/100\n",
            "130/130 [==============================] - 1s 4ms/step - loss: 0.5753 - accuracy: 0.7379 - val_loss: 0.6220 - val_accuracy: 0.7282\n",
            "Epoch 12/100\n",
            "130/130 [==============================] - 1s 4ms/step - loss: 0.5784 - accuracy: 0.7420 - val_loss: 0.5900 - val_accuracy: 0.7379\n",
            "Epoch 13/100\n",
            "130/130 [==============================] - 1s 4ms/step - loss: 0.5754 - accuracy: 0.7377 - val_loss: 0.5835 - val_accuracy: 0.7447\n",
            "Epoch 14/100\n",
            "130/130 [==============================] - 1s 4ms/step - loss: 0.5726 - accuracy: 0.7382 - val_loss: 0.5779 - val_accuracy: 0.7379\n",
            "Epoch 15/100\n",
            "130/130 [==============================] - 1s 4ms/step - loss: 0.5728 - accuracy: 0.7398 - val_loss: 0.5957 - val_accuracy: 0.7292\n",
            "Epoch 16/100\n",
            "130/130 [==============================] - 0s 4ms/step - loss: 0.5730 - accuracy: 0.7384 - val_loss: 0.5850 - val_accuracy: 0.7253\n",
            "Epoch 17/100\n",
            "130/130 [==============================] - 1s 4ms/step - loss: 0.5734 - accuracy: 0.7396 - val_loss: 0.5837 - val_accuracy: 0.7273\n",
            "Epoch 18/100\n",
            "130/130 [==============================] - 0s 4ms/step - loss: 0.5721 - accuracy: 0.7430 - val_loss: 0.5846 - val_accuracy: 0.7321\n",
            "Epoch 19/100\n",
            "130/130 [==============================] - 1s 4ms/step - loss: 0.5739 - accuracy: 0.7423 - val_loss: 0.5861 - val_accuracy: 0.7331\n",
            "Epoch 20/100\n",
            "130/130 [==============================] - 1s 4ms/step - loss: 0.5746 - accuracy: 0.7372 - val_loss: 0.5794 - val_accuracy: 0.7321\n",
            "Epoch 21/100\n",
            "130/130 [==============================] - 1s 4ms/step - loss: 0.5729 - accuracy: 0.7427 - val_loss: 0.5833 - val_accuracy: 0.7447\n",
            "Epoch 22/100\n",
            "130/130 [==============================] - 1s 4ms/step - loss: 0.5734 - accuracy: 0.7377 - val_loss: 0.5818 - val_accuracy: 0.7263\n",
            "Epoch 23/100\n",
            "130/130 [==============================] - 1s 4ms/step - loss: 0.5747 - accuracy: 0.7345 - val_loss: 0.5811 - val_accuracy: 0.7389\n",
            "Epoch 24/100\n",
            "130/130 [==============================] - 1s 4ms/step - loss: 0.5737 - accuracy: 0.7384 - val_loss: 0.5776 - val_accuracy: 0.7340\n",
            "Epoch 25/100\n",
            "130/130 [==============================] - 1s 4ms/step - loss: 0.5733 - accuracy: 0.7415 - val_loss: 0.5827 - val_accuracy: 0.7311\n",
            "Epoch 26/100\n",
            "130/130 [==============================] - 1s 5ms/step - loss: 0.5727 - accuracy: 0.7403 - val_loss: 0.5801 - val_accuracy: 0.7302\n",
            "Epoch 27/100\n",
            "130/130 [==============================] - 1s 4ms/step - loss: 0.5758 - accuracy: 0.7353 - val_loss: 0.5787 - val_accuracy: 0.7437\n",
            "Epoch 28/100\n",
            "130/130 [==============================] - 1s 4ms/step - loss: 0.5746 - accuracy: 0.7415 - val_loss: 0.5774 - val_accuracy: 0.7292\n",
            "Epoch 29/100\n",
            "130/130 [==============================] - 1s 4ms/step - loss: 0.5717 - accuracy: 0.7425 - val_loss: 0.5872 - val_accuracy: 0.7263\n",
            "Epoch 30/100\n",
            "130/130 [==============================] - 1s 4ms/step - loss: 0.5741 - accuracy: 0.7357 - val_loss: 0.5781 - val_accuracy: 0.7331\n",
            "Epoch 31/100\n",
            "130/130 [==============================] - 1s 4ms/step - loss: 0.5694 - accuracy: 0.7440 - val_loss: 0.5917 - val_accuracy: 0.7360\n",
            "Epoch 32/100\n",
            "130/130 [==============================] - 1s 4ms/step - loss: 0.5719 - accuracy: 0.7396 - val_loss: 0.5832 - val_accuracy: 0.7321\n",
            "Epoch 33/100\n",
            "130/130 [==============================] - 1s 4ms/step - loss: 0.5699 - accuracy: 0.7398 - val_loss: 0.5779 - val_accuracy: 0.7311\n",
            "Epoch 34/100\n",
            "130/130 [==============================] - 1s 4ms/step - loss: 0.5744 - accuracy: 0.7365 - val_loss: 0.5857 - val_accuracy: 0.7437\n",
            "Epoch 35/100\n",
            "130/130 [==============================] - 1s 4ms/step - loss: 0.5737 - accuracy: 0.7437 - val_loss: 0.5834 - val_accuracy: 0.7418\n",
            "Epoch 36/100\n",
            "130/130 [==============================] - 1s 4ms/step - loss: 0.5734 - accuracy: 0.7440 - val_loss: 0.5819 - val_accuracy: 0.7340\n",
            "Epoch 37/100\n",
            "130/130 [==============================] - 1s 4ms/step - loss: 0.5705 - accuracy: 0.7379 - val_loss: 0.5835 - val_accuracy: 0.7447\n",
            "Epoch 38/100\n",
            "130/130 [==============================] - 1s 4ms/step - loss: 0.5728 - accuracy: 0.7425 - val_loss: 0.5799 - val_accuracy: 0.7369\n",
            "Epoch 39/100\n",
            "130/130 [==============================] - 0s 4ms/step - loss: 0.5730 - accuracy: 0.7411 - val_loss: 0.5816 - val_accuracy: 0.7389\n",
            "Epoch 40/100\n",
            "130/130 [==============================] - 1s 4ms/step - loss: 0.5716 - accuracy: 0.7374 - val_loss: 0.5816 - val_accuracy: 0.7350\n",
            "Epoch 41/100\n",
            "130/130 [==============================] - 0s 4ms/step - loss: 0.5746 - accuracy: 0.7365 - val_loss: 0.5852 - val_accuracy: 0.7369\n",
            "Epoch 42/100\n",
            "130/130 [==============================] - 1s 4ms/step - loss: 0.5681 - accuracy: 0.7427 - val_loss: 0.5866 - val_accuracy: 0.7427\n",
            "Epoch 43/100\n",
            "130/130 [==============================] - 1s 4ms/step - loss: 0.5697 - accuracy: 0.7418 - val_loss: 0.5803 - val_accuracy: 0.7418\n",
            "Epoch 44/100\n",
            "130/130 [==============================] - 1s 4ms/step - loss: 0.5730 - accuracy: 0.7437 - val_loss: 0.5820 - val_accuracy: 0.7369\n",
            "Epoch 45/100\n",
            "130/130 [==============================] - 1s 4ms/step - loss: 0.5729 - accuracy: 0.7321 - val_loss: 0.5821 - val_accuracy: 0.7340\n",
            "Epoch 46/100\n",
            "130/130 [==============================] - 1s 4ms/step - loss: 0.5698 - accuracy: 0.7423 - val_loss: 0.5879 - val_accuracy: 0.7350\n",
            "Epoch 47/100\n",
            "130/130 [==============================] - 1s 4ms/step - loss: 0.5726 - accuracy: 0.7396 - val_loss: 0.5809 - val_accuracy: 0.7331\n",
            "Epoch 48/100\n",
            "130/130 [==============================] - 1s 4ms/step - loss: 0.5737 - accuracy: 0.7365 - val_loss: 0.5842 - val_accuracy: 0.7379\n",
            "Epoch 49/100\n",
            "130/130 [==============================] - 1s 4ms/step - loss: 0.5724 - accuracy: 0.7423 - val_loss: 0.5942 - val_accuracy: 0.7195\n",
            "Epoch 50/100\n",
            "130/130 [==============================] - 1s 4ms/step - loss: 0.5730 - accuracy: 0.7353 - val_loss: 0.5837 - val_accuracy: 0.7466\n",
            "Epoch 51/100\n",
            "130/130 [==============================] - 1s 4ms/step - loss: 0.5722 - accuracy: 0.7384 - val_loss: 0.5767 - val_accuracy: 0.7437\n",
            "Epoch 52/100\n",
            "130/130 [==============================] - 1s 4ms/step - loss: 0.5707 - accuracy: 0.7398 - val_loss: 0.5780 - val_accuracy: 0.7282\n",
            "Epoch 53/100\n",
            "130/130 [==============================] - 1s 4ms/step - loss: 0.5701 - accuracy: 0.7391 - val_loss: 0.5928 - val_accuracy: 0.7060\n",
            "Epoch 54/100\n",
            "130/130 [==============================] - 1s 4ms/step - loss: 0.5729 - accuracy: 0.7365 - val_loss: 0.5790 - val_accuracy: 0.7331\n",
            "Epoch 55/100\n",
            "130/130 [==============================] - 1s 4ms/step - loss: 0.5707 - accuracy: 0.7394 - val_loss: 0.5792 - val_accuracy: 0.7292\n",
            "Epoch 56/100\n",
            "130/130 [==============================] - 0s 4ms/step - loss: 0.5701 - accuracy: 0.7420 - val_loss: 0.5793 - val_accuracy: 0.7292\n",
            "Epoch 57/100\n",
            "130/130 [==============================] - 0s 4ms/step - loss: 0.5697 - accuracy: 0.7391 - val_loss: 0.5895 - val_accuracy: 0.7389\n",
            "Epoch 58/100\n",
            "130/130 [==============================] - 1s 6ms/step - loss: 0.5701 - accuracy: 0.7423 - val_loss: 0.5828 - val_accuracy: 0.7418\n",
            "Epoch 59/100\n",
            "130/130 [==============================] - 1s 5ms/step - loss: 0.5696 - accuracy: 0.7430 - val_loss: 0.5804 - val_accuracy: 0.7273\n",
            "Epoch 60/100\n",
            "130/130 [==============================] - 1s 4ms/step - loss: 0.5700 - accuracy: 0.7420 - val_loss: 0.5815 - val_accuracy: 0.7263\n",
            "Epoch 61/100\n",
            "130/130 [==============================] - 0s 4ms/step - loss: 0.5699 - accuracy: 0.7374 - val_loss: 0.5783 - val_accuracy: 0.7408\n",
            "Epoch 62/100\n",
            "130/130 [==============================] - 1s 4ms/step - loss: 0.5721 - accuracy: 0.7357 - val_loss: 0.5810 - val_accuracy: 0.7485\n",
            "Epoch 63/100\n",
            "130/130 [==============================] - 1s 4ms/step - loss: 0.5675 - accuracy: 0.7425 - val_loss: 0.5876 - val_accuracy: 0.7389\n",
            "Epoch 64/100\n",
            "130/130 [==============================] - 0s 4ms/step - loss: 0.5723 - accuracy: 0.7391 - val_loss: 0.5767 - val_accuracy: 0.7244\n",
            "Epoch 65/100\n",
            "130/130 [==============================] - 1s 4ms/step - loss: 0.5700 - accuracy: 0.7348 - val_loss: 0.5781 - val_accuracy: 0.7360\n",
            "Epoch 66/100\n",
            "130/130 [==============================] - 1s 4ms/step - loss: 0.5698 - accuracy: 0.7432 - val_loss: 0.5774 - val_accuracy: 0.7311\n",
            "Epoch 67/100\n",
            "130/130 [==============================] - 1s 4ms/step - loss: 0.5682 - accuracy: 0.7418 - val_loss: 0.5807 - val_accuracy: 0.7389\n",
            "Epoch 68/100\n",
            "130/130 [==============================] - 1s 4ms/step - loss: 0.5709 - accuracy: 0.7408 - val_loss: 0.5870 - val_accuracy: 0.7311\n",
            "Epoch 69/100\n",
            "130/130 [==============================] - 0s 4ms/step - loss: 0.5715 - accuracy: 0.7379 - val_loss: 0.5789 - val_accuracy: 0.7273\n",
            "Epoch 70/100\n",
            "130/130 [==============================] - 1s 4ms/step - loss: 0.5685 - accuracy: 0.7435 - val_loss: 0.5848 - val_accuracy: 0.7398\n",
            "Epoch 71/100\n",
            "130/130 [==============================] - 1s 4ms/step - loss: 0.5726 - accuracy: 0.7454 - val_loss: 0.5748 - val_accuracy: 0.7292\n",
            "Epoch 72/100\n",
            "130/130 [==============================] - 1s 4ms/step - loss: 0.5689 - accuracy: 0.7437 - val_loss: 0.5878 - val_accuracy: 0.7379\n",
            "Epoch 73/100\n",
            "130/130 [==============================] - 1s 4ms/step - loss: 0.5717 - accuracy: 0.7357 - val_loss: 0.5750 - val_accuracy: 0.7340\n",
            "Epoch 74/100\n",
            "130/130 [==============================] - 1s 4ms/step - loss: 0.5711 - accuracy: 0.7415 - val_loss: 0.5801 - val_accuracy: 0.7437\n",
            "Epoch 75/100\n",
            "130/130 [==============================] - 0s 4ms/step - loss: 0.5716 - accuracy: 0.7379 - val_loss: 0.5750 - val_accuracy: 0.7427\n",
            "Epoch 76/100\n",
            "130/130 [==============================] - 1s 4ms/step - loss: 0.5693 - accuracy: 0.7406 - val_loss: 0.5737 - val_accuracy: 0.7302\n",
            "Epoch 77/100\n",
            "130/130 [==============================] - 1s 10ms/step - loss: 0.5707 - accuracy: 0.7411 - val_loss: 0.5776 - val_accuracy: 0.7369\n",
            "Epoch 78/100\n",
            "130/130 [==============================] - 0s 4ms/step - loss: 0.5717 - accuracy: 0.7321 - val_loss: 0.5772 - val_accuracy: 0.7408\n",
            "Epoch 79/100\n",
            "130/130 [==============================] - 1s 4ms/step - loss: 0.5708 - accuracy: 0.7389 - val_loss: 0.5748 - val_accuracy: 0.7360\n",
            "Epoch 80/100\n",
            "130/130 [==============================] - 1s 4ms/step - loss: 0.5705 - accuracy: 0.7394 - val_loss: 0.5786 - val_accuracy: 0.7389\n",
            "Epoch 81/100\n",
            "130/130 [==============================] - 1s 4ms/step - loss: 0.5685 - accuracy: 0.7365 - val_loss: 0.5784 - val_accuracy: 0.7340\n",
            "Epoch 82/100\n",
            "130/130 [==============================] - 1s 4ms/step - loss: 0.5717 - accuracy: 0.7389 - val_loss: 0.5808 - val_accuracy: 0.7485\n",
            "Epoch 83/100\n",
            "130/130 [==============================] - 1s 4ms/step - loss: 0.5701 - accuracy: 0.7331 - val_loss: 0.5828 - val_accuracy: 0.7427\n",
            "Epoch 84/100\n",
            "130/130 [==============================] - 0s 4ms/step - loss: 0.5704 - accuracy: 0.7440 - val_loss: 0.5779 - val_accuracy: 0.7369\n",
            "Epoch 85/100\n",
            "130/130 [==============================] - 1s 4ms/step - loss: 0.5690 - accuracy: 0.7367 - val_loss: 0.5776 - val_accuracy: 0.7515\n",
            "Epoch 86/100\n",
            "130/130 [==============================] - 1s 4ms/step - loss: 0.5682 - accuracy: 0.7369 - val_loss: 0.5770 - val_accuracy: 0.7389\n",
            "Epoch 87/100\n",
            "130/130 [==============================] - 1s 4ms/step - loss: 0.5677 - accuracy: 0.7408 - val_loss: 0.5787 - val_accuracy: 0.7437\n",
            "Epoch 88/100\n",
            "130/130 [==============================] - 1s 4ms/step - loss: 0.5708 - accuracy: 0.7372 - val_loss: 0.5756 - val_accuracy: 0.7369\n",
            "Epoch 89/100\n",
            "130/130 [==============================] - 1s 4ms/step - loss: 0.5700 - accuracy: 0.7336 - val_loss: 0.5849 - val_accuracy: 0.7340\n",
            "Epoch 90/100\n",
            "130/130 [==============================] - 1s 4ms/step - loss: 0.5688 - accuracy: 0.7394 - val_loss: 0.5793 - val_accuracy: 0.7321\n",
            "Epoch 91/100\n",
            "130/130 [==============================] - 1s 4ms/step - loss: 0.5689 - accuracy: 0.7408 - val_loss: 0.5754 - val_accuracy: 0.7321\n",
            "Epoch 92/100\n",
            "130/130 [==============================] - 0s 4ms/step - loss: 0.5704 - accuracy: 0.7384 - val_loss: 0.5744 - val_accuracy: 0.7389\n",
            "Epoch 93/100\n",
            "130/130 [==============================] - 1s 4ms/step - loss: 0.5697 - accuracy: 0.7420 - val_loss: 0.5779 - val_accuracy: 0.7379\n",
            "Epoch 94/100\n",
            "130/130 [==============================] - 1s 4ms/step - loss: 0.5689 - accuracy: 0.7360 - val_loss: 0.5782 - val_accuracy: 0.7253\n",
            "Epoch 95/100\n",
            "130/130 [==============================] - 1s 4ms/step - loss: 0.5711 - accuracy: 0.7382 - val_loss: 0.5751 - val_accuracy: 0.7447\n",
            "Epoch 96/100\n",
            "130/130 [==============================] - 1s 4ms/step - loss: 0.5709 - accuracy: 0.7377 - val_loss: 0.5766 - val_accuracy: 0.7340\n",
            "Epoch 97/100\n",
            "130/130 [==============================] - 1s 4ms/step - loss: 0.5700 - accuracy: 0.7403 - val_loss: 0.5748 - val_accuracy: 0.7369\n",
            "Epoch 98/100\n",
            "130/130 [==============================] - 1s 4ms/step - loss: 0.5687 - accuracy: 0.7367 - val_loss: 0.5789 - val_accuracy: 0.7215\n",
            "Epoch 99/100\n",
            "130/130 [==============================] - 1s 4ms/step - loss: 0.5693 - accuracy: 0.7389 - val_loss: 0.5780 - val_accuracy: 0.7369\n",
            "Epoch 100/100\n",
            "130/130 [==============================] - 1s 4ms/step - loss: 0.5696 - accuracy: 0.7360 - val_loss: 0.5778 - val_accuracy: 0.7360\n",
            "21/21 [==============================] - 0s 3ms/step - loss: 1.1012 - accuracy: 0.4215\n"
          ]
        },
        {
          "output_type": "execute_result",
          "data": {
            "text/plain": [
              "[1.1012076139450073, 0.42150038480758667]"
            ]
          },
          "metadata": {},
          "execution_count": 24
        }
      ]
    },
    {
      "cell_type": "markdown",
      "source": [
        "Pratili smo gubitke i tačnost tokom treninga i sačuvali ih u istoriji. Sada možemo da vizuelizujemo ove metrike da bismo stekli osećaj kako model radi."
      ],
      "metadata": {
        "id": "SWkhu6bD96DK"
      }
    },
    {
      "cell_type": "code",
      "source": [
        "import matplotlib.pyplot as plt\n",
        "from matplotlib import rcParams\n",
        "\n",
        "rcParams['figure.figsize'] = (18, 8)\n",
        "rcParams['axes.spines.top'] = False\n",
        "rcParams['axes.spines.right'] = False"
      ],
      "metadata": {
        "id": "rs1xPkm4qHlN"
      },
      "execution_count": null,
      "outputs": []
    },
    {
      "cell_type": "code",
      "source": [
        "plt.plot(\n",
        "    np.arange(1, 101), \n",
        "    history.history['loss'], label='Loss'\n",
        ")\n",
        "plt.plot(\n",
        "    np.arange(1, 101), \n",
        "    history.history['accuracy'], label='Accuracy'\n",
        ")\n",
        "plt.title('Evaluation metrics', size=20)\n",
        "plt.xlabel('Epoch', size=14)\n",
        "plt.legend();\n"
      ],
      "metadata": {
        "colab": {
          "base_uri": "https://localhost:8080/",
          "height": 522
        },
        "id": "owsiDh0lqpQB",
        "outputId": "17e2d854-3133-4c8b-9658-7a8012338b20"
      },
      "execution_count": null,
      "outputs": [
        {
          "output_type": "display_data",
          "data": {
            "image/png": "[encoded data removed]",
            "text/plain": [
              "<Figure size 1296x576 with 1 Axes>"
            ]
          },
          "metadata": {
            "needs_background": "light"
          }
        }
      ]
    },
    {
      "cell_type": "markdown",
      "source": [
        "Iz priloženog grafika preko nacrtanih krvih vidimo da vrednost funkcije gubitka opada treniranjem modela."
      ],
      "metadata": {
        "id": "2QXHnheD-YKa"
      }
    },
    {
      "cell_type": "markdown",
      "source": [
        "# Formiranje predikcije"
      ],
      "metadata": {
        "id": "0MDywcxb-6Ir"
      }
    },
    {
      "cell_type": "markdown",
      "source": [
        "Pozivom funkcije predict za obučeni model, dobijamo predikcije."
      ],
      "metadata": {
        "id": "g9mn767y_FJv"
      }
    },
    {
      "cell_type": "code",
      "source": [
        "predictions = model.predict(X_test_scaled)"
      ],
      "metadata": {
        "id": "86AQh1AsrG6F"
      },
      "execution_count": null,
      "outputs": []
    },
    {
      "cell_type": "code",
      "source": [
        "print(predictions)"
      ],
      "metadata": {
        "colab": {
          "base_uri": "https://localhost:8080/"
        },
        "id": "Z10QoP3frJbg",
        "outputId": "901416ea-3ecf-41ab-d2d2-ca89ec1d7479"
      },
      "execution_count": null,
      "outputs": [
        {
          "output_type": "stream",
          "name": "stdout",
          "text": [
            "[[0.65542316]\n",
            " [0.5523302 ]\n",
            " [0.8906244 ]\n",
            " ...\n",
            " [0.8596362 ]\n",
            " [0.43693036]\n",
            " [0.31120896]]\n"
          ]
        }
      ]
    },
    {
      "cell_type": "markdown",
      "source": [
        "Predikcije ćemo morati da konverujemo u klase, vodeći se sledećom logikom. Ukoliko je vrednost veća od 0.5 konverujemo je u 1, a suprotnom u 0. Funkcija ravel iz biblioteke numpy od višedimenzionalnog niza formira jednodimenzioni niz."
      ],
      "metadata": {
        "id": "8aEywudD_VYU"
      }
    },
    {
      "cell_type": "code",
      "source": [
        "prediction_classes = [\n",
        "    1 if prob > 0.5 else 0 for prob in np.ravel(predictions)\n",
        "]"
      ],
      "metadata": {
        "id": "K_htcw9HrJRg"
      },
      "execution_count": null,
      "outputs": []
    },
    {
      "cell_type": "markdown",
      "source": [
        "# Ocenjivanje modela na tesnom skupu"
      ],
      "metadata": {
        "id": "eJZQqbgJAirE"
      }
    },
    {
      "cell_type": "markdown",
      "source": [
        "Predstaviti matricu konfuzije. Kao argumente joj šaljemo stvarne i prediktovane vrednosti"
      ],
      "metadata": {
        "id": "2DawxWY8ApoD"
      }
    },
    {
      "cell_type": "code",
      "source": [
        "from sklearn.metrics import confusion_matrix\n",
        "\n",
        "print(confusion_matrix(y_test, prediction_classes))"
      ],
      "metadata": {
        "colab": {
          "base_uri": "https://localhost:8080/"
        },
        "id": "ADxPgqeVtUgq",
        "outputId": "b161f8de-9728-4bf7-ff9f-5db60cf760b2"
      },
      "execution_count": null,
      "outputs": [
        {
          "output_type": "stream",
          "name": "stdout",
          "text": [
            "[[238 244]\n",
            " [ 98 713]]\n"
          ]
        }
      ]
    },
    {
      "cell_type": "markdown",
      "source": [
        "Izračunajmo accuracy, precision i recall metrike."
      ],
      "metadata": {
        "id": "JFw98GI0BELU"
      }
    },
    {
      "cell_type": "code",
      "source": [
        "from sklearn.metrics import accuracy_score, precision_score, recall_score\n",
        "\n",
        "print(f'Accuracy: {accuracy_score(y_test, prediction_classes):.2f}')\n",
        "print(f'Precision: {precision_score(y_test, prediction_classes):.2f}')\n",
        "print(f'Recall: {recall_score(y_test, prediction_classes):.2f}')"
      ],
      "metadata": {
        "colab": {
          "base_uri": "https://localhost:8080/"
        },
        "id": "qCRGKJg-td4P",
        "outputId": "8179c4cb-376d-4104-99e2-346e898cfbee"
      },
      "execution_count": null,
      "outputs": [
        {
          "output_type": "stream",
          "name": "stdout",
          "text": [
            "Accuracy: 0.74\n",
            "Precision: 0.75\n",
            "Recall: 0.88\n"
          ]
        }
      ]
    },
    {
      "cell_type": "markdown",
      "source": [
        "**Accurac**y(tačnost modela) se definiše kao broj klasifikacija koje model tačno predviđa podeljen sa ukupnim brojem napravljenih predviđanja.\n",
        "\n",
        "**Precision**(Preciznost)- izračunava se kao odnos između broja pozitivnih uzoraka ispravno klasifikovanih i ukupnog broja uzoraka klasifikovanih kao pozitivni (bilo ispravno ili netačno).\n",
        "\n",
        "**Recall** izračunava se kao broj istinitih pozitivnih uzoraka podeljen brojem istinito pozitivnih plus brojem lažno negativnih."
      ],
      "metadata": {
        "id": "NgMWmOp8m380"
      }
    }
  ]
}