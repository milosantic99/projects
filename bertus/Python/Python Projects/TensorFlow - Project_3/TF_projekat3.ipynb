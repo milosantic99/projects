{
  "cells": [
    {
      "cell_type": "code",
      "execution_count": null,
      "metadata": {
        "colab": {
          "base_uri": "https://localhost:8080/"
        },
        "id": "UwZw2HilJFPX",
        "outputId": "d1c08ee0-b9cf-4c9f-eb99-279382c6b983"
      },
      "outputs": [
        {
          "name": "stdout",
          "output_type": "stream",
          "text": [
            "Requirement already satisfied: tensorflow in /usr/local/lib/python3.7/dist-packages (2.8.0)\n",
            "Requirement already satisfied: absl-py>=0.4.0 in /usr/local/lib/python3.7/dist-packages (from tensorflow) (1.0.0)\n",
            "Requirement already satisfied: termcolor>=1.1.0 in /usr/local/lib/python3.7/dist-packages (from tensorflow) (1.1.0)\n",
            "Requirement already satisfied: gast>=0.2.1 in /usr/local/lib/python3.7/dist-packages (from tensorflow) (0.5.3)\n",
            "Requirement already satisfied: tensorflow-io-gcs-filesystem>=0.23.1 in /usr/local/lib/python3.7/dist-packages (from tensorflow) (0.24.0)\n",
            "Requirement already satisfied: google-pasta>=0.1.1 in /usr/local/lib/python3.7/dist-packages (from tensorflow) (0.2.0)\n",
            "Requirement already satisfied: h5py>=2.9.0 in /usr/local/lib/python3.7/dist-packages (from tensorflow) (3.1.0)\n",
            "Requirement already satisfied: typing-extensions>=3.6.6 in /usr/local/lib/python3.7/dist-packages (from tensorflow) (3.10.0.2)\n",
            "Requirement already satisfied: grpcio<2.0,>=1.24.3 in /usr/local/lib/python3.7/dist-packages (from tensorflow) (1.44.0)\n",
            "Requirement already satisfied: numpy>=1.20 in /usr/local/lib/python3.7/dist-packages (from tensorflow) (1.21.5)\n",
            "Requirement already satisfied: astunparse>=1.6.0 in /usr/local/lib/python3.7/dist-packages (from tensorflow) (1.6.3)\n",
            "Requirement already satisfied: libclang>=9.0.1 in /usr/local/lib/python3.7/dist-packages (from tensorflow) (13.0.0)\n",
            "Requirement already satisfied: keras-preprocessing>=1.1.1 in /usr/local/lib/python3.7/dist-packages (from tensorflow) (1.1.2)\n",
            "Requirement already satisfied: opt-einsum>=2.3.2 in /usr/local/lib/python3.7/dist-packages (from tensorflow) (3.3.0)\n",
            "Requirement already satisfied: keras<2.9,>=2.8.0rc0 in /usr/local/lib/python3.7/dist-packages (from tensorflow) (2.8.0)\n",
            "Requirement already satisfied: protobuf>=3.9.2 in /usr/local/lib/python3.7/dist-packages (from tensorflow) (3.17.3)\n",
            "Requirement already satisfied: wrapt>=1.11.0 in /usr/local/lib/python3.7/dist-packages (from tensorflow) (1.14.0)\n",
            "Requirement already satisfied: flatbuffers>=1.12 in /usr/local/lib/python3.7/dist-packages (from tensorflow) (2.0)\n",
            "Requirement already satisfied: setuptools in /usr/local/lib/python3.7/dist-packages (from tensorflow) (57.4.0)\n",
            "Requirement already satisfied: tensorboard<2.9,>=2.8 in /usr/local/lib/python3.7/dist-packages (from tensorflow) (2.8.0)\n",
            "Collecting tf-estimator-nightly==2.8.0.dev2021122109\n",
            "  Downloading tf_estimator_nightly-2.8.0.dev2021122109-py2.py3-none-any.whl (462 kB)\n",
            "\u001b[K     |████████████████████████████████| 462 kB 9.1 MB/s \n",
            "\u001b[?25hRequirement already satisfied: six>=1.12.0 in /usr/local/lib/python3.7/dist-packages (from tensorflow) (1.15.0)\n",
            "Requirement already satisfied: wheel<1.0,>=0.23.0 in /usr/local/lib/python3.7/dist-packages (from astunparse>=1.6.0->tensorflow) (0.37.1)\n",
            "Requirement already satisfied: cached-property in /usr/local/lib/python3.7/dist-packages (from h5py>=2.9.0->tensorflow) (1.5.2)\n",
            "Requirement already satisfied: google-auth<3,>=1.6.3 in /usr/local/lib/python3.7/dist-packages (from tensorboard<2.9,>=2.8->tensorflow) (1.35.0)\n",
            "Requirement already satisfied: google-auth-oauthlib<0.5,>=0.4.1 in /usr/local/lib/python3.7/dist-packages (from tensorboard<2.9,>=2.8->tensorflow) (0.4.6)\n",
            "Requirement already satisfied: tensorboard-plugin-wit>=1.6.0 in /usr/local/lib/python3.7/dist-packages (from tensorboard<2.9,>=2.8->tensorflow) (1.8.1)\n",
            "Requirement already satisfied: werkzeug>=0.11.15 in /usr/local/lib/python3.7/dist-packages (from tensorboard<2.9,>=2.8->tensorflow) (1.0.1)\n",
            "Requirement already satisfied: tensorboard-data-server<0.7.0,>=0.6.0 in /usr/local/lib/python3.7/dist-packages (from tensorboard<2.9,>=2.8->tensorflow) (0.6.1)\n",
            "Requirement already satisfied: requests<3,>=2.21.0 in /usr/local/lib/python3.7/dist-packages (from tensorboard<2.9,>=2.8->tensorflow) (2.23.0)\n",
            "Requirement already satisfied: markdown>=2.6.8 in /usr/local/lib/python3.7/dist-packages (from tensorboard<2.9,>=2.8->tensorflow) (3.3.6)\n",
            "Requirement already satisfied: pyasn1-modules>=0.2.1 in /usr/local/lib/python3.7/dist-packages (from google-auth<3,>=1.6.3->tensorboard<2.9,>=2.8->tensorflow) (0.2.8)\n",
            "Requirement already satisfied: cachetools<5.0,>=2.0.0 in /usr/local/lib/python3.7/dist-packages (from google-auth<3,>=1.6.3->tensorboard<2.9,>=2.8->tensorflow) (4.2.4)\n",
            "Requirement already satisfied: rsa<5,>=3.1.4 in /usr/local/lib/python3.7/dist-packages (from google-auth<3,>=1.6.3->tensorboard<2.9,>=2.8->tensorflow) (4.8)\n",
            "Requirement already satisfied: requests-oauthlib>=0.7.0 in /usr/local/lib/python3.7/dist-packages (from google-auth-oauthlib<0.5,>=0.4.1->tensorboard<2.9,>=2.8->tensorflow) (1.3.1)\n",
            "Requirement already satisfied: importlib-metadata>=4.4 in /usr/local/lib/python3.7/dist-packages (from markdown>=2.6.8->tensorboard<2.9,>=2.8->tensorflow) (4.11.3)\n",
            "Requirement already satisfied: zipp>=0.5 in /usr/local/lib/python3.7/dist-packages (from importlib-metadata>=4.4->markdown>=2.6.8->tensorboard<2.9,>=2.8->tensorflow) (3.7.0)\n",
            "Requirement already satisfied: pyasn1<0.5.0,>=0.4.6 in /usr/local/lib/python3.7/dist-packages (from pyasn1-modules>=0.2.1->google-auth<3,>=1.6.3->tensorboard<2.9,>=2.8->tensorflow) (0.4.8)\n",
            "Requirement already satisfied: idna<3,>=2.5 in /usr/local/lib/python3.7/dist-packages (from requests<3,>=2.21.0->tensorboard<2.9,>=2.8->tensorflow) (2.10)\n",
            "Requirement already satisfied: certifi>=2017.4.17 in /usr/local/lib/python3.7/dist-packages (from requests<3,>=2.21.0->tensorboard<2.9,>=2.8->tensorflow) (2021.10.8)\n",
            "Requirement already satisfied: urllib3!=1.25.0,!=1.25.1,<1.26,>=1.21.1 in /usr/local/lib/python3.7/dist-packages (from requests<3,>=2.21.0->tensorboard<2.9,>=2.8->tensorflow) (1.24.3)\n",
            "Requirement already satisfied: chardet<4,>=3.0.2 in /usr/local/lib/python3.7/dist-packages (from requests<3,>=2.21.0->tensorboard<2.9,>=2.8->tensorflow) (3.0.4)\n",
            "Requirement already satisfied: oauthlib>=3.0.0 in /usr/local/lib/python3.7/dist-packages (from requests-oauthlib>=0.7.0->google-auth-oauthlib<0.5,>=0.4.1->tensorboard<2.9,>=2.8->tensorflow) (3.2.0)\n",
            "Installing collected packages: tf-estimator-nightly\n",
            "Successfully installed tf-estimator-nightly-2.8.0.dev2021122109\n"
          ]
        }
      ],
      "source": [
        "!pip install tensorflow"
      ]
    },
    {
      "cell_type": "markdown",
      "metadata": {
        "id": "TAAlhZNQ7800"
      },
      "source": [
        "# Definisanje klase u kojoj se čuvaju podaci sa ulaza"
      ]
    },
    {
      "cell_type": "code",
      "execution_count": 128,
      "metadata": {
        "id": "uy8rUDIAJbRS"
      },
      "outputs": [],
      "source": [
        "class RecieveJson():\n",
        "    filename : str      #naziv csv fajla\n",
        "    headers : list      #nazivi kolona\n",
        "    data : list         #podaci \n",
        "    inputs:list         #ulazi u mrezu [-1,-1,1,1,....]\n",
        "    output:int          #izlaz iz mreze - redni broj kolone\n",
        "    regularization:str  #enum \"l1\" ili \"l2\"\n",
        "    learningRate:float  \n",
        "    regRate:float     \n",
        "    loss:str            #enum, funkcija loss\n",
        "    activation:str      #enum, aktivaciona funkcija\n",
        "    epoche:int          #broj epoha\n",
        "    layers:int          #broj slojeva\n",
        "    neurons:list        #broj neurona po sloju\n",
        "    missingNum:str      #kod za nedostajuce numericke vrednosti \"delete\", \"min\",\"max\",\"median\", \"default\"\n",
        "    missingCat:str      #kod za nedostajuce kategorijske vrednosti \"delete\", \"min\",\"max\",\"default\"\n",
        "    encode:str          #kod za enkodiranje \"LabelEncoding\" \"OneHotEncoding\"\n",
        "    outlier:str         #kod za outliere \"svm\",\"MinCovDet\", \"LocOutFact\",\"isolationForest\"\n",
        "    model:str           # da li je problem kasifikacija ili regresija - \"classification\", \"regression\"\n",
        "    optimizer:str       #optimizator npr \"adam\"\n"
      ]
    },
    {
      "cell_type": "markdown",
      "metadata": {
        "id": "B25VAZih8CE5"
      },
      "source": [
        "## Hardkodovanje ulaznih vrednosti"
      ]
    },
    {
      "cell_type": "code",
      "execution_count": 129,
      "metadata": {
        "id": "dVSeRyJKJiaA"
      },
      "outputs": [],
      "source": [
        "data =  RecieveJson()\n",
        "data.filename=\"cars.csv\"\n",
        "data.headers=['Car;MPG;Cylinders;Displacement;Horsepower;Weight;Acceleration;Model;Origin']\n",
        "data.data=[['Chevrolet Chevelle Malibu;18.0;8;307.0;130.0;3504.;12.0;70;US'], ['Buick Skylark 320;15.0;8;350.0;165.0;3693.;11.5;70;US'], ['Plymouth Satellite;18.0;8;318.0;150.0;3436.;11.0;70;US'], ['AMC Rebel SST;16.0;8;304.0;150.0;3433.;12.0;70;US'], ['Ford Torino;17.0;8;302.0;140.0;3449.;10.5;70;US'], ['Ford Galaxie 500;15.0;8;429.0;198.0;4341.;10.0;70;US'], ['Chevrolet Impala;14.0;8;454.0;220.0;4354.;9.0;70;US'], ['Plymouth Fury iii;14.0;8;440.0;215.0;4312.;8.5;70;US'], ['Pontiac Catalina;14.0;8;455.0;225.0;4425.;10.0;70;US'], ['AMC Ambassador DPL;15.0;8;390.0;190.0;3850.;8.5;70;US'], ['Citroen DS-21 Pallas;0;4;133.0;115.0;3090.;17.5;70;Europe'], \n",
        "           ['Chevrolet Chevelle Concours (sw);0;8;350.0;165.0;4142.;11.5;70;US'], ['Ford Torino (sw);0;8;351.0;153.0;4034.;11.0;70;US'], ['Plymouth Satellite (sw);0;8;383.0;175.0;4166.;10.5;70;US'], ['AMC Rebel SST (sw);0;8;360.0;175.0;3850.;11.0;70;US'], ['Dodge Challenger SE;15.0;8;383.0;170.0;3563.;10.0;70;US'], [\"Plymouth 'Cuda 340;14.0;8;340.0;160.0;3609.;8.0;70;US\"], ['Ford Mustang Boss 302;0;8;302.0;140.0;3353.;8.0;70;US'], ['Chevrolet Monte Carlo;15.0;8;400.0;150.0;3761.;9.5;70;US'], \n",
        "           ['Buick Estate Wagon (sw);14.0;8;455.0;225.0;3086.;10.0;70;US'], ['Toyota Corolla Mark ii;24.0;4;113.0;95.00;2372.;15.0;70;Japan'], ['Plymouth Duster;22.0;6;198.0;95.00;2833.;15.5;70;US'], ['AMC Hornet;18.0;6;199.0;97.00;2774.;15.5;70;US'], ['Ford Maverick;21.0;6;200.0;85.00;2587.;16.0;70;US'], ['Datsun PL510;27.0;4;97.00;88.00;2130.;14.5;70;Japan'], \n",
        "           ['Volkswagen 1131 Deluxe Sedan;26.0;4;97.00;46.00;1835.;20.5;70;Europe'], ['Peugeot 504;25.0;4;110.0;87.00;2672.;17.5;70;Europe'], ['Audi 100 LS;24.0;4;107.0;90.00;2430.;14.5;70;Europe'], ['Saab 99e;25.0;4;104.0;95.00;2375.;17.5;70;Europe'], ['BMW 2002;26.0;4;121.0;113.0;2234.;12.5;70;Europe'], ['AMC Gremlin;21.0;6;199.0;90.00;2648.;15.0;70;US'], ['Ford F250;10.0;8;360.0;215.0;4615.;14.0;70;US'], ['Chevy C20;10.0;8;307.0;200.0;4376.;15.0;70;US'], ['Dodge D200;11.0;8;318.0;210.0;4382.;13.5;70;US'], ['Hi 1200D;9.0;8;304.0;193.0;4732.;18.5;70;US'], ['Datsun PL510;27.0;4;97.00;88.00;2130.;14.5;71;Japan'], \n",
        "           ['Chevrolet Vega 2300;28.0;4;140.0;90.00;2264.;15.5;71;US'], ['Toyota Corolla;25.0;4;113.0;95.00;2228.;14.0;71;Japan'], ['Ford Pinto;25.0;4;98.00;0;2046.;19.0;71;US'], ['Volkswagen Super Beetle 117;0;4;97.00;48.00;1978.;20.0;71;Europe'], ['AMC Gremlin;19.0;6;232.0;100.0;2634.;13.0;71;US'], ['Plymouth Satellite Custom;16.0;6;225.0;105.0;3439.;15.5;71;US'], ['Chevrolet Chevelle Malibu;17.0;6;250.0;100.0;3329.;15.5;71;US'], ['Ford Torino 500;19.0;6;250.0;88.00;3302.;15.5;71;US'], ['AMC Matador;18.0;6;232.0;100.0;3288.;15.5;71;US'], ['Chevrolet Impala;14.0;8;350.0;165.0;4209.;12.0;71;US'], ['Pontiac Catalina Brougham;14.0;8;400.0;175.0;4464.;11.5;71;US'], \n",
        "           ['Ford Galaxie 500;14.0;8;351.0;153.0;4154.;13.5;71;US'], ['Plymouth Fury iii;14.0;8;318.0;150.0;4096.;13.0;71;US'], ['Dodge Monaco (sw);12.0;8;383.0;180.0;4955.;11.5;71;US'], ['Ford Country Squire (sw);13.0;8;400.0;170.0;4746.;12.0;71;US'], ['Pontiac Safari (sw);13.0;8;400.0;175.0;5140.;12.0;71;US'], ['AMC Hornet Sportabout (sw);18.0;6;258.0;110.0;2962.;13.5;71;US'], ['Chevrolet Vega (sw);22.0;4;140.0;72.00;2408.;19.0;71;US'], ['Pontiac Firebird;19.0;6;250.0;100.0;3282.;15.0;71;US'], ['Ford Mustang;18.0;6;250.0;88.00;3139.;14.5;71;US'], ['Mercury Capri 2000;23.0;4;122.0;86.00;2220.;14.0;71;US'], ['Opel 1900;28.0;4;116.0;90.00;2123.;14.0;71;Europe'], \n",
        "           ['Peugeot 304;30.0;4;79.00;70.00;2074.;19.5;71;Europe'], ['Fiat 124B;30.0;4;88.00;76.00;2065.;14.5;71;Europe'], ['Toyota Corolla 1200;31.0;4;71.00;65.00;1773.;19.0;71;Japan'], ['Datsun 1200;35.0;4;72.00;69.00;1613.;18.0;71;Japan'], ['Volkswagen Model 111;27.0;4;97.00;60.00;1834.;19.0;71;Europe'], ['Plymouth Cricket;26.0;4;91.00;70.00;1955.;20.5;71;US'], ['Toyota Corolla Hardtop;24.0;4;113.0;95.00;2278.;15.5;72;Japan'], ['Dodge Colt Hardtop;25.0;4;97.50;80.00;2126.;17.0;72;US'], ['Volkswagen Type 3;23.0;4;97.00;54.00;2254.;23.5;72;Europe'], ['Chevrolet Vega;20.0;4;140.0;90.00;2408.;19.5;72;US'], ['Ford Pinto Runabout;21.0;4;122.0;86.00;2226.;16.5;72;US'],\n",
        "           ['Chevrolet Impala;13.0;8;350.0;165.0;4274.;12.0;72;US'], ['Pontiac Catalina;14.0;8;400.0;175.0;4385.;12.0;72;US'], ['Plymouth Fury III;15.0;8;318.0;150.0;4135.;13.5;72;US'], ['Ford Galaxie 500;14.0;8;351.0;153.0;4129.;13.0;72;US'], ['AMC Ambassador SST;17.0;8;304.0;150.0;3672.;11.5;72;US'], ['Mercury Marquis;11.0;8;429.0;208.0;4633.;11.0;72;US'], ['Buick LeSabre Custom;13.0;8;350.0;155.0;4502.;13.5;72;US'],\n",
        "           ['Oldsmobile Delta 88 Royale;12.0;8;350.0;160.0;4456.;13.5;72;US'], ['Chrysler Newport Royal;13.0;8;400.0;190.0;4422.;12.5;72;US'], ['Mazda RX2 Coupe;19.0;3;70.00;97.00;2330.;13.5;72;Japan'], ['AMC Matador (sw);15.0;8;304.0;150.0;3892.;12.5;72;US'], ['Chevrolet Chevelle Concours (sw);13.0;8;307.0;130.0;4098.;14.0;72;US'], ['Ford Gran Torino (sw);13.0;8;302.0;140.0;4294.;16.0;72;US'], ['Plymouth Satellite Custom (sw);14.0;8;318.0;150.0;4077.;14.0;72;US'], ['Volvo 145e (sw);18.0;4;121.0;112.0;2933.;14.5;72;Europe'], \n",
        "           ['Volkswagen 411 (sw);22.0;4;121.0;76.00;2511.;18.0;72;Europe'], ['Peugeot 504 (sw);21.0;4;120.0;87.00;2979.;19.5;72;Europe'], ['Renault 12 (sw);26.0;4;96.00;69.00;2189.;18.0;72;Europe'], ['Ford Pinto (sw);22.0;4;122.0;86.00;2395.;16.0;72;US'], ['Datsun 510 (sw);28.0;4;97.00;92.00;2288.;17.0;72;Japan'], ['Toyota Corolla Mark II (sw);23.0;4;120.0;97.00;2506.;14.5;72;Japan'], ['Dodge Colt (sw);28.0;4;98.00;80.00;2164.;15.0;72;US'], ['Toyota Corolla 1600 (sw);27.0;4;97.00;88.00;2100.;16.5;72;Japan'], ['Buick Century 350;13.0;8;350.0;175.0;4100.;13.0;73;US']]"
      ]
    },
    {
      "cell_type": "code",
      "execution_count": 193,
      "metadata": {
        "id": "xkZ-UBYHlcU6"
      },
      "outputs": [],
      "source": [
        "data.inputs=[-1,-1,1,1,-1,-1,-1,-1,-1]\n",
        "data.output=4\n",
        "data.regularization=\"L1\"\n",
        "data.learningRate=0.2\n",
        "data.regRate=0.2\n",
        "data.encode=\"OneHotEncoding\"\n",
        "data.loss=\"Mse\"\n",
        "data.activation='ReLu'\n",
        "data.layers=3\n",
        "data.neurons=10\n",
        "data.epoche=10\n",
        "data.missingCat=\"Delete\"\n",
        "data.missingNum=\"Delete\"\n",
        "data.outlier=\"Svm\"\n",
        "data.model=\"Classification\"\n",
        "data.optimizer=\"Adam\""
      ]
    },
    {
      "cell_type": "markdown",
      "metadata": {
        "id": "d2ooNFaT8I40"
      },
      "source": [
        "# Formiranje dataframe-a"
      ]
    },
    {
      "cell_type": "markdown",
      "metadata": {
        "id": "XlgvTitYhw55"
      },
      "source": [
        "** Objasnjenje:**\n",
        "\n",
        "1. S obzirom da jedan string sadži vrdnosti za sve kolone jedne vrste(razdvojene znakom ;), mora se prvo splitovati po \";\"\n",
        "\n",
        "2. Prilikom splitovanja će sve pojedinačne vrednosti u obliku stringa biti spakovane u niz. Dakle, i brojevi će biti u formaru stringa\n",
        "\n",
        "3. Zato za svaku vrstu treba proveriti da li sadrži numeričke vrednosti i iste pretvoriti u broj, pomoću funkcija **is_number()** i **StrToNum()**"
      ]
    },
    {
      "cell_type": "code",
      "execution_count": 131,
      "metadata": {
        "colab": {
          "base_uri": "https://localhost:8080/"
        },
        "id": "EqqWK2voMA36",
        "outputId": "eb25676d-142c-4bc6-fc73-0c18de8a774d"
      },
      "outputs": [
        {
          "name": "stdout",
          "output_type": "stream",
          "text": [
            "['Chevrolet Chevelle Malibu;18.0;8;307.0;130.0;3504.;12.0;70;US']\n",
            "['Buick Skylark 320;15.0;8;350.0;165.0;3693.;11.5;70;US']\n",
            "['Plymouth Satellite;18.0;8;318.0;150.0;3436.;11.0;70;US']\n",
            "['AMC Rebel SST;16.0;8;304.0;150.0;3433.;12.0;70;US']\n",
            "['Ford Torino;17.0;8;302.0;140.0;3449.;10.5;70;US']\n",
            "['Ford Galaxie 500;15.0;8;429.0;198.0;4341.;10.0;70;US']\n",
            "['Chevrolet Impala;14.0;8;454.0;220.0;4354.;9.0;70;US']\n",
            "['Plymouth Fury iii;14.0;8;440.0;215.0;4312.;8.5;70;US']\n",
            "['Pontiac Catalina;14.0;8;455.0;225.0;4425.;10.0;70;US']\n",
            "['AMC Ambassador DPL;15.0;8;390.0;190.0;3850.;8.5;70;US']\n"
          ]
        }
      ],
      "source": [
        "for i in range(10):\n",
        "  print(data.data[i])"
      ]
    },
    {
      "cell_type": "code",
      "execution_count": 132,
      "metadata": {
        "colab": {
          "base_uri": "https://localhost:8080/"
        },
        "id": "ysIXOH8UJh7n",
        "outputId": "f80a1bf2-a0c5-407d-9b0d-b2d026ab7da0"
      },
      "outputs": [
        {
          "name": "stdout",
          "output_type": "stream",
          "text": [
            "['Car;MPG;Cylinders;Displacement;Horsepower;Weight;Acceleration;Model;Origin']\n"
          ]
        }
      ],
      "source": [
        "print(data.headers)"
      ]
    },
    {
      "cell_type": "markdown",
      "metadata": {
        "id": "w7pJK8uHgH7m"
      },
      "source": [
        "Proverava da li prosledjeni string zapravo broj (ceo ili realan)"
      ]
    },
    {
      "cell_type": "code",
      "execution_count": 133,
      "metadata": {
        "id": "IKt3RUZ6feno"
      },
      "outputs": [],
      "source": [
        "def is_number(element):\n",
        "    try:\n",
        "        float(element)\n",
        "        return True\n",
        "    except ValueError:\n",
        "        return False"
      ]
    },
    {
      "cell_type": "markdown",
      "metadata": {
        "id": "WAXEi9X9gMnU"
      },
      "source": [
        "Prosledjeni string pretvara u broj"
      ]
    },
    {
      "cell_type": "code",
      "execution_count": 134,
      "metadata": {
        "id": "1SZnPS_UfVhl"
      },
      "outputs": [],
      "source": [
        "def StrToNum(y):\n",
        "  for i in range(len(y)):\n",
        "    if is_number(y[i]):\n",
        "      y[i]=float(y[i])\n",
        "  return y\n"
      ]
    },
    {
      "cell_type": "markdown",
      "metadata": {
        "id": "wf0jC4B8gQxC"
      },
      "source": [
        "Parsira matricu i priprema je za dataframe"
      ]
    },
    {
      "cell_type": "code",
      "execution_count": 135,
      "metadata": {
        "id": "6UJPAl67dyg0"
      },
      "outputs": [],
      "source": [
        "def ParsMat(data:RecieveJson):\n",
        "  for i in range(len(data.data)):\n",
        "    y=data.data[i][0].split(\";\")\n",
        "    #print(y)\n",
        "    y=StrToNum(y)\n",
        "    #print(y)\n",
        "    data.data[i]=y\n",
        "  return data\n",
        "\n",
        "\n"
      ]
    },
    {
      "cell_type": "markdown",
      "metadata": {
        "id": "zt6bxsexjeg-"
      },
      "source": [
        "Sledeća funkcija služi za formiranje DataFrame-a, pomoću funkcije DataFrame iz **pandas** biblioteke. Takođe, neophodno je splitovati string koji predstavlja nazive kolona"
      ]
    },
    {
      "cell_type": "code",
      "execution_count": 136,
      "metadata": {
        "id": "n7NLe7Lxl3RL"
      },
      "outputs": [],
      "source": [
        "import pandas as pd\n",
        "def FormirajDataFrame(data):\n",
        "  data=ParsMat(data)\n",
        "  data.headers=(data.headers[0]).split(\";\")\n",
        "  df=pd.DataFrame(data.data,columns=data.headers)\n",
        "  return df"
      ]
    },
    {
      "cell_type": "code",
      "execution_count": 138,
      "metadata": {
        "id": "3wE-1xhemMW8"
      },
      "outputs": [],
      "source": [
        "df=FormirajDataFrame(data)\n"
      ]
    },
    {
      "cell_type": "code",
      "execution_count": 139,
      "metadata": {
        "colab": {
          "base_uri": "https://localhost:8080/",
          "height": 423
        },
        "id": "IR7_bI1lmdIt",
        "outputId": "a5a2f5ee-8edb-4ead-a2e8-53caea60131c"
      },
      "outputs": [
        {
          "data": {
            "text/html": [
              "\n",
              "  <div id=\"df-f703ca0f-8f1a-4a6e-8d5f-3000e0821d11\">\n",
              "    <div class=\"colab-df-container\">\n",
              "      <div>\n",
              "<style scoped>\n",
              "    .dataframe tbody tr th:only-of-type {\n",
              "        vertical-align: middle;\n",
              "    }\n",
              "\n",
              "    .dataframe tbody tr th {\n",
              "        vertical-align: top;\n",
              "    }\n",
              "\n",
              "    .dataframe thead th {\n",
              "        text-align: right;\n",
              "    }\n",
              "</style>\n",
              "<table border=\"1\" class=\"dataframe\">\n",
              "  <thead>\n",
              "    <tr style=\"text-align: right;\">\n",
              "      <th></th>\n",
              "      <th>Car</th>\n",
              "      <th>MPG</th>\n",
              "      <th>Cylinders</th>\n",
              "      <th>Displacement</th>\n",
              "      <th>Horsepower</th>\n",
              "      <th>Weight</th>\n",
              "      <th>Acceleration</th>\n",
              "      <th>Model</th>\n",
              "      <th>Origin</th>\n",
              "    </tr>\n",
              "  </thead>\n",
              "  <tbody>\n",
              "    <tr>\n",
              "      <th>0</th>\n",
              "      <td>Chevrolet Chevelle Malibu</td>\n",
              "      <td>18.0</td>\n",
              "      <td>8.0</td>\n",
              "      <td>307.0</td>\n",
              "      <td>130.0</td>\n",
              "      <td>3504.0</td>\n",
              "      <td>12.0</td>\n",
              "      <td>70.0</td>\n",
              "      <td>US</td>\n",
              "    </tr>\n",
              "    <tr>\n",
              "      <th>1</th>\n",
              "      <td>Buick Skylark 320</td>\n",
              "      <td>15.0</td>\n",
              "      <td>8.0</td>\n",
              "      <td>350.0</td>\n",
              "      <td>165.0</td>\n",
              "      <td>3693.0</td>\n",
              "      <td>11.5</td>\n",
              "      <td>70.0</td>\n",
              "      <td>US</td>\n",
              "    </tr>\n",
              "    <tr>\n",
              "      <th>2</th>\n",
              "      <td>Plymouth Satellite</td>\n",
              "      <td>18.0</td>\n",
              "      <td>8.0</td>\n",
              "      <td>318.0</td>\n",
              "      <td>150.0</td>\n",
              "      <td>3436.0</td>\n",
              "      <td>11.0</td>\n",
              "      <td>70.0</td>\n",
              "      <td>US</td>\n",
              "    </tr>\n",
              "    <tr>\n",
              "      <th>3</th>\n",
              "      <td>AMC Rebel SST</td>\n",
              "      <td>16.0</td>\n",
              "      <td>8.0</td>\n",
              "      <td>304.0</td>\n",
              "      <td>150.0</td>\n",
              "      <td>3433.0</td>\n",
              "      <td>12.0</td>\n",
              "      <td>70.0</td>\n",
              "      <td>US</td>\n",
              "    </tr>\n",
              "    <tr>\n",
              "      <th>4</th>\n",
              "      <td>Ford Torino</td>\n",
              "      <td>17.0</td>\n",
              "      <td>8.0</td>\n",
              "      <td>302.0</td>\n",
              "      <td>140.0</td>\n",
              "      <td>3449.0</td>\n",
              "      <td>10.5</td>\n",
              "      <td>70.0</td>\n",
              "      <td>US</td>\n",
              "    </tr>\n",
              "    <tr>\n",
              "      <th>...</th>\n",
              "      <td>...</td>\n",
              "      <td>...</td>\n",
              "      <td>...</td>\n",
              "      <td>...</td>\n",
              "      <td>...</td>\n",
              "      <td>...</td>\n",
              "      <td>...</td>\n",
              "      <td>...</td>\n",
              "      <td>...</td>\n",
              "    </tr>\n",
              "    <tr>\n",
              "      <th>88</th>\n",
              "      <td>Datsun 510 (sw)</td>\n",
              "      <td>28.0</td>\n",
              "      <td>4.0</td>\n",
              "      <td>97.0</td>\n",
              "      <td>92.0</td>\n",
              "      <td>2288.0</td>\n",
              "      <td>17.0</td>\n",
              "      <td>72.0</td>\n",
              "      <td>Japan</td>\n",
              "    </tr>\n",
              "    <tr>\n",
              "      <th>89</th>\n",
              "      <td>Toyota Corolla Mark II (sw)</td>\n",
              "      <td>23.0</td>\n",
              "      <td>4.0</td>\n",
              "      <td>120.0</td>\n",
              "      <td>97.0</td>\n",
              "      <td>2506.0</td>\n",
              "      <td>14.5</td>\n",
              "      <td>72.0</td>\n",
              "      <td>Japan</td>\n",
              "    </tr>\n",
              "    <tr>\n",
              "      <th>90</th>\n",
              "      <td>Dodge Colt (sw)</td>\n",
              "      <td>28.0</td>\n",
              "      <td>4.0</td>\n",
              "      <td>98.0</td>\n",
              "      <td>80.0</td>\n",
              "      <td>2164.0</td>\n",
              "      <td>15.0</td>\n",
              "      <td>72.0</td>\n",
              "      <td>US</td>\n",
              "    </tr>\n",
              "    <tr>\n",
              "      <th>91</th>\n",
              "      <td>Toyota Corolla 1600 (sw)</td>\n",
              "      <td>27.0</td>\n",
              "      <td>4.0</td>\n",
              "      <td>97.0</td>\n",
              "      <td>88.0</td>\n",
              "      <td>2100.0</td>\n",
              "      <td>16.5</td>\n",
              "      <td>72.0</td>\n",
              "      <td>Japan</td>\n",
              "    </tr>\n",
              "    <tr>\n",
              "      <th>92</th>\n",
              "      <td>Buick Century 350</td>\n",
              "      <td>13.0</td>\n",
              "      <td>8.0</td>\n",
              "      <td>350.0</td>\n",
              "      <td>175.0</td>\n",
              "      <td>4100.0</td>\n",
              "      <td>13.0</td>\n",
              "      <td>73.0</td>\n",
              "      <td>US</td>\n",
              "    </tr>\n",
              "  </tbody>\n",
              "</table>\n",
              "<p>93 rows × 9 columns</p>\n",
              "</div>\n",
              "      <button class=\"colab-df-convert\" onclick=\"convertToInteractive('df-f703ca0f-8f1a-4a6e-8d5f-3000e0821d11')\"\n",
              "              title=\"Convert this dataframe to an interactive table.\"\n",
              "              style=\"display:none;\">\n",
              "        \n",
              "  <svg xmlns=\"http://www.w3.org/2000/svg\" height=\"24px\"viewBox=\"0 0 24 24\"\n",
              "       width=\"24px\">\n",
              "    <path d=\"M0 0h24v24H0V0z\" fill=\"none\"/>\n",
              "    <path d=\"M18.56 5.44l.94 2.06.94-2.06 2.06-.94-2.06-.94-.94-2.06-.94 2.06-2.06.94zm-11 1L8.5 8.5l.94-2.06 2.06-.94-2.06-.94L8.5 2.5l-.94 2.06-2.06.94zm10 10l.94 2.06.94-2.06 2.06-.94-2.06-.94-.94-2.06-.94 2.06-2.06.94z\"/><path d=\"M17.41 7.96l-1.37-1.37c-.4-.4-.92-.59-1.43-.59-.52 0-1.04.2-1.43.59L10.3 9.45l-7.72 7.72c-.78.78-.78 2.05 0 2.83L4 21.41c.39.39.9.59 1.41.59.51 0 1.02-.2 1.41-.59l7.78-7.78 2.81-2.81c.8-.78.8-2.07 0-2.86zM5.41 20L4 18.59l7.72-7.72 1.47 1.35L5.41 20z\"/>\n",
              "  </svg>\n",
              "      </button>\n",
              "      \n",
              "  <style>\n",
              "    .colab-df-container {\n",
              "      display:flex;\n",
              "      flex-wrap:wrap;\n",
              "      gap: 12px;\n",
              "    }\n",
              "\n",
              "    .colab-df-convert {\n",
              "      background-color: #E8F0FE;\n",
              "      border: none;\n",
              "      border-radius: 50%;\n",
              "      cursor: pointer;\n",
              "      display: none;\n",
              "      fill: #1967D2;\n",
              "      height: 32px;\n",
              "      padding: 0 0 0 0;\n",
              "      width: 32px;\n",
              "    }\n",
              "\n",
              "    .colab-df-convert:hover {\n",
              "      background-color: #E2EBFA;\n",
              "      box-shadow: 0px 1px 2px rgba(60, 64, 67, 0.3), 0px 1px 3px 1px rgba(60, 64, 67, 0.15);\n",
              "      fill: #174EA6;\n",
              "    }\n",
              "\n",
              "    [theme=dark] .colab-df-convert {\n",
              "      background-color: #3B4455;\n",
              "      fill: #D2E3FC;\n",
              "    }\n",
              "\n",
              "    [theme=dark] .colab-df-convert:hover {\n",
              "      background-color: #434B5C;\n",
              "      box-shadow: 0px 1px 3px 1px rgba(0, 0, 0, 0.15);\n",
              "      filter: drop-shadow(0px 1px 2px rgba(0, 0, 0, 0.3));\n",
              "      fill: #FFFFFF;\n",
              "    }\n",
              "  </style>\n",
              "\n",
              "      <script>\n",
              "        const buttonEl =\n",
              "          document.querySelector('#df-f703ca0f-8f1a-4a6e-8d5f-3000e0821d11 button.colab-df-convert');\n",
              "        buttonEl.style.display =\n",
              "          google.colab.kernel.accessAllowed ? 'block' : 'none';\n",
              "\n",
              "        async function convertToInteractive(key) {\n",
              "          const element = document.querySelector('#df-f703ca0f-8f1a-4a6e-8d5f-3000e0821d11');\n",
              "          const dataTable =\n",
              "            await google.colab.kernel.invokeFunction('convertToInteractive',\n",
              "                                                     [key], {});\n",
              "          if (!dataTable) return;\n",
              "\n",
              "          const docLinkHtml = 'Like what you see? Visit the ' +\n",
              "            '<a target=\"_blank\" href=https://colab.research.google.com/notebooks/data_table.ipynb>data table notebook</a>'\n",
              "            + ' to learn more about interactive tables.';\n",
              "          element.innerHTML = '';\n",
              "          dataTable['output_type'] = 'display_data';\n",
              "          await google.colab.output.renderOutput(dataTable, element);\n",
              "          const docLink = document.createElement('div');\n",
              "          docLink.innerHTML = docLinkHtml;\n",
              "          element.appendChild(docLink);\n",
              "        }\n",
              "      </script>\n",
              "    </div>\n",
              "  </div>\n",
              "  "
            ],
            "text/plain": [
              "                            Car   MPG  Cylinders  Displacement  Horsepower  \\\n",
              "0     Chevrolet Chevelle Malibu  18.0        8.0         307.0       130.0   \n",
              "1             Buick Skylark 320  15.0        8.0         350.0       165.0   \n",
              "2            Plymouth Satellite  18.0        8.0         318.0       150.0   \n",
              "3                 AMC Rebel SST  16.0        8.0         304.0       150.0   \n",
              "4                   Ford Torino  17.0        8.0         302.0       140.0   \n",
              "..                          ...   ...        ...           ...         ...   \n",
              "88              Datsun 510 (sw)  28.0        4.0          97.0        92.0   \n",
              "89  Toyota Corolla Mark II (sw)  23.0        4.0         120.0        97.0   \n",
              "90              Dodge Colt (sw)  28.0        4.0          98.0        80.0   \n",
              "91     Toyota Corolla 1600 (sw)  27.0        4.0          97.0        88.0   \n",
              "92            Buick Century 350  13.0        8.0         350.0       175.0   \n",
              "\n",
              "    Weight  Acceleration  Model Origin  \n",
              "0   3504.0          12.0   70.0     US  \n",
              "1   3693.0          11.5   70.0     US  \n",
              "2   3436.0          11.0   70.0     US  \n",
              "3   3433.0          12.0   70.0     US  \n",
              "4   3449.0          10.5   70.0     US  \n",
              "..     ...           ...    ...    ...  \n",
              "88  2288.0          17.0   72.0  Japan  \n",
              "89  2506.0          14.5   72.0  Japan  \n",
              "90  2164.0          15.0   72.0     US  \n",
              "91  2100.0          16.5   72.0  Japan  \n",
              "92  4100.0          13.0   73.0     US  \n",
              "\n",
              "[93 rows x 9 columns]"
            ]
          },
          "execution_count": 139,
          "metadata": {},
          "output_type": "execute_result"
        }
      ],
      "source": [
        "df"
      ]
    },
    {
      "cell_type": "markdown",
      "metadata": {
        "id": "ottwmOdukUrK"
      },
      "source": [
        "Provera tipova svake kolone u dataset-u\n"
      ]
    },
    {
      "cell_type": "code",
      "execution_count": 140,
      "metadata": {
        "colab": {
          "base_uri": "https://localhost:8080/"
        },
        "id": "W9NqWdHvg8d0",
        "outputId": "18bbf4db-6c85-4916-b0e9-04f3d2bd33ce"
      },
      "outputs": [
        {
          "name": "stdout",
          "output_type": "stream",
          "text": [
            "Car              object\n",
            "MPG             float64\n",
            "Cylinders       float64\n",
            "Displacement    float64\n",
            "Horsepower      float64\n",
            "Weight          float64\n",
            "Acceleration    float64\n",
            "Model           float64\n",
            "Origin           object\n",
            "dtype: object\n"
          ]
        }
      ],
      "source": [
        "tipovi=df.dtypes\n",
        "print(tipovi)"
      ]
    },
    {
      "cell_type": "markdown",
      "metadata": {
        "id": "e9R3T2o5q7LT"
      },
      "source": [
        "# Definisanje potrebnih enuma-a"
      ]
    },
    {
      "cell_type": "code",
      "execution_count": 141,
      "metadata": {
        "id": "mTCYYC-26anl"
      },
      "outputs": [],
      "source": [
        "from enum import Enum"
      ]
    },
    {
      "cell_type": "markdown",
      "metadata": {
        "id": "aoPkKooK8V0r"
      },
      "source": [
        "Enum za aktivacionu funkciju"
      ]
    },
    {
      "cell_type": "code",
      "execution_count": 192,
      "metadata": {
        "id": "vfgciISlkbWL"
      },
      "outputs": [],
      "source": [
        "class ActivationType(Enum):\n",
        "  Sigmoid=\"sigmoid\"\n",
        "  ReLu=\"relu\"\n",
        "  Linear='linear'\n",
        "  Softmax=\"softmax\"\n",
        "  Tanh=\"tanh\"\n",
        "  none=\"None\"\n"
      ]
    },
    {
      "cell_type": "markdown",
      "metadata": {
        "id": "ZtXTv_Id8ZeV"
      },
      "source": [
        "Enum za funkciju gubitka"
      ]
    },
    {
      "cell_type": "code",
      "execution_count": 143,
      "metadata": {
        "id": "P9dgTlaTkfhd"
      },
      "outputs": [],
      "source": [
        "class LossType(Enum):\n",
        "  Binarycross='binary_crossentropy'\n",
        "  Categoricalcross='categorical_crossentropy'\n",
        "  Mse='mse'\n",
        "  Non=\"None\""
      ]
    },
    {
      "cell_type": "markdown",
      "metadata": {
        "id": "Ru0lAmFY8cDf"
      },
      "source": [
        "Enum za regularizator"
      ]
    },
    {
      "cell_type": "code",
      "execution_count": 144,
      "metadata": {
        "id": "ZFKHPExqeucT"
      },
      "outputs": [],
      "source": [
        "class RegularizationType(Enum):\n",
        "  L1=\"L1\"\n",
        "  L2=\"L2\"\n",
        "  none=\"None\"\n",
        "  "
      ]
    },
    {
      "cell_type": "markdown",
      "metadata": {
        "id": "UKhSP5Z-8ehu"
      },
      "source": [
        "Enum za tip problema koji se rešava"
      ]
    },
    {
      "cell_type": "code",
      "execution_count": 145,
      "metadata": {
        "id": "HrcCJLQcg34X"
      },
      "outputs": [],
      "source": [
        "class ProblemType(Enum):\n",
        "  Classification=\"Classification\"\n",
        "  Regression:\"Regression\"\n",
        "  none=\"None\""
      ]
    },
    {
      "cell_type": "markdown",
      "metadata": {
        "id": "MHMno7CI8iwq"
      },
      "source": [
        "Enum za optimizator"
      ]
    },
    {
      "cell_type": "code",
      "execution_count": 146,
      "metadata": {
        "id": "4D87hLzo0gNK"
      },
      "outputs": [],
      "source": [
        "class OptimizerType(Enum):\n",
        "  none=\"None\"\n",
        "  Adam=\"Adam\"\n",
        "  Sgd=\"SGD\""
      ]
    },
    {
      "cell_type": "markdown",
      "metadata": {
        "id": "SxalQ4HX8ltn"
      },
      "source": [
        "# Izdvajanje potrebnih kolona u novi dataframe"
      ]
    },
    {
      "cell_type": "code",
      "execution_count": 147,
      "metadata": {
        "colab": {
          "base_uri": "https://localhost:8080/"
        },
        "id": "eGY3RreRq2c7",
        "outputId": "148d6e92-b81f-4636-d9c8-7660ff7f8be1"
      },
      "outputs": [
        {
          "name": "stdout",
          "output_type": "stream",
          "text": [
            "[2, 3]\n"
          ]
        }
      ],
      "source": [
        "ulazi=[]\n",
        "i=0\n",
        "for x in data.inputs:\n",
        "  if x==1:\n",
        "    ulazi.append(i)\n",
        "  i+=1\n",
        "print(ulazi)"
      ]
    },
    {
      "cell_type": "code",
      "execution_count": 148,
      "metadata": {
        "id": "9stHjcKK69q7"
      },
      "outputs": [],
      "source": [
        "dataset=df"
      ]
    },
    {
      "cell_type": "code",
      "execution_count": 149,
      "metadata": {
        "colab": {
          "base_uri": "https://localhost:8080/",
          "height": 206
        },
        "id": "pb1pZzhT6iRX",
        "outputId": "6af6a9aa-4d74-4c2d-afd4-d7030eddccc6"
      },
      "outputs": [
        {
          "data": {
            "text/html": [
              "\n",
              "  <div id=\"df-fad563e3-15be-4d33-922d-143910b13bfa\">\n",
              "    <div class=\"colab-df-container\">\n",
              "      <div>\n",
              "<style scoped>\n",
              "    .dataframe tbody tr th:only-of-type {\n",
              "        vertical-align: middle;\n",
              "    }\n",
              "\n",
              "    .dataframe tbody tr th {\n",
              "        vertical-align: top;\n",
              "    }\n",
              "\n",
              "    .dataframe thead th {\n",
              "        text-align: right;\n",
              "    }\n",
              "</style>\n",
              "<table border=\"1\" class=\"dataframe\">\n",
              "  <thead>\n",
              "    <tr style=\"text-align: right;\">\n",
              "      <th></th>\n",
              "      <th>Cylinders</th>\n",
              "      <th>Displacement</th>\n",
              "    </tr>\n",
              "  </thead>\n",
              "  <tbody>\n",
              "    <tr>\n",
              "      <th>0</th>\n",
              "      <td>8.0</td>\n",
              "      <td>307.0</td>\n",
              "    </tr>\n",
              "    <tr>\n",
              "      <th>1</th>\n",
              "      <td>8.0</td>\n",
              "      <td>350.0</td>\n",
              "    </tr>\n",
              "    <tr>\n",
              "      <th>2</th>\n",
              "      <td>8.0</td>\n",
              "      <td>318.0</td>\n",
              "    </tr>\n",
              "    <tr>\n",
              "      <th>3</th>\n",
              "      <td>8.0</td>\n",
              "      <td>304.0</td>\n",
              "    </tr>\n",
              "    <tr>\n",
              "      <th>4</th>\n",
              "      <td>8.0</td>\n",
              "      <td>302.0</td>\n",
              "    </tr>\n",
              "  </tbody>\n",
              "</table>\n",
              "</div>\n",
              "      <button class=\"colab-df-convert\" onclick=\"convertToInteractive('df-fad563e3-15be-4d33-922d-143910b13bfa')\"\n",
              "              title=\"Convert this dataframe to an interactive table.\"\n",
              "              style=\"display:none;\">\n",
              "        \n",
              "  <svg xmlns=\"http://www.w3.org/2000/svg\" height=\"24px\"viewBox=\"0 0 24 24\"\n",
              "       width=\"24px\">\n",
              "    <path d=\"M0 0h24v24H0V0z\" fill=\"none\"/>\n",
              "    <path d=\"M18.56 5.44l.94 2.06.94-2.06 2.06-.94-2.06-.94-.94-2.06-.94 2.06-2.06.94zm-11 1L8.5 8.5l.94-2.06 2.06-.94-2.06-.94L8.5 2.5l-.94 2.06-2.06.94zm10 10l.94 2.06.94-2.06 2.06-.94-2.06-.94-.94-2.06-.94 2.06-2.06.94z\"/><path d=\"M17.41 7.96l-1.37-1.37c-.4-.4-.92-.59-1.43-.59-.52 0-1.04.2-1.43.59L10.3 9.45l-7.72 7.72c-.78.78-.78 2.05 0 2.83L4 21.41c.39.39.9.59 1.41.59.51 0 1.02-.2 1.41-.59l7.78-7.78 2.81-2.81c.8-.78.8-2.07 0-2.86zM5.41 20L4 18.59l7.72-7.72 1.47 1.35L5.41 20z\"/>\n",
              "  </svg>\n",
              "      </button>\n",
              "      \n",
              "  <style>\n",
              "    .colab-df-container {\n",
              "      display:flex;\n",
              "      flex-wrap:wrap;\n",
              "      gap: 12px;\n",
              "    }\n",
              "\n",
              "    .colab-df-convert {\n",
              "      background-color: #E8F0FE;\n",
              "      border: none;\n",
              "      border-radius: 50%;\n",
              "      cursor: pointer;\n",
              "      display: none;\n",
              "      fill: #1967D2;\n",
              "      height: 32px;\n",
              "      padding: 0 0 0 0;\n",
              "      width: 32px;\n",
              "    }\n",
              "\n",
              "    .colab-df-convert:hover {\n",
              "      background-color: #E2EBFA;\n",
              "      box-shadow: 0px 1px 2px rgba(60, 64, 67, 0.3), 0px 1px 3px 1px rgba(60, 64, 67, 0.15);\n",
              "      fill: #174EA6;\n",
              "    }\n",
              "\n",
              "    [theme=dark] .colab-df-convert {\n",
              "      background-color: #3B4455;\n",
              "      fill: #D2E3FC;\n",
              "    }\n",
              "\n",
              "    [theme=dark] .colab-df-convert:hover {\n",
              "      background-color: #434B5C;\n",
              "      box-shadow: 0px 1px 3px 1px rgba(0, 0, 0, 0.15);\n",
              "      filter: drop-shadow(0px 1px 2px rgba(0, 0, 0, 0.3));\n",
              "      fill: #FFFFFF;\n",
              "    }\n",
              "  </style>\n",
              "\n",
              "      <script>\n",
              "        const buttonEl =\n",
              "          document.querySelector('#df-fad563e3-15be-4d33-922d-143910b13bfa button.colab-df-convert');\n",
              "        buttonEl.style.display =\n",
              "          google.colab.kernel.accessAllowed ? 'block' : 'none';\n",
              "\n",
              "        async function convertToInteractive(key) {\n",
              "          const element = document.querySelector('#df-fad563e3-15be-4d33-922d-143910b13bfa');\n",
              "          const dataTable =\n",
              "            await google.colab.kernel.invokeFunction('convertToInteractive',\n",
              "                                                     [key], {});\n",
              "          if (!dataTable) return;\n",
              "\n",
              "          const docLinkHtml = 'Like what you see? Visit the ' +\n",
              "            '<a target=\"_blank\" href=https://colab.research.google.com/notebooks/data_table.ipynb>data table notebook</a>'\n",
              "            + ' to learn more about interactive tables.';\n",
              "          element.innerHTML = '';\n",
              "          dataTable['output_type'] = 'display_data';\n",
              "          await google.colab.output.renderOutput(dataTable, element);\n",
              "          const docLink = document.createElement('div');\n",
              "          docLink.innerHTML = docLinkHtml;\n",
              "          element.appendChild(docLink);\n",
              "        }\n",
              "      </script>\n",
              "    </div>\n",
              "  </div>\n",
              "  "
            ],
            "text/plain": [
              "   Cylinders  Displacement\n",
              "0        8.0         307.0\n",
              "1        8.0         350.0\n",
              "2        8.0         318.0\n",
              "3        8.0         304.0\n",
              "4        8.0         302.0"
            ]
          },
          "execution_count": 149,
          "metadata": {},
          "output_type": "execute_result"
        }
      ],
      "source": [
        "inputs=dataset.iloc[:,ulazi]\n",
        "inputs.head()"
      ]
    },
    {
      "cell_type": "markdown",
      "metadata": {
        "id": "crKa4I3R8-Cm"
      },
      "source": [
        "Izdvajanje kolone koja predstavlja izlaz iz mreže"
      ]
    },
    {
      "cell_type": "code",
      "execution_count": 150,
      "metadata": {
        "colab": {
          "base_uri": "https://localhost:8080/"
        },
        "id": "_02Rdfx77B8_",
        "outputId": "d06240f3-1561-4e8d-b7f7-c6ac528e3b18"
      },
      "outputs": [
        {
          "data": {
            "text/plain": [
              "0    130.0\n",
              "1    165.0\n",
              "2    150.0\n",
              "3    150.0\n",
              "4    140.0\n",
              "Name: Horsepower, dtype: float64"
            ]
          },
          "execution_count": 150,
          "metadata": {},
          "output_type": "execute_result"
        }
      ],
      "source": [
        "out=dataset.iloc[:,data.output]\n",
        "out.head()"
      ]
    },
    {
      "cell_type": "markdown",
      "metadata": {
        "id": "__W1qVFf9Bru"
      },
      "source": [
        "Objediniti kolone koje predstavljaju ulaz i izlaz iz mreže, tako što na niz koji predtavlja redne brojeve kolona koje su ulaz dodamo redni broj kolone koja je izlaz. Zatim pomoću funkcije iloc() izdvojimo odgovarajuće vrste i kolone."
      ]
    },
    {
      "cell_type": "code",
      "execution_count": 151,
      "metadata": {
        "colab": {
          "base_uri": "https://localhost:8080/",
          "height": 206
        },
        "id": "gFyaIip19GtR",
        "outputId": "da94718b-b7b4-41ce-b803-69411b6715db"
      },
      "outputs": [
        {
          "data": {
            "text/html": [
              "\n",
              "  <div id=\"df-92cac503-78d9-4409-b7ac-d0fd5572c0f4\">\n",
              "    <div class=\"colab-df-container\">\n",
              "      <div>\n",
              "<style scoped>\n",
              "    .dataframe tbody tr th:only-of-type {\n",
              "        vertical-align: middle;\n",
              "    }\n",
              "\n",
              "    .dataframe tbody tr th {\n",
              "        vertical-align: top;\n",
              "    }\n",
              "\n",
              "    .dataframe thead th {\n",
              "        text-align: right;\n",
              "    }\n",
              "</style>\n",
              "<table border=\"1\" class=\"dataframe\">\n",
              "  <thead>\n",
              "    <tr style=\"text-align: right;\">\n",
              "      <th></th>\n",
              "      <th>Cylinders</th>\n",
              "      <th>Displacement</th>\n",
              "      <th>Horsepower</th>\n",
              "    </tr>\n",
              "  </thead>\n",
              "  <tbody>\n",
              "    <tr>\n",
              "      <th>0</th>\n",
              "      <td>8.0</td>\n",
              "      <td>307.0</td>\n",
              "      <td>130.0</td>\n",
              "    </tr>\n",
              "    <tr>\n",
              "      <th>1</th>\n",
              "      <td>8.0</td>\n",
              "      <td>350.0</td>\n",
              "      <td>165.0</td>\n",
              "    </tr>\n",
              "    <tr>\n",
              "      <th>2</th>\n",
              "      <td>8.0</td>\n",
              "      <td>318.0</td>\n",
              "      <td>150.0</td>\n",
              "    </tr>\n",
              "    <tr>\n",
              "      <th>3</th>\n",
              "      <td>8.0</td>\n",
              "      <td>304.0</td>\n",
              "      <td>150.0</td>\n",
              "    </tr>\n",
              "    <tr>\n",
              "      <th>4</th>\n",
              "      <td>8.0</td>\n",
              "      <td>302.0</td>\n",
              "      <td>140.0</td>\n",
              "    </tr>\n",
              "  </tbody>\n",
              "</table>\n",
              "</div>\n",
              "      <button class=\"colab-df-convert\" onclick=\"convertToInteractive('df-92cac503-78d9-4409-b7ac-d0fd5572c0f4')\"\n",
              "              title=\"Convert this dataframe to an interactive table.\"\n",
              "              style=\"display:none;\">\n",
              "        \n",
              "  <svg xmlns=\"http://www.w3.org/2000/svg\" height=\"24px\"viewBox=\"0 0 24 24\"\n",
              "       width=\"24px\">\n",
              "    <path d=\"M0 0h24v24H0V0z\" fill=\"none\"/>\n",
              "    <path d=\"M18.56 5.44l.94 2.06.94-2.06 2.06-.94-2.06-.94-.94-2.06-.94 2.06-2.06.94zm-11 1L8.5 8.5l.94-2.06 2.06-.94-2.06-.94L8.5 2.5l-.94 2.06-2.06.94zm10 10l.94 2.06.94-2.06 2.06-.94-2.06-.94-.94-2.06-.94 2.06-2.06.94z\"/><path d=\"M17.41 7.96l-1.37-1.37c-.4-.4-.92-.59-1.43-.59-.52 0-1.04.2-1.43.59L10.3 9.45l-7.72 7.72c-.78.78-.78 2.05 0 2.83L4 21.41c.39.39.9.59 1.41.59.51 0 1.02-.2 1.41-.59l7.78-7.78 2.81-2.81c.8-.78.8-2.07 0-2.86zM5.41 20L4 18.59l7.72-7.72 1.47 1.35L5.41 20z\"/>\n",
              "  </svg>\n",
              "      </button>\n",
              "      \n",
              "  <style>\n",
              "    .colab-df-container {\n",
              "      display:flex;\n",
              "      flex-wrap:wrap;\n",
              "      gap: 12px;\n",
              "    }\n",
              "\n",
              "    .colab-df-convert {\n",
              "      background-color: #E8F0FE;\n",
              "      border: none;\n",
              "      border-radius: 50%;\n",
              "      cursor: pointer;\n",
              "      display: none;\n",
              "      fill: #1967D2;\n",
              "      height: 32px;\n",
              "      padding: 0 0 0 0;\n",
              "      width: 32px;\n",
              "    }\n",
              "\n",
              "    .colab-df-convert:hover {\n",
              "      background-color: #E2EBFA;\n",
              "      box-shadow: 0px 1px 2px rgba(60, 64, 67, 0.3), 0px 1px 3px 1px rgba(60, 64, 67, 0.15);\n",
              "      fill: #174EA6;\n",
              "    }\n",
              "\n",
              "    [theme=dark] .colab-df-convert {\n",
              "      background-color: #3B4455;\n",
              "      fill: #D2E3FC;\n",
              "    }\n",
              "\n",
              "    [theme=dark] .colab-df-convert:hover {\n",
              "      background-color: #434B5C;\n",
              "      box-shadow: 0px 1px 3px 1px rgba(0, 0, 0, 0.15);\n",
              "      filter: drop-shadow(0px 1px 2px rgba(0, 0, 0, 0.3));\n",
              "      fill: #FFFFFF;\n",
              "    }\n",
              "  </style>\n",
              "\n",
              "      <script>\n",
              "        const buttonEl =\n",
              "          document.querySelector('#df-92cac503-78d9-4409-b7ac-d0fd5572c0f4 button.colab-df-convert');\n",
              "        buttonEl.style.display =\n",
              "          google.colab.kernel.accessAllowed ? 'block' : 'none';\n",
              "\n",
              "        async function convertToInteractive(key) {\n",
              "          const element = document.querySelector('#df-92cac503-78d9-4409-b7ac-d0fd5572c0f4');\n",
              "          const dataTable =\n",
              "            await google.colab.kernel.invokeFunction('convertToInteractive',\n",
              "                                                     [key], {});\n",
              "          if (!dataTable) return;\n",
              "\n",
              "          const docLinkHtml = 'Like what you see? Visit the ' +\n",
              "            '<a target=\"_blank\" href=https://colab.research.google.com/notebooks/data_table.ipynb>data table notebook</a>'\n",
              "            + ' to learn more about interactive tables.';\n",
              "          element.innerHTML = '';\n",
              "          dataTable['output_type'] = 'display_data';\n",
              "          await google.colab.output.renderOutput(dataTable, element);\n",
              "          const docLink = document.createElement('div');\n",
              "          docLink.innerHTML = docLinkHtml;\n",
              "          element.appendChild(docLink);\n",
              "        }\n",
              "      </script>\n",
              "    </div>\n",
              "  </div>\n",
              "  "
            ],
            "text/plain": [
              "   Cylinders  Displacement  Horsepower\n",
              "0        8.0         307.0       130.0\n",
              "1        8.0         350.0       165.0\n",
              "2        8.0         318.0       150.0\n",
              "3        8.0         304.0       150.0\n",
              "4        8.0         302.0       140.0"
            ]
          },
          "execution_count": 151,
          "metadata": {},
          "output_type": "execute_result"
        }
      ],
      "source": [
        "ulazi.append(data.output)\n",
        "datas = dataset.iloc[:,ulazi]\n",
        "datas.head()"
      ]
    },
    {
      "cell_type": "markdown",
      "metadata": {
        "id": "_5X6uxNAg6MT"
      },
      "source": [
        "# Analiza podataka"
      ]
    },
    {
      "cell_type": "markdown",
      "metadata": {
        "id": "i7rPPbJ-hD-s"
      },
      "source": [
        "Pre svega, proverimo da li naš skup podataka ima nedostajuće vrednosti."
      ]
    },
    {
      "cell_type": "code",
      "execution_count": 152,
      "metadata": {
        "colab": {
          "base_uri": "https://localhost:8080/"
        },
        "id": "Rov7j6yo9Mfl",
        "outputId": "60ceae72-f665-43bf-e9e0-dce7c089145b"
      },
      "outputs": [
        {
          "data": {
            "text/plain": [
              "Cylinders       0\n",
              "Displacement    0\n",
              "Horsepower      0\n",
              "dtype: int64"
            ]
          },
          "execution_count": 152,
          "metadata": {},
          "output_type": "execute_result"
        }
      ],
      "source": [
        "datas.isna().sum()"
      ]
    },
    {
      "cell_type": "markdown",
      "metadata": {
        "id": "sDpIxBNHhqSo"
      },
      "source": [
        "Pozivajući funkciju info() možemo saznati nešto više o našim podacima. Jedan bitan podatak je i tip svakog atributa koji je označen kolonom Dtype."
      ]
    },
    {
      "cell_type": "code",
      "execution_count": 153,
      "metadata": {
        "colab": {
          "base_uri": "https://localhost:8080/"
        },
        "id": "RKQghZYthucY",
        "outputId": "307d0397-41b8-4cb6-c74e-074191816dd5"
      },
      "outputs": [
        {
          "name": "stdout",
          "output_type": "stream",
          "text": [
            "<class 'pandas.core.frame.DataFrame'>\n",
            "RangeIndex: 93 entries, 0 to 92\n",
            "Data columns (total 3 columns):\n",
            " #   Column        Non-Null Count  Dtype  \n",
            "---  ------        --------------  -----  \n",
            " 0   Cylinders     93 non-null     float64\n",
            " 1   Displacement  93 non-null     float64\n",
            " 2   Horsepower    93 non-null     float64\n",
            "dtypes: float64(3)\n",
            "memory usage: 2.3 KB\n"
          ]
        }
      ],
      "source": [
        "datas.info()"
      ]
    },
    {
      "cell_type": "markdown",
      "metadata": {
        "id": "gBbUtt1eh4hY"
      },
      "source": [
        "Tipove podataka po kolonama možemo izdvojiti u niz sledećom komandom"
      ]
    },
    {
      "cell_type": "code",
      "execution_count": 154,
      "metadata": {
        "colab": {
          "base_uri": "https://localhost:8080/"
        },
        "id": "otWYpfcUh68l",
        "outputId": "3a828579-62d4-48e2-b76b-f7203ad2b8b3"
      },
      "outputs": [
        {
          "name": "stdout",
          "output_type": "stream",
          "text": [
            "Cylinders       float64\n",
            "Displacement    float64\n",
            "Horsepower      float64\n",
            "dtype: object\n"
          ]
        }
      ],
      "source": [
        "tipovi = datas.dtypes\n",
        "print(tipovi)"
      ]
    },
    {
      "cell_type": "markdown",
      "metadata": {
        "id": "VdkbwaoQiCYq"
      },
      "source": [
        "Analizirajmo malo naš skup podataka. Funkcija describe() daje neke informacije u kolonama, kao što su srednja vrednost, standardno odstupanje, minimum,maksimum itd."
      ]
    },
    {
      "cell_type": "code",
      "execution_count": 155,
      "metadata": {
        "colab": {
          "base_uri": "https://localhost:8080/",
          "height": 300
        },
        "id": "P8u6sLgOiETJ",
        "outputId": "b3209ace-dcb6-4c46-d1ce-ebf51e954718"
      },
      "outputs": [
        {
          "data": {
            "text/html": [
              "\n",
              "  <div id=\"df-16a49f31-ee8b-4654-aa5a-d9423462542b\">\n",
              "    <div class=\"colab-df-container\">\n",
              "      <div>\n",
              "<style scoped>\n",
              "    .dataframe tbody tr th:only-of-type {\n",
              "        vertical-align: middle;\n",
              "    }\n",
              "\n",
              "    .dataframe tbody tr th {\n",
              "        vertical-align: top;\n",
              "    }\n",
              "\n",
              "    .dataframe thead th {\n",
              "        text-align: right;\n",
              "    }\n",
              "</style>\n",
              "<table border=\"1\" class=\"dataframe\">\n",
              "  <thead>\n",
              "    <tr style=\"text-align: right;\">\n",
              "      <th></th>\n",
              "      <th>Cylinders</th>\n",
              "      <th>Displacement</th>\n",
              "      <th>Horsepower</th>\n",
              "    </tr>\n",
              "  </thead>\n",
              "  <tbody>\n",
              "    <tr>\n",
              "      <th>count</th>\n",
              "      <td>93.000000</td>\n",
              "      <td>93.000000</td>\n",
              "      <td>93.000000</td>\n",
              "    </tr>\n",
              "    <tr>\n",
              "      <th>mean</th>\n",
              "      <td>6.139785</td>\n",
              "      <td>241.661290</td>\n",
              "      <td>125.677419</td>\n",
              "    </tr>\n",
              "    <tr>\n",
              "      <th>std</th>\n",
              "      <td>1.885825</td>\n",
              "      <td>123.366394</td>\n",
              "      <td>49.053024</td>\n",
              "    </tr>\n",
              "    <tr>\n",
              "      <th>min</th>\n",
              "      <td>3.000000</td>\n",
              "      <td>70.000000</td>\n",
              "      <td>0.000000</td>\n",
              "    </tr>\n",
              "    <tr>\n",
              "      <th>25%</th>\n",
              "      <td>4.000000</td>\n",
              "      <td>113.000000</td>\n",
              "      <td>88.000000</td>\n",
              "    </tr>\n",
              "    <tr>\n",
              "      <th>50%</th>\n",
              "      <td>6.000000</td>\n",
              "      <td>250.000000</td>\n",
              "      <td>112.000000</td>\n",
              "    </tr>\n",
              "    <tr>\n",
              "      <th>75%</th>\n",
              "      <td>8.000000</td>\n",
              "      <td>350.000000</td>\n",
              "      <td>165.000000</td>\n",
              "    </tr>\n",
              "    <tr>\n",
              "      <th>max</th>\n",
              "      <td>8.000000</td>\n",
              "      <td>455.000000</td>\n",
              "      <td>225.000000</td>\n",
              "    </tr>\n",
              "  </tbody>\n",
              "</table>\n",
              "</div>\n",
              "      <button class=\"colab-df-convert\" onclick=\"convertToInteractive('df-16a49f31-ee8b-4654-aa5a-d9423462542b')\"\n",
              "              title=\"Convert this dataframe to an interactive table.\"\n",
              "              style=\"display:none;\">\n",
              "        \n",
              "  <svg xmlns=\"http://www.w3.org/2000/svg\" height=\"24px\"viewBox=\"0 0 24 24\"\n",
              "       width=\"24px\">\n",
              "    <path d=\"M0 0h24v24H0V0z\" fill=\"none\"/>\n",
              "    <path d=\"M18.56 5.44l.94 2.06.94-2.06 2.06-.94-2.06-.94-.94-2.06-.94 2.06-2.06.94zm-11 1L8.5 8.5l.94-2.06 2.06-.94-2.06-.94L8.5 2.5l-.94 2.06-2.06.94zm10 10l.94 2.06.94-2.06 2.06-.94-2.06-.94-.94-2.06-.94 2.06-2.06.94z\"/><path d=\"M17.41 7.96l-1.37-1.37c-.4-.4-.92-.59-1.43-.59-.52 0-1.04.2-1.43.59L10.3 9.45l-7.72 7.72c-.78.78-.78 2.05 0 2.83L4 21.41c.39.39.9.59 1.41.59.51 0 1.02-.2 1.41-.59l7.78-7.78 2.81-2.81c.8-.78.8-2.07 0-2.86zM5.41 20L4 18.59l7.72-7.72 1.47 1.35L5.41 20z\"/>\n",
              "  </svg>\n",
              "      </button>\n",
              "      \n",
              "  <style>\n",
              "    .colab-df-container {\n",
              "      display:flex;\n",
              "      flex-wrap:wrap;\n",
              "      gap: 12px;\n",
              "    }\n",
              "\n",
              "    .colab-df-convert {\n",
              "      background-color: #E8F0FE;\n",
              "      border: none;\n",
              "      border-radius: 50%;\n",
              "      cursor: pointer;\n",
              "      display: none;\n",
              "      fill: #1967D2;\n",
              "      height: 32px;\n",
              "      padding: 0 0 0 0;\n",
              "      width: 32px;\n",
              "    }\n",
              "\n",
              "    .colab-df-convert:hover {\n",
              "      background-color: #E2EBFA;\n",
              "      box-shadow: 0px 1px 2px rgba(60, 64, 67, 0.3), 0px 1px 3px 1px rgba(60, 64, 67, 0.15);\n",
              "      fill: #174EA6;\n",
              "    }\n",
              "\n",
              "    [theme=dark] .colab-df-convert {\n",
              "      background-color: #3B4455;\n",
              "      fill: #D2E3FC;\n",
              "    }\n",
              "\n",
              "    [theme=dark] .colab-df-convert:hover {\n",
              "      background-color: #434B5C;\n",
              "      box-shadow: 0px 1px 3px 1px rgba(0, 0, 0, 0.15);\n",
              "      filter: drop-shadow(0px 1px 2px rgba(0, 0, 0, 0.3));\n",
              "      fill: #FFFFFF;\n",
              "    }\n",
              "  </style>\n",
              "\n",
              "      <script>\n",
              "        const buttonEl =\n",
              "          document.querySelector('#df-16a49f31-ee8b-4654-aa5a-d9423462542b button.colab-df-convert');\n",
              "        buttonEl.style.display =\n",
              "          google.colab.kernel.accessAllowed ? 'block' : 'none';\n",
              "\n",
              "        async function convertToInteractive(key) {\n",
              "          const element = document.querySelector('#df-16a49f31-ee8b-4654-aa5a-d9423462542b');\n",
              "          const dataTable =\n",
              "            await google.colab.kernel.invokeFunction('convertToInteractive',\n",
              "                                                     [key], {});\n",
              "          if (!dataTable) return;\n",
              "\n",
              "          const docLinkHtml = 'Like what you see? Visit the ' +\n",
              "            '<a target=\"_blank\" href=https://colab.research.google.com/notebooks/data_table.ipynb>data table notebook</a>'\n",
              "            + ' to learn more about interactive tables.';\n",
              "          element.innerHTML = '';\n",
              "          dataTable['output_type'] = 'display_data';\n",
              "          await google.colab.output.renderOutput(dataTable, element);\n",
              "          const docLink = document.createElement('div');\n",
              "          docLink.innerHTML = docLinkHtml;\n",
              "          element.appendChild(docLink);\n",
              "        }\n",
              "      </script>\n",
              "    </div>\n",
              "  </div>\n",
              "  "
            ],
            "text/plain": [
              "       Cylinders  Displacement  Horsepower\n",
              "count  93.000000     93.000000   93.000000\n",
              "mean    6.139785    241.661290  125.677419\n",
              "std     1.885825    123.366394   49.053024\n",
              "min     3.000000     70.000000    0.000000\n",
              "25%     4.000000    113.000000   88.000000\n",
              "50%     6.000000    250.000000  112.000000\n",
              "75%     8.000000    350.000000  165.000000\n",
              "max     8.000000    455.000000  225.000000"
            ]
          },
          "execution_count": 155,
          "metadata": {},
          "output_type": "execute_result"
        }
      ],
      "source": [
        "datas.describe()"
      ]
    },
    {
      "cell_type": "markdown",
      "metadata": {
        "id": "PfelfQq4iK89"
      },
      "source": [
        "Ukoliko pozovemo data.shape dobićemo iz koliko vrsta i kolona se sastoji naš \n",
        "skup podataka"
      ]
    },
    {
      "cell_type": "code",
      "execution_count": 156,
      "metadata": {
        "colab": {
          "base_uri": "https://localhost:8080/"
        },
        "id": "9bOKLpRMiMFc",
        "outputId": "f2fcccc2-e9f4-42d3-f647-30810940e594"
      },
      "outputs": [
        {
          "name": "stdout",
          "output_type": "stream",
          "text": [
            "(93, 3)\n"
          ]
        }
      ],
      "source": [
        "shapes=datas.shape\n",
        "print(shapes)"
      ]
    },
    {
      "cell_type": "markdown",
      "metadata": {
        "id": "Pfd08jkBiTn-"
      },
      "source": [
        "# Enkodiranje i obrada nedostajućih vrednosti"
      ]
    },
    {
      "cell_type": "markdown",
      "metadata": {
        "id": "nhFVEKFiice4"
      },
      "source": [
        "## Definisanje potrebnih funkcija"
      ]
    },
    {
      "cell_type": "markdown",
      "metadata": {
        "id": "g82HxZajimjx"
      },
      "source": [
        "Funkcija LabelEncoding kao argumente prima niz tipova podataka po kolonama i ceoskup podataka sa kojima radimo. Ona svaku kategorijsku promenljivu u skupo podataka enkodira pomocu LabelEncodera.\n",
        "\n",
        "Povratna vrednost je skup podataka sa enkodiranim kategorijskim kolonama."
      ]
    },
    {
      "cell_type": "code",
      "execution_count": 157,
      "metadata": {
        "id": "7myCHOBbiY0V"
      },
      "outputs": [],
      "source": [
        "def LabelEncoding(tipovi,data):\n",
        "  i=0\n",
        "  n=len(tipovi)\n",
        "  for x in tipovi:\n",
        "    if x == \"object\":\n",
        "      label_encoder = preprocessing.LabelEncoder()\n",
        "      naziv=data.iloc[:,i].name\n",
        "      naziv1=naziv+\"Label\"\n",
        "      data[naziv1]=label_encoder.fit_transform(data[naziv])\n",
        "      del data[naziv]\n",
        "    i+=1\n",
        "  return data"
      ]
    },
    {
      "cell_type": "markdown",
      "metadata": {
        "id": "FN1mx8gUiy4Q"
      },
      "source": [
        "Funkcija OneHotEncoding kao argumente prima niz tipova podataka po kolonama i ceoskup podataka sa kojima radimo. Ona svaku kategorijsku promenljivu u skupo podataka enkodira pomocu One hot enkodera.\n",
        "\n",
        "Povratna vrednost je skup podataka sa enkodiranim kategorijskim kolonama"
      ]
    },
    {
      "cell_type": "code",
      "execution_count": 158,
      "metadata": {
        "id": "9ATdMnr1is1d"
      },
      "outputs": [],
      "source": [
        "def OneHotEncoding(tipovi,data):\n",
        "  i=0\n",
        "  n=len(tipovi)\n",
        "  for x in tipovi:\n",
        "    if x == \"object\":\n",
        "      naziv=data.iloc[:,i].name\n",
        "      data=pd.get_dummies(data, columns=[naziv],prefix=[naziv])\n",
        "    i+=1\n",
        "  return data"
      ]
    },
    {
      "cell_type": "markdown",
      "metadata": {
        "id": "BzYYXnLoi7Nm"
      },
      "source": [
        "Funkcija **srediNumericke** kao argumente prima skup podataka, ceo broj (1,2,3...) koji predstavlja kod za određivanje načina sređivanja nedostajućih numeričkih vrednosti, kao i redni broj kolone koja se obrađuje. \n",
        "\n",
        "Ukoliko argument **kod** ima vrednost mean, nedostajuće vrednosti će se popuniti srednjom vrednošću kolone, median - popuniće se medijanom, delete-vršiće se brisanje nedostajučih vrednosti, vrednost default znači da je korisnik na front-u odabrao sređivanje nedostajućih vrednosti po default-u. U ovom slučaju je default-na vrednost brisanje, što je moguće promeniti.\n",
        "\n",
        "Treba napomenuti da se ovde ne vrši klasično brisanje vrsta koje sadrže NaN vrednosti, nego se selektuju sve kolone koje ne sadrže NaN vrednosti. Funkcija dropna() bi obrisala iz celog dataset-a nedostajuće vrednosti i za kategorijske i za numeričke kolone, pa nije pogodna za korišćenje u ovom kontekstu.\n",
        "\n",
        "Povratna vrednost je izmenjen skup podataka."
      ]
    },
    {
      "cell_type": "code",
      "execution_count": 159,
      "metadata": {
        "id": "AT_sYZ07pToA"
      },
      "outputs": [],
      "source": [
        "\n",
        "def srediNumericke(data,kod,i):\n",
        "    naziv=data.iloc[:,i].name\n",
        "    #print(naziv)\n",
        "    if kod == \"Mean\":\n",
        "      vrednost=data[naziv].mean()\n",
        "      data[naziv].fillna(vrednost, inplace=True)\n",
        "    elif kod==\"Median\":\n",
        "      vrednost=data[naziv].median()\n",
        "      data[naziv].fillna(vrednost,inplace=True)\n",
        "    elif kod == \"Delete\":\n",
        "      data = data.loc[data[naziv].notnull()]\n",
        "    elif kod == \"Default\":\n",
        "      data = data.loc[data[naziv].notnull()]\n",
        "   \n",
        "    return data"
      ]
    },
    {
      "cell_type": "markdown",
      "metadata": {
        "id": "8ek3g8Zqpbom"
      },
      "source": [
        "Funkcija **srediKategorijske** kao argumente prima skup podataka, ceo broj (1,2,3...) koji predstavlja kod za određivanje načina sređivanja nedostajućih kategorijskih vrednosti, kao i redni broj kolone koja se obrađuje. \n",
        "\n",
        "Ukoliko argument **kod** ima vrednost min, nedostajuće vrednosti će se popuniti  najmanje ponovljenom vrednošću kolone, max - popuniće se najučestalijom, delete-vršiće se brisanje nedostajučih vrednosti, vrednost default znači da je korisnik na front-u odabrao sređivanje nedostajućih vrednosti po default-u. U ovom slučaju je default-na vrednost brisanje, što je moguće promeniti.\n",
        "\n",
        "\n",
        "Treba napomenuti da se ovde ne vrši klasično brisanje vrsta koje sadrže NaN vrednosti, nego se selektuju sve kolone koje ne sadrže NaN vrednosti. Funkcija dropna() bi obrisala iz celog dataset-a nedostajuće vrednosti i za kategorijske i za numeričke kolone, pa nije pogodna za korišćenje u ovom kontekstu.\n",
        "\n",
        "Povratna vrednost je izmenjen skup podataka."
      ]
    },
    {
      "cell_type": "code",
      "execution_count": 160,
      "metadata": {
        "id": "RsmnxQe8i8uD"
      },
      "outputs": [],
      "source": [
        "\n",
        "def srediKategorijske(data,kod,i):\n",
        "  naziv=data.iloc[:,i].name\n",
        "  items = data[naziv].value_counts(sort=False)\n",
        "  if kod==\"Min\":\n",
        "    item = items.loc[[items.idxmin()]]\n",
        "    value, count = item.index[0], item.iat[0]\n",
        "    data[naziv].fillna(value, inplace=True)\n",
        "  elif kod== \"Max\":\n",
        "    item = items.loc[[items.idxmax()]]\n",
        "    value, count = item.index[0], item.iat[0]\n",
        "    data[naziv].fillna(value, inplace=True)\n",
        "  elif kod==\"Delete\":\n",
        "    data = data.loc[data[naziv].notnull()]\n",
        "  elif kod==\"Default\":\n",
        "    data = data.loc[data[naziv].notnull()]\n",
        "  return data\n"
      ]
    },
    {
      "cell_type": "markdown",
      "metadata": {
        "id": "o_w5R6McjDr-"
      },
      "source": [
        "Sledeća funkcija kao argumente prima dataset, kao i dve celobrojne vrednosti, čiji je značaj objasnjen u prethodnim funkcijama, pojedinačno. Vraća izmenjen skup podataka.\n",
        "\n",
        "U zavisnosti od toga da li su kolone numeričkog ili kategorijskog tipa, poziva odgovarajuće funkcije za sređivanje nedostajućih vrednosti.\n",
        "\n"
      ]
    },
    {
      "cell_type": "code",
      "execution_count": 161,
      "metadata": {
        "id": "TCcTajXtjEe6"
      },
      "outputs": [],
      "source": [
        "def srediNedostajuce(data,kod1,kod2):\n",
        "  i=0\n",
        "  tipovi = data.dtypes\n",
        "  #print(tipovi)\n",
        "  n=len(tipovi)\n",
        "  for x in tipovi:\n",
        "    if x == \"object\":\n",
        "      data=srediKategorijske(data,kod1,i)\n",
        "      \n",
        "    else:\n",
        "      data=srediNumericke(data,kod2,i)\n",
        "      \n",
        "    i=i+1\n",
        "  return data"
      ]
    },
    {
      "cell_type": "markdown",
      "metadata": {
        "id": "xtlogm-TjNU7"
      },
      "source": [
        "## Obrada nedostajućih vrednosti"
      ]
    },
    {
      "cell_type": "markdown",
      "metadata": {
        "id": "HtakJ6j9jUkm"
      },
      "source": [
        "\n",
        "Da bismo na pokaznom primeru proverili da li funkcije vrše predviđeni posao, kopirajmo u novu promenljivu ceo dataset.\n",
        "\n",
        "Proverimo da li postoje nedostajuće vrednosti."
      ]
    },
    {
      "cell_type": "code",
      "execution_count": 162,
      "metadata": {
        "colab": {
          "base_uri": "https://localhost:8080/"
        },
        "id": "5hdvtmBqjcak",
        "outputId": "954eeec8-53d5-4ab4-8245-817673294f35"
      },
      "outputs": [
        {
          "data": {
            "text/plain": [
              "Cylinders       0\n",
              "Displacement    0\n",
              "Horsepower      0\n",
              "dtype: int64"
            ]
          },
          "execution_count": 162,
          "metadata": {},
          "output_type": "execute_result"
        }
      ],
      "source": [
        "data1=datas.copy()\n",
        "data1.isna().sum()"
      ]
    },
    {
      "cell_type": "code",
      "execution_count": 179,
      "metadata": {
        "colab": {
          "base_uri": "https://localhost:8080/",
          "height": 206
        },
        "id": "gjpakbXsq72O",
        "outputId": "c4ae801d-9c29-49e8-8220-84f27e2ee492"
      },
      "outputs": [
        {
          "data": {
            "text/html": [
              "\n",
              "  <div id=\"df-576bbeef-6661-4a2f-8ab4-2720b89c8490\">\n",
              "    <div class=\"colab-df-container\">\n",
              "      <div>\n",
              "<style scoped>\n",
              "    .dataframe tbody tr th:only-of-type {\n",
              "        vertical-align: middle;\n",
              "    }\n",
              "\n",
              "    .dataframe tbody tr th {\n",
              "        vertical-align: top;\n",
              "    }\n",
              "\n",
              "    .dataframe thead th {\n",
              "        text-align: right;\n",
              "    }\n",
              "</style>\n",
              "<table border=\"1\" class=\"dataframe\">\n",
              "  <thead>\n",
              "    <tr style=\"text-align: right;\">\n",
              "      <th></th>\n",
              "      <th>Cylinders</th>\n",
              "      <th>Displacement</th>\n",
              "      <th>Horsepower</th>\n",
              "    </tr>\n",
              "  </thead>\n",
              "  <tbody>\n",
              "    <tr>\n",
              "      <th>0</th>\n",
              "      <td>8.0</td>\n",
              "      <td>307.0</td>\n",
              "      <td>130.0</td>\n",
              "    </tr>\n",
              "    <tr>\n",
              "      <th>1</th>\n",
              "      <td>8.0</td>\n",
              "      <td>350.0</td>\n",
              "      <td>165.0</td>\n",
              "    </tr>\n",
              "    <tr>\n",
              "      <th>2</th>\n",
              "      <td>8.0</td>\n",
              "      <td>318.0</td>\n",
              "      <td>150.0</td>\n",
              "    </tr>\n",
              "    <tr>\n",
              "      <th>3</th>\n",
              "      <td>8.0</td>\n",
              "      <td>304.0</td>\n",
              "      <td>150.0</td>\n",
              "    </tr>\n",
              "    <tr>\n",
              "      <th>4</th>\n",
              "      <td>8.0</td>\n",
              "      <td>302.0</td>\n",
              "      <td>140.0</td>\n",
              "    </tr>\n",
              "  </tbody>\n",
              "</table>\n",
              "</div>\n",
              "      <button class=\"colab-df-convert\" onclick=\"convertToInteractive('df-576bbeef-6661-4a2f-8ab4-2720b89c8490')\"\n",
              "              title=\"Convert this dataframe to an interactive table.\"\n",
              "              style=\"display:none;\">\n",
              "        \n",
              "  <svg xmlns=\"http://www.w3.org/2000/svg\" height=\"24px\"viewBox=\"0 0 24 24\"\n",
              "       width=\"24px\">\n",
              "    <path d=\"M0 0h24v24H0V0z\" fill=\"none\"/>\n",
              "    <path d=\"M18.56 5.44l.94 2.06.94-2.06 2.06-.94-2.06-.94-.94-2.06-.94 2.06-2.06.94zm-11 1L8.5 8.5l.94-2.06 2.06-.94-2.06-.94L8.5 2.5l-.94 2.06-2.06.94zm10 10l.94 2.06.94-2.06 2.06-.94-2.06-.94-.94-2.06-.94 2.06-2.06.94z\"/><path d=\"M17.41 7.96l-1.37-1.37c-.4-.4-.92-.59-1.43-.59-.52 0-1.04.2-1.43.59L10.3 9.45l-7.72 7.72c-.78.78-.78 2.05 0 2.83L4 21.41c.39.39.9.59 1.41.59.51 0 1.02-.2 1.41-.59l7.78-7.78 2.81-2.81c.8-.78.8-2.07 0-2.86zM5.41 20L4 18.59l7.72-7.72 1.47 1.35L5.41 20z\"/>\n",
              "  </svg>\n",
              "      </button>\n",
              "      \n",
              "  <style>\n",
              "    .colab-df-container {\n",
              "      display:flex;\n",
              "      flex-wrap:wrap;\n",
              "      gap: 12px;\n",
              "    }\n",
              "\n",
              "    .colab-df-convert {\n",
              "      background-color: #E8F0FE;\n",
              "      border: none;\n",
              "      border-radius: 50%;\n",
              "      cursor: pointer;\n",
              "      display: none;\n",
              "      fill: #1967D2;\n",
              "      height: 32px;\n",
              "      padding: 0 0 0 0;\n",
              "      width: 32px;\n",
              "    }\n",
              "\n",
              "    .colab-df-convert:hover {\n",
              "      background-color: #E2EBFA;\n",
              "      box-shadow: 0px 1px 2px rgba(60, 64, 67, 0.3), 0px 1px 3px 1px rgba(60, 64, 67, 0.15);\n",
              "      fill: #174EA6;\n",
              "    }\n",
              "\n",
              "    [theme=dark] .colab-df-convert {\n",
              "      background-color: #3B4455;\n",
              "      fill: #D2E3FC;\n",
              "    }\n",
              "\n",
              "    [theme=dark] .colab-df-convert:hover {\n",
              "      background-color: #434B5C;\n",
              "      box-shadow: 0px 1px 3px 1px rgba(0, 0, 0, 0.15);\n",
              "      filter: drop-shadow(0px 1px 2px rgba(0, 0, 0, 0.3));\n",
              "      fill: #FFFFFF;\n",
              "    }\n",
              "  </style>\n",
              "\n",
              "      <script>\n",
              "        const buttonEl =\n",
              "          document.querySelector('#df-576bbeef-6661-4a2f-8ab4-2720b89c8490 button.colab-df-convert');\n",
              "        buttonEl.style.display =\n",
              "          google.colab.kernel.accessAllowed ? 'block' : 'none';\n",
              "\n",
              "        async function convertToInteractive(key) {\n",
              "          const element = document.querySelector('#df-576bbeef-6661-4a2f-8ab4-2720b89c8490');\n",
              "          const dataTable =\n",
              "            await google.colab.kernel.invokeFunction('convertToInteractive',\n",
              "                                                     [key], {});\n",
              "          if (!dataTable) return;\n",
              "\n",
              "          const docLinkHtml = 'Like what you see? Visit the ' +\n",
              "            '<a target=\"_blank\" href=https://colab.research.google.com/notebooks/data_table.ipynb>data table notebook</a>'\n",
              "            + ' to learn more about interactive tables.';\n",
              "          element.innerHTML = '';\n",
              "          dataTable['output_type'] = 'display_data';\n",
              "          await google.colab.output.renderOutput(dataTable, element);\n",
              "          const docLink = document.createElement('div');\n",
              "          docLink.innerHTML = docLinkHtml;\n",
              "          element.appendChild(docLink);\n",
              "        }\n",
              "      </script>\n",
              "    </div>\n",
              "  </div>\n",
              "  "
            ],
            "text/plain": [
              "   Cylinders  Displacement  Horsepower\n",
              "0        8.0         307.0       130.0\n",
              "1        8.0         350.0       165.0\n",
              "2        8.0         318.0       150.0\n",
              "3        8.0         304.0       150.0\n",
              "4        8.0         302.0       140.0"
            ]
          },
          "execution_count": 179,
          "metadata": {},
          "output_type": "execute_result"
        }
      ],
      "source": [
        "data1.head()"
      ]
    },
    {
      "cell_type": "code",
      "execution_count": 180,
      "metadata": {
        "colab": {
          "base_uri": "https://localhost:8080/"
        },
        "id": "ydreeaMYjb8F",
        "outputId": "178c2b54-4a25-4cb1-c486-1506945d178c"
      },
      "outputs": [
        {
          "name": "stdout",
          "output_type": "stream",
          "text": [
            "Cylinders       float64\n",
            "Displacement    float64\n",
            "Horsepower      float64\n",
            "dtype: object\n"
          ]
        }
      ],
      "source": [
        "tipovi = data1.dtypes\n",
        "n=len(tipovi)\n",
        "print(tipovi)"
      ]
    },
    {
      "cell_type": "code",
      "execution_count": 181,
      "metadata": {
        "colab": {
          "base_uri": "https://localhost:8080/"
        },
        "id": "aTzK5SXi2L_X",
        "outputId": "aae5cb02-2b49-44d4-a02b-cfafb60aa1c9"
      },
      "outputs": [
        {
          "data": {
            "text/plain": [
              "Cylinders       0\n",
              "Displacement    0\n",
              "Horsepower      0\n",
              "dtype: int64"
            ]
          },
          "execution_count": 181,
          "metadata": {},
          "output_type": "execute_result"
        }
      ],
      "source": [
        "data1 = srediNedostajuce(data1,data.missingCat,data.missingNum)\n",
        "data1.isna().sum()"
      ]
    },
    {
      "cell_type": "markdown",
      "metadata": {
        "id": "8ZefjKRz3FYU"
      },
      "source": [
        "## Enkodiranje"
      ]
    },
    {
      "cell_type": "markdown",
      "metadata": {
        "id": "gqEsR8BH4koG"
      },
      "source": [
        "U zavisnosti od podataka koji stižu sa ulaza, vrši se odgovarajuće enkodiranje"
      ]
    },
    {
      "cell_type": "code",
      "execution_count": 182,
      "metadata": {
        "colab": {
          "base_uri": "https://localhost:8080/",
          "height": 206
        },
        "id": "qvPSlZkO3KK5",
        "outputId": "b72823da-f84d-4aac-c0b1-3ccb40b7d1cf"
      },
      "outputs": [
        {
          "data": {
            "text/html": [
              "\n",
              "  <div id=\"df-e36a5c4d-0d10-43ba-abf5-74b01f099130\">\n",
              "    <div class=\"colab-df-container\">\n",
              "      <div>\n",
              "<style scoped>\n",
              "    .dataframe tbody tr th:only-of-type {\n",
              "        vertical-align: middle;\n",
              "    }\n",
              "\n",
              "    .dataframe tbody tr th {\n",
              "        vertical-align: top;\n",
              "    }\n",
              "\n",
              "    .dataframe thead th {\n",
              "        text-align: right;\n",
              "    }\n",
              "</style>\n",
              "<table border=\"1\" class=\"dataframe\">\n",
              "  <thead>\n",
              "    <tr style=\"text-align: right;\">\n",
              "      <th></th>\n",
              "      <th>Cylinders</th>\n",
              "      <th>Displacement</th>\n",
              "      <th>Horsepower</th>\n",
              "    </tr>\n",
              "  </thead>\n",
              "  <tbody>\n",
              "    <tr>\n",
              "      <th>0</th>\n",
              "      <td>8.0</td>\n",
              "      <td>307.0</td>\n",
              "      <td>130.0</td>\n",
              "    </tr>\n",
              "    <tr>\n",
              "      <th>1</th>\n",
              "      <td>8.0</td>\n",
              "      <td>350.0</td>\n",
              "      <td>165.0</td>\n",
              "    </tr>\n",
              "    <tr>\n",
              "      <th>2</th>\n",
              "      <td>8.0</td>\n",
              "      <td>318.0</td>\n",
              "      <td>150.0</td>\n",
              "    </tr>\n",
              "    <tr>\n",
              "      <th>3</th>\n",
              "      <td>8.0</td>\n",
              "      <td>304.0</td>\n",
              "      <td>150.0</td>\n",
              "    </tr>\n",
              "    <tr>\n",
              "      <th>4</th>\n",
              "      <td>8.0</td>\n",
              "      <td>302.0</td>\n",
              "      <td>140.0</td>\n",
              "    </tr>\n",
              "  </tbody>\n",
              "</table>\n",
              "</div>\n",
              "      <button class=\"colab-df-convert\" onclick=\"convertToInteractive('df-e36a5c4d-0d10-43ba-abf5-74b01f099130')\"\n",
              "              title=\"Convert this dataframe to an interactive table.\"\n",
              "              style=\"display:none;\">\n",
              "        \n",
              "  <svg xmlns=\"http://www.w3.org/2000/svg\" height=\"24px\"viewBox=\"0 0 24 24\"\n",
              "       width=\"24px\">\n",
              "    <path d=\"M0 0h24v24H0V0z\" fill=\"none\"/>\n",
              "    <path d=\"M18.56 5.44l.94 2.06.94-2.06 2.06-.94-2.06-.94-.94-2.06-.94 2.06-2.06.94zm-11 1L8.5 8.5l.94-2.06 2.06-.94-2.06-.94L8.5 2.5l-.94 2.06-2.06.94zm10 10l.94 2.06.94-2.06 2.06-.94-2.06-.94-.94-2.06-.94 2.06-2.06.94z\"/><path d=\"M17.41 7.96l-1.37-1.37c-.4-.4-.92-.59-1.43-.59-.52 0-1.04.2-1.43.59L10.3 9.45l-7.72 7.72c-.78.78-.78 2.05 0 2.83L4 21.41c.39.39.9.59 1.41.59.51 0 1.02-.2 1.41-.59l7.78-7.78 2.81-2.81c.8-.78.8-2.07 0-2.86zM5.41 20L4 18.59l7.72-7.72 1.47 1.35L5.41 20z\"/>\n",
              "  </svg>\n",
              "      </button>\n",
              "      \n",
              "  <style>\n",
              "    .colab-df-container {\n",
              "      display:flex;\n",
              "      flex-wrap:wrap;\n",
              "      gap: 12px;\n",
              "    }\n",
              "\n",
              "    .colab-df-convert {\n",
              "      background-color: #E8F0FE;\n",
              "      border: none;\n",
              "      border-radius: 50%;\n",
              "      cursor: pointer;\n",
              "      display: none;\n",
              "      fill: #1967D2;\n",
              "      height: 32px;\n",
              "      padding: 0 0 0 0;\n",
              "      width: 32px;\n",
              "    }\n",
              "\n",
              "    .colab-df-convert:hover {\n",
              "      background-color: #E2EBFA;\n",
              "      box-shadow: 0px 1px 2px rgba(60, 64, 67, 0.3), 0px 1px 3px 1px rgba(60, 64, 67, 0.15);\n",
              "      fill: #174EA6;\n",
              "    }\n",
              "\n",
              "    [theme=dark] .colab-df-convert {\n",
              "      background-color: #3B4455;\n",
              "      fill: #D2E3FC;\n",
              "    }\n",
              "\n",
              "    [theme=dark] .colab-df-convert:hover {\n",
              "      background-color: #434B5C;\n",
              "      box-shadow: 0px 1px 3px 1px rgba(0, 0, 0, 0.15);\n",
              "      filter: drop-shadow(0px 1px 2px rgba(0, 0, 0, 0.3));\n",
              "      fill: #FFFFFF;\n",
              "    }\n",
              "  </style>\n",
              "\n",
              "      <script>\n",
              "        const buttonEl =\n",
              "          document.querySelector('#df-e36a5c4d-0d10-43ba-abf5-74b01f099130 button.colab-df-convert');\n",
              "        buttonEl.style.display =\n",
              "          google.colab.kernel.accessAllowed ? 'block' : 'none';\n",
              "\n",
              "        async function convertToInteractive(key) {\n",
              "          const element = document.querySelector('#df-e36a5c4d-0d10-43ba-abf5-74b01f099130');\n",
              "          const dataTable =\n",
              "            await google.colab.kernel.invokeFunction('convertToInteractive',\n",
              "                                                     [key], {});\n",
              "          if (!dataTable) return;\n",
              "\n",
              "          const docLinkHtml = 'Like what you see? Visit the ' +\n",
              "            '<a target=\"_blank\" href=https://colab.research.google.com/notebooks/data_table.ipynb>data table notebook</a>'\n",
              "            + ' to learn more about interactive tables.';\n",
              "          element.innerHTML = '';\n",
              "          dataTable['output_type'] = 'display_data';\n",
              "          await google.colab.output.renderOutput(dataTable, element);\n",
              "          const docLink = document.createElement('div');\n",
              "          docLink.innerHTML = docLinkHtml;\n",
              "          element.appendChild(docLink);\n",
              "        }\n",
              "      </script>\n",
              "    </div>\n",
              "  </div>\n",
              "  "
            ],
            "text/plain": [
              "   Cylinders  Displacement  Horsepower\n",
              "0        8.0         307.0       130.0\n",
              "1        8.0         350.0       165.0\n",
              "2        8.0         318.0       150.0\n",
              "3        8.0         304.0       150.0\n",
              "4        8.0         302.0       140.0"
            ]
          },
          "execution_count": 182,
          "metadata": {},
          "output_type": "execute_result"
        }
      ],
      "source": [
        "if data.encode==\"OneHotEncoding\":\n",
        "  data1=OneHotEncoding(tipovi,data1)\n",
        "elif data.encode == \"LabelEncoding\":\n",
        "  data1=LabelEncoding(tipovi,data1)\n",
        "\n",
        "data1.head()"
      ]
    },
    {
      "cell_type": "markdown",
      "metadata": {
        "id": "CgExjkSiIIsL"
      },
      "source": [
        "# Detektovanje outlier-a"
      ]
    },
    {
      "cell_type": "markdown",
      "metadata": {
        "id": "zsDq86TsJIeN"
      },
      "source": [
        "## Isolation Forest"
      ]
    },
    {
      "cell_type": "markdown",
      "metadata": {
        "id": "LKrFZuQOJUYA"
      },
      "source": [
        "Isolation Forest, ili skraćeno iForest, je algoritam za otkrivanje anomalija zasnovan na stablu.\n",
        "\n",
        "Zasnovan je na modelovanju normalnih podataka na takav način da se izoluju anomalije koje su i malobrojne.\n",
        "\n",
        "Možda je najvažniji hiperparametar u modelu argument „kontaminacije“, koji se koristi za procenu odstupanja u skupu podataka. Ovo je vrednost između 0,0 i 0,5 i podrazumevano je podešena na 0,1."
      ]
    },
    {
      "cell_type": "markdown",
      "metadata": {
        "id": "pbYU1sBUu0By"
      },
      "source": [
        "## SVM algoritam"
      ]
    },
    {
      "cell_type": "markdown",
      "metadata": {
        "id": "P26Q4sXKu4HN"
      },
      "source": [
        "Iako je SVM klasifikacioni algoritam, može se koristiti za otkrivanje odstupanja u ulaznim podacima i za skupove podataka za regresiju i za klasifikaciju.\n",
        "\n",
        "Biblioteka scikit-learn obezbeđuje implementaciju SVM-a jedne klase u klasi OneClassSVM.\n",
        "\n",
        "Klasa obezbeđuje argument „nu“ koji specificira približni odnos odstupanja u skupu podataka, koji je podrazumevano podešen na 0,1. U ovom slučaju ćemo ga postaviti na 0,01."
      ]
    },
    {
      "cell_type": "markdown",
      "metadata": {
        "id": "O-Iy5F0wvgcb"
      },
      "source": [
        "## Minimum Covariance Determinant"
      ]
    },
    {
      "cell_type": "markdown",
      "metadata": {
        "id": "viOCiEaQvev3"
      },
      "source": [
        "Biblioteka **scikit-learn** omogućava pristup ovoj metodi preko klase EllipticEnvelope.\n",
        "\n",
        "On pruža argument „kontaminacije“ koji definiše očekivani odnos odstupanja koji će se posmatrati u praksi. U ovom slučaju, postavićemo je na vrednost od 0,01"
      ]
    },
    {
      "cell_type": "markdown",
      "metadata": {
        "id": "x14PJZsSxJnb"
      },
      "source": [
        "## Local Outlier Factor"
      ]
    },
    {
      "cell_type": "markdown",
      "metadata": {
        "id": "dTdmj7zAxNHF"
      },
      "source": [
        "Može dobro da funkcioniše za prostore sa niskom dimenzionalnošću (malo karakteristika), iako može postati manje pouzdano kako se broj karakteristika povećava, što se naziva prokletstvo dimenzionalnosti.\n",
        "\n",
        "Faktor lokalnog odstupanja je tehnika koja pokušava da iskoristi ideju najbližih suseda za detekciju odstupanja. \n",
        "\n",
        "Biblioteka **scikit-learn** obezbeđuje implementaciju ovog pristupa u klasi LocalOutlierFactor."
      ]
    },
    {
      "cell_type": "markdown",
      "metadata": {
        "id": "l2_Vhd_riBG6"
      },
      "source": [
        "# Sređivanje outlier-a"
      ]
    },
    {
      "cell_type": "code",
      "execution_count": 183,
      "metadata": {
        "colab": {
          "base_uri": "https://localhost:8080/"
        },
        "id": "AxtKUcz1JWNH",
        "outputId": "b2717cf9-e9f6-447a-9912-78620c81e689"
      },
      "outputs": [
        {
          "name": "stdout",
          "output_type": "stream",
          "text": [
            "(87, 3)\n",
            "(93, 3)\n"
          ]
        }
      ],
      "source": [
        "if data.outlier==\"IsolationForest\":\n",
        "  from sklearn.ensemble import IsolationForest\n",
        "  #Pronalaženje outlier-a\n",
        "  iso = IsolationForest(contamination=0.1)\n",
        "  y = iso.fit_predict(data1)\n",
        "  mask = y != -1\n",
        "  data1=data1.iloc[mask, :]\n",
        "\n",
        "elif data.outlier==\"Svm\":\n",
        "  from sklearn.svm import OneClassSVM\n",
        "  svm = OneClassSVM(nu=0.01)\n",
        "  y = svm.fit_predict(data1)\n",
        "  mask = y != -1\n",
        "  data1=data1.iloc[mask, :]\n",
        "\n",
        "elif data.outlier==\"MinCovDet\":\n",
        "  from sklearn.covariance import EllipticEnvelope\n",
        "  minCov = EllipticEnvelope(contamination=0.01)\n",
        "  y = minCov.fit_predict(data1)\n",
        "  mask = y != -1\n",
        "  data1=data1.iloc[mask, :]\n",
        "  \n",
        "elif data.outlier == \"LocOutFact\":\n",
        "  from sklearn.neighbors import LocalOutlierFactor\n",
        "  lof = LocalOutlierFactor()\n",
        "  y = lof.fit_predict(data1)\n",
        "  mask = y != -1\n",
        "  data1=data1.iloc[mask, :]\n",
        "\n",
        "\n",
        "\n",
        "print(data1.shape)\n",
        "print(shapes)\n"
      ]
    },
    {
      "cell_type": "markdown",
      "metadata": {
        "id": "09m1boWX0Dde"
      },
      "source": [
        "# Podela na train i test"
      ]
    },
    {
      "cell_type": "markdown",
      "metadata": {
        "id": "wakSqNQF0H6d"
      },
      "source": [
        "Ulazne kolone su sve osim poslednje, izlazna je poslednja\n"
      ]
    },
    {
      "cell_type": "code",
      "execution_count": 184,
      "metadata": {
        "id": "pfTmVWx8ushS"
      },
      "outputs": [],
      "source": [
        "from sklearn.model_selection import train_test_split\n",
        "\n",
        "X=data1.iloc[:,:-1]\n",
        "y=data1.iloc[:,-1]\n",
        "\n",
        "X_train, X_test, y_train, y_test = train_test_split(\n",
        "    X, y, \n",
        "    test_size=0.2, random_state=42\n",
        ")"
      ]
    },
    {
      "cell_type": "code",
      "execution_count": 186,
      "metadata": {
        "colab": {
          "base_uri": "https://localhost:8080/"
        },
        "id": "PHOqUQGu0RzX",
        "outputId": "72c41172-2b30-49a7-dc6b-9423e24f3507"
      },
      "outputs": [
        {
          "name": "stdout",
          "output_type": "stream",
          "text": [
            "(69, 2)\n"
          ]
        }
      ],
      "source": [
        "print(X_train.shape)"
      ]
    },
    {
      "cell_type": "code",
      "execution_count": 185,
      "metadata": {
        "colab": {
          "base_uri": "https://localhost:8080/"
        },
        "id": "R1vZ2EEE0SeD",
        "outputId": "59d68a2d-ea2f-4ed6-c255-eaa2544e94f4"
      },
      "outputs": [
        {
          "name": "stdout",
          "output_type": "stream",
          "text": [
            "(18, 2)\n"
          ]
        }
      ],
      "source": [
        "print(X_test.shape)"
      ]
    },
    {
      "cell_type": "markdown",
      "metadata": {
        "id": "SP3ZFKEw0ZxR"
      },
      "source": [
        "# Skaliranje podataka\n",
        "\n",
        " Neuronska mreža će misliti da je vrednost na višoj skali važnija, zato se vrši skaliranje podataka."
      ]
    },
    {
      "cell_type": "code",
      "execution_count": 187,
      "metadata": {
        "id": "b4SvgIc10mM6"
      },
      "outputs": [],
      "source": [
        "from sklearn.preprocessing import StandardScaler\n",
        "\n",
        "scaler = StandardScaler()\n",
        "X_train_scaled = scaler.fit_transform(X_train)\n",
        "X_test_scaled = scaler.transform(X_test)"
      ]
    },
    {
      "cell_type": "markdown",
      "metadata": {
        "id": "ZaeNwJ2V0xKn"
      },
      "source": [
        "Štampanjem prvih pet vrsta X_train_scaled vidimo da je skaliranje uspešno izvršeno.\n"
      ]
    },
    {
      "cell_type": "code",
      "execution_count": 188,
      "metadata": {
        "colab": {
          "base_uri": "https://localhost:8080/"
        },
        "id": "C4tzpq6l0pps",
        "outputId": "c7bfc905-2be8-48af-e14f-367d6fcb4808"
      },
      "outputs": [
        {
          "name": "stdout",
          "output_type": "stream",
          "text": [
            "[[ 0.99288021  0.49053935]\n",
            " [ 0.99288021  0.85124175]\n",
            " [-0.05305467 -0.33280308]\n",
            " [-0.05305467 -0.07403832]]\n"
          ]
        }
      ],
      "source": [
        "print(X_train_scaled[1:5])"
      ]
    },
    {
      "cell_type": "markdown",
      "metadata": {
        "id": "SzseZKX-1C67"
      },
      "source": [
        "# Obuka klasifikacionog modela pomoću TensorFlow biblioteke"
      ]
    },
    {
      "cell_type": "code",
      "execution_count": 189,
      "metadata": {
        "id": "QNM2RrmIk3NG"
      },
      "outputs": [],
      "source": [
        "import tensorflow.keras.models\n",
        "import tensorflow.keras.layers\n",
        "from keras import regularizers\n",
        "from keras.models import Sequential\n",
        "from keras.layers import Dense\n",
        "import tensorflow as tf"
      ]
    },
    {
      "cell_type": "code",
      "execution_count": 174,
      "metadata": {
        "id": "GsaNOKvIk50i"
      },
      "outputs": [],
      "source": [
        "tf.random.set_seed(42)"
      ]
    },
    {
      "cell_type": "markdown",
      "metadata": {
        "id": "bfoc8HOx9Me2"
      },
      "source": [
        "Formiranje funkcije gubitka"
      ]
    },
    {
      "cell_type": "code",
      "execution_count": 190,
      "metadata": {
        "colab": {
          "base_uri": "https://localhost:8080/"
        },
        "id": "2JadoST8lLu0",
        "outputId": "6d69ed0f-4d06-4794-c0cf-39772c2333f1"
      },
      "outputs": [
        {
          "name": "stdout",
          "output_type": "stream",
          "text": [
            "mse\n"
          ]
        }
      ],
      "source": [
        "los=LossType[data.loss].value\n",
        "print(los)"
      ]
    },
    {
      "cell_type": "markdown",
      "metadata": {
        "id": "vhsKkmXX9Pwc"
      },
      "source": [
        "Formiranje aktivacione funkcije"
      ]
    },
    {
      "cell_type": "code",
      "execution_count": 194,
      "metadata": {
        "colab": {
          "base_uri": "https://localhost:8080/"
        },
        "id": "cFVXK3gHqpd-",
        "outputId": "161aaaa6-9fb2-4441-d17d-bead7829a059"
      },
      "outputs": [
        {
          "name": "stdout",
          "output_type": "stream",
          "text": [
            "relu\n"
          ]
        }
      ],
      "source": [
        "activate=ActivationType[data.activation].value\n",
        "print(activate)"
      ]
    },
    {
      "cell_type": "markdown",
      "metadata": {
        "id": "sjsN5xYm9Rzg"
      },
      "source": [
        "Formiranje regularizatora"
      ]
    },
    {
      "cell_type": "code",
      "execution_count": 197,
      "metadata": {
        "id": "ueIsj5n1skjq"
      },
      "outputs": [],
      "source": [
        "if RegularizationType[data.regularization] !=RegularizationType.none:\n",
        "  if RegularizationType[data.regularization].value == \"L1\":\n",
        "    regularization = regularizers.l1(data.regRate)\n",
        "  elif RegularizationType[data.regularization].value == \"L2\":\n",
        "    regularization = regularizers.l1(data.regRate)\n",
        "\n"
      ]
    },
    {
      "cell_type": "markdown",
      "metadata": {
        "id": "A3oJ8V0t9Vdd"
      },
      "source": [
        "Formiranje modela"
      ]
    },
    {
      "cell_type": "code",
      "execution_count": 198,
      "metadata": {
        "colab": {
          "base_uri": "https://localhost:8080/"
        },
        "id": "8_GFKSrMtYY2",
        "outputId": "2f67f725-f429-4599-9082-74b6a9de22b5"
      },
      "outputs": [
        {
          "name": "stdout",
          "output_type": "stream",
          "text": [
            "Epoch 1/10\n",
            "2/2 [==============================] - 1s 219ms/step - loss: 19185.8320 - accuracy: 0.0182 - val_loss: 9613.1201 - val_accuracy: 0.0000e+00\n",
            "Epoch 2/10\n",
            "2/2 [==============================] - 0s 26ms/step - loss: 10025.2480 - accuracy: 0.0000e+00 - val_loss: 14419.6846 - val_accuracy: 0.0000e+00\n",
            "Epoch 3/10\n",
            "2/2 [==============================] - 0s 27ms/step - loss: 9407.7383 - accuracy: 0.0000e+00 - val_loss: 2495.3921 - val_accuracy: 0.0000e+00\n",
            "Epoch 4/10\n",
            "2/2 [==============================] - 0s 26ms/step - loss: 5224.5615 - accuracy: 0.0000e+00 - val_loss: 5151.4741 - val_accuracy: 0.0000e+00\n",
            "Epoch 5/10\n",
            "2/2 [==============================] - 0s 25ms/step - loss: 6671.3989 - accuracy: 0.0000e+00 - val_loss: 2808.6711 - val_accuracy: 0.0000e+00\n",
            "Epoch 6/10\n",
            "2/2 [==============================] - 0s 25ms/step - loss: 2582.8987 - accuracy: 0.0000e+00 - val_loss: 1521.8420 - val_accuracy: 0.0000e+00\n",
            "Epoch 7/10\n",
            "2/2 [==============================] - 0s 26ms/step - loss: 2663.0781 - accuracy: 0.0000e+00 - val_loss: 2268.4919 - val_accuracy: 0.0000e+00\n",
            "Epoch 8/10\n",
            "2/2 [==============================] - 0s 30ms/step - loss: 2157.9717 - accuracy: 0.0000e+00 - val_loss: 1171.2898 - val_accuracy: 0.0000e+00\n",
            "Epoch 9/10\n",
            "2/2 [==============================] - 0s 28ms/step - loss: 1662.9946 - accuracy: 0.0000e+00 - val_loss: 1892.0703 - val_accuracy: 0.0000e+00\n",
            "Epoch 10/10\n",
            "2/2 [==============================] - 0s 27ms/step - loss: 2356.5959 - accuracy: 0.0000e+00 - val_loss: 985.5512 - val_accuracy: 0.0000e+00\n",
            "1/1 [==============================] - 0s 156ms/step - loss: 87013880.0000 - accuracy: 0.0000e+00\n"
          ]
        }
      ],
      "source": [
        "ninput=len(ulazi)\n",
        "#print(ninput)\n",
        "\n",
        "if data.model == ProblemType.Classification:\n",
        "  noutput=len(y.unique())\n",
        "else:\n",
        "  noutput=1\n",
        "\n",
        "#print(noutput)\n",
        "\n",
        "model = Sequential()\n",
        "model.add(Dense(ninput, activation=activate,kernel_regularizer=regularization))\n",
        "\n",
        "for i in range(data.layers):\n",
        "  model.add(Dense(data.neurons, activation=activate,kernel_regularizer=regularization))\n",
        "\n",
        "model.add(Dense(noutput, activation=activate,kernel_regularizer=regularization))\n",
        "\n",
        "if data.optimizer==OptimizerType.Adam.name:\n",
        "  optimizerType = tf.keras.optimizers.Adam(learning_rate=data.learningRate)\n",
        "elif data.optimizer==OptimizerType.Sgd.name:\n",
        "  optimizerType = tf.keras.optimizers.SGD(learning_rate=data.learningRate)\n",
        "\n",
        "model.compile(\n",
        "    loss=los,\n",
        "    optimizer=optimizerType,\n",
        "    metrics=['accuracy']\n",
        ")\n",
        "\n",
        "history = model.fit(X_train_scaled, y_train, epochs=data.epoche, validation_split=0.2)\n",
        "evaluate=model.evaluate(X_test,y_test,batch_size=32)\n",
        "\n"
      ]
    },
    {
      "cell_type": "markdown",
      "metadata": {
        "id": "VVfhmAp92Ty7"
      },
      "source": [
        "# Formiranje predikcije"
      ]
    },
    {
      "cell_type": "code",
      "execution_count": 199,
      "metadata": {
        "colab": {
          "base_uri": "https://localhost:8080/"
        },
        "id": "dGfQ13DLtZse",
        "outputId": "1743d0d5-1f2c-429d-ff18-d5b9e008bdae"
      },
      "outputs": [
        {
          "name": "stdout",
          "output_type": "stream",
          "text": [
            "[[128.27246 ]\n",
            " [125.25722 ]\n",
            " [ 53.689518]\n",
            " [ 63.683987]\n",
            " [137.31818 ]\n",
            " [124.43488 ]\n",
            " [ 52.380646]\n",
            " [150.74966 ]\n",
            " [123.88666 ]\n",
            " [158.6989  ]]\n"
          ]
        }
      ],
      "source": [
        "predictions = model.predict(X_test_scaled)\n",
        "print(predictions[:10])"
      ]
    },
    {
      "cell_type": "markdown",
      "metadata": {
        "id": "Lx15TYSk2gI3"
      },
      "source": [
        "# Čuvanje modela"
      ]
    },
    {
      "cell_type": "code",
      "execution_count": 201,
      "metadata": {
        "id": "VJ0RWHIR2oOX"
      },
      "outputs": [],
      "source": [
        "model.save(\"model.h5\")"
      ]
    }
  ],
  "metadata": {
    "colab": {
      "collapsed_sections": [],
      "name": "TF-projekat3.ipynb",
      "provenance": []
    },
    "kernelspec": {
      "display_name": "Python 3",
      "name": "python3"
    },
    "language_info": {
      "name": "python"
    }
  },
  "nbformat": 4,
  "nbformat_minor": 0
}
