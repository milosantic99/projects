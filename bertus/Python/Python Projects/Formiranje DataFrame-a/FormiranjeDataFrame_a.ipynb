{
  "cells": [
    {
      "cell_type": "code",
      "execution_count": 1,
      "metadata": {
        "colab": {
          "base_uri": "https://localhost:8080/"
        },
        "id": "UwZw2HilJFPX",
        "outputId": "66e853cd-a372-45d7-abbf-57a8771fcc12"
      },
      "outputs": [
        {
          "name": "stdout",
          "output_type": "stream",
          "text": [
            "Requirement already satisfied: tensorflow in /usr/local/lib/python3.7/dist-packages (2.8.0)\n",
            "Requirement already satisfied: setuptools in /usr/local/lib/python3.7/dist-packages (from tensorflow) (57.4.0)\n",
            "Requirement already satisfied: gast>=0.2.1 in /usr/local/lib/python3.7/dist-packages (from tensorflow) (0.5.3)\n",
            "Collecting tf-estimator-nightly==2.8.0.dev2021122109\n",
            "  Downloading tf_estimator_nightly-2.8.0.dev2021122109-py2.py3-none-any.whl (462 kB)\n",
            "\u001b[K     |████████████████████████████████| 462 kB 14.2 MB/s \n",
            "\u001b[?25hRequirement already satisfied: wrapt>=1.11.0 in /usr/local/lib/python3.7/dist-packages (from tensorflow) (1.13.3)\n",
            "Requirement already satisfied: tensorboard<2.9,>=2.8 in /usr/local/lib/python3.7/dist-packages (from tensorflow) (2.8.0)\n",
            "Requirement already satisfied: six>=1.12.0 in /usr/local/lib/python3.7/dist-packages (from tensorflow) (1.15.0)\n",
            "Requirement already satisfied: grpcio<2.0,>=1.24.3 in /usr/local/lib/python3.7/dist-packages (from tensorflow) (1.44.0)\n",
            "Requirement already satisfied: libclang>=9.0.1 in /usr/local/lib/python3.7/dist-packages (from tensorflow) (13.0.0)\n",
            "Requirement already satisfied: numpy>=1.20 in /usr/local/lib/python3.7/dist-packages (from tensorflow) (1.21.5)\n",
            "Requirement already satisfied: google-pasta>=0.1.1 in /usr/local/lib/python3.7/dist-packages (from tensorflow) (0.2.0)\n",
            "Requirement already satisfied: typing-extensions>=3.6.6 in /usr/local/lib/python3.7/dist-packages (from tensorflow) (3.10.0.2)\n",
            "Requirement already satisfied: astunparse>=1.6.0 in /usr/local/lib/python3.7/dist-packages (from tensorflow) (1.6.3)\n",
            "Requirement already satisfied: flatbuffers>=1.12 in /usr/local/lib/python3.7/dist-packages (from tensorflow) (2.0)\n",
            "Requirement already satisfied: termcolor>=1.1.0 in /usr/local/lib/python3.7/dist-packages (from tensorflow) (1.1.0)\n",
            "Requirement already satisfied: keras-preprocessing>=1.1.1 in /usr/local/lib/python3.7/dist-packages (from tensorflow) (1.1.2)\n",
            "Requirement already satisfied: keras<2.9,>=2.8.0rc0 in /usr/local/lib/python3.7/dist-packages (from tensorflow) (2.8.0)\n",
            "Requirement already satisfied: tensorflow-io-gcs-filesystem>=0.23.1 in /usr/local/lib/python3.7/dist-packages (from tensorflow) (0.24.0)\n",
            "Requirement already satisfied: protobuf>=3.9.2 in /usr/local/lib/python3.7/dist-packages (from tensorflow) (3.17.3)\n",
            "Requirement already satisfied: h5py>=2.9.0 in /usr/local/lib/python3.7/dist-packages (from tensorflow) (3.1.0)\n",
            "Requirement already satisfied: absl-py>=0.4.0 in /usr/local/lib/python3.7/dist-packages (from tensorflow) (1.0.0)\n",
            "Requirement already satisfied: opt-einsum>=2.3.2 in /usr/local/lib/python3.7/dist-packages (from tensorflow) (3.3.0)\n",
            "Requirement already satisfied: wheel<1.0,>=0.23.0 in /usr/local/lib/python3.7/dist-packages (from astunparse>=1.6.0->tensorflow) (0.37.1)\n",
            "Requirement already satisfied: cached-property in /usr/local/lib/python3.7/dist-packages (from h5py>=2.9.0->tensorflow) (1.5.2)\n",
            "Requirement already satisfied: requests<3,>=2.21.0 in /usr/local/lib/python3.7/dist-packages (from tensorboard<2.9,>=2.8->tensorflow) (2.23.0)\n",
            "Requirement already satisfied: werkzeug>=0.11.15 in /usr/local/lib/python3.7/dist-packages (from tensorboard<2.9,>=2.8->tensorflow) (1.0.1)\n",
            "Requirement already satisfied: google-auth<3,>=1.6.3 in /usr/local/lib/python3.7/dist-packages (from tensorboard<2.9,>=2.8->tensorflow) (1.35.0)\n",
            "Requirement already satisfied: markdown>=2.6.8 in /usr/local/lib/python3.7/dist-packages (from tensorboard<2.9,>=2.8->tensorflow) (3.3.6)\n",
            "Requirement already satisfied: tensorboard-data-server<0.7.0,>=0.6.0 in /usr/local/lib/python3.7/dist-packages (from tensorboard<2.9,>=2.8->tensorflow) (0.6.1)\n",
            "Requirement already satisfied: google-auth-oauthlib<0.5,>=0.4.1 in /usr/local/lib/python3.7/dist-packages (from tensorboard<2.9,>=2.8->tensorflow) (0.4.6)\n",
            "Requirement already satisfied: tensorboard-plugin-wit>=1.6.0 in /usr/local/lib/python3.7/dist-packages (from tensorboard<2.9,>=2.8->tensorflow) (1.8.1)\n",
            "Requirement already satisfied: cachetools<5.0,>=2.0.0 in /usr/local/lib/python3.7/dist-packages (from google-auth<3,>=1.6.3->tensorboard<2.9,>=2.8->tensorflow) (4.2.4)\n",
            "Requirement already satisfied: pyasn1-modules>=0.2.1 in /usr/local/lib/python3.7/dist-packages (from google-auth<3,>=1.6.3->tensorboard<2.9,>=2.8->tensorflow) (0.2.8)\n",
            "Requirement already satisfied: rsa<5,>=3.1.4 in /usr/local/lib/python3.7/dist-packages (from google-auth<3,>=1.6.3->tensorboard<2.9,>=2.8->tensorflow) (4.8)\n",
            "Requirement already satisfied: requests-oauthlib>=0.7.0 in /usr/local/lib/python3.7/dist-packages (from google-auth-oauthlib<0.5,>=0.4.1->tensorboard<2.9,>=2.8->tensorflow) (1.3.1)\n",
            "Requirement already satisfied: importlib-metadata>=4.4 in /usr/local/lib/python3.7/dist-packages (from markdown>=2.6.8->tensorboard<2.9,>=2.8->tensorflow) (4.11.2)\n",
            "Requirement already satisfied: zipp>=0.5 in /usr/local/lib/python3.7/dist-packages (from importlib-metadata>=4.4->markdown>=2.6.8->tensorboard<2.9,>=2.8->tensorflow) (3.7.0)\n",
            "Requirement already satisfied: pyasn1<0.5.0,>=0.4.6 in /usr/local/lib/python3.7/dist-packages (from pyasn1-modules>=0.2.1->google-auth<3,>=1.6.3->tensorboard<2.9,>=2.8->tensorflow) (0.4.8)\n",
            "Requirement already satisfied: urllib3!=1.25.0,!=1.25.1,<1.26,>=1.21.1 in /usr/local/lib/python3.7/dist-packages (from requests<3,>=2.21.0->tensorboard<2.9,>=2.8->tensorflow) (1.24.3)\n",
            "Requirement already satisfied: idna<3,>=2.5 in /usr/local/lib/python3.7/dist-packages (from requests<3,>=2.21.0->tensorboard<2.9,>=2.8->tensorflow) (2.10)\n",
            "Requirement already satisfied: chardet<4,>=3.0.2 in /usr/local/lib/python3.7/dist-packages (from requests<3,>=2.21.0->tensorboard<2.9,>=2.8->tensorflow) (3.0.4)\n",
            "Requirement already satisfied: certifi>=2017.4.17 in /usr/local/lib/python3.7/dist-packages (from requests<3,>=2.21.0->tensorboard<2.9,>=2.8->tensorflow) (2021.10.8)\n",
            "Requirement already satisfied: oauthlib>=3.0.0 in /usr/local/lib/python3.7/dist-packages (from requests-oauthlib>=0.7.0->google-auth-oauthlib<0.5,>=0.4.1->tensorboard<2.9,>=2.8->tensorflow) (3.2.0)\n",
            "Installing collected packages: tf-estimator-nightly\n",
            "Successfully installed tf-estimator-nightly-2.8.0.dev2021122109\n"
          ]
        }
      ],
      "source": [
        "!pip install tensorflow"
      ]
    },
    {
      "cell_type": "code",
      "execution_count": 169,
      "metadata": {
        "id": "uy8rUDIAJbRS"
      },
      "outputs": [],
      "source": [
        "class RecieveJson():\n",
        "    filename : str\n",
        "    headers : list\n",
        "    data : list"
      ]
    },
    {
      "cell_type": "code",
      "execution_count": 170,
      "metadata": {
        "id": "dVSeRyJKJiaA"
      },
      "outputs": [],
      "source": [
        "data =  RecieveJson()\n",
        "data.filename=\"cars.csv\"\n",
        "data.headers=['Car;MPG;Cylinders;Displacement;Horsepower;Weight;Acceleration;Model;Origin']\n",
        "data.data=[['Chevrolet Chevelle Malibu;18.0;8;307.0;130.0;3504.;12.0;70;US'],\n",
        "           ['Buick Skylark 320;15.0;8;350.0;165.0;3693.;11.5;70;US'], \n",
        "           ['Plymouth Satellite;18.0;8;318.0;150.0;3436.;11.0;70;US'], \n",
        "           ['AMC Rebel SST;16.0;8;304.0;150.0;3433.;12.0;70;US'], \n",
        "           ['Ford Torino;17.0;8;302.0;140.0;3449.;10.5;70;US'],\n",
        "           ['Ford Galaxie 500;15.0;8;429.0;198.0;4341.;10.0;70;US'],\n",
        "           ['Chevrolet Impala;14.0;8;454.0;220.0;4354.;9.0;70;US'], \n",
        "           ['Plymouth Fury iii;14.0;8;440.0;215.0;4312.;8.5;70;US'],\n",
        "           ['Pontiac Catalina;14.0;8;455.0;225.0;4425.;10.0;70;US'],\n",
        "           ['Volkswagen Super Beetle 117;0;4;97.00;48.00;1978.;20.0;71;Europe'],\n",
        "           ['AMC Gremlin;19.0;6;232.0;100.0;2634.;13.0;71;US'],\n",
        "           ['Plymouth Satellite Custom;16.0;6;225.0;105.0;3439.;15.5;71;US'], \n",
        "           ['Chevrolet Chevelle Malibu;17.0;6;250.0;100.0;3329.;15.5;71;US'], ['Ford Torino 500;19.0;6;250.0;88.00;3302.;15.5;71;US'],\n",
        "           ['AMC Matador;18.0;6;232.0;100.0;3288.;15.5;71;US'],\n",
        "           ['Chevrolet Impala;14.0;8;350.0;165.0;4209.;12.0;71;US'], \n",
        "           ['Pontiac Catalina Brougham;14.0;8;400.0;175.0;4464.;11.5;71;US'],\n",
        "           ['Ford Galaxie 500;14.0;8;351.0;153.0;4154.;13.5;71;US'], \n",
        "           ['Plymouth Fury iii;14.0;8;318.0;150.0;4096.;13.0;71;US']\n",
        "           ]"
      ]
    },
    {
      "cell_type": "markdown",
      "metadata": {
        "id": "XlgvTitYhw55"
      },
      "source": [
        "** Objasnjenje:**\n",
        "\n",
        "1. S obzirom da jedan string sadži vrdnosti za sve kolone jedne vrste(razdvojene znakom ;), mora se prvo splitovati po \";\"\n",
        "\n",
        "2. Prilikom splitovanja će sve pojedinačne vrednosti u obliku stringa biti spakovane u niz. Dakle, i brojevi će biti u formaru stringa\n",
        "\n",
        "3. Zato za svaku vrstu treba proveriti da li sadrži numeričke vrednosti i iste pretvoriti u broj, pomoću funkcija **is_number()** i **StrToNum()**"
      ]
    },
    {
      "cell_type": "code",
      "execution_count": 171,
      "metadata": {
        "colab": {
          "base_uri": "https://localhost:8080/"
        },
        "id": "EqqWK2voMA36",
        "outputId": "fa893929-4658-4b29-916d-215c8f004255"
      },
      "outputs": [
        {
          "name": "stdout",
          "output_type": "stream",
          "text": [
            "['Chevrolet Chevelle Malibu;18.0;8;307.0;130.0;3504.;12.0;70;US']\n",
            "['Buick Skylark 320;15.0;8;350.0;165.0;3693.;11.5;70;US']\n",
            "['Plymouth Satellite;18.0;8;318.0;150.0;3436.;11.0;70;US']\n",
            "['AMC Rebel SST;16.0;8;304.0;150.0;3433.;12.0;70;US']\n",
            "['Ford Torino;17.0;8;302.0;140.0;3449.;10.5;70;US']\n",
            "['Ford Galaxie 500;15.0;8;429.0;198.0;4341.;10.0;70;US']\n",
            "['Chevrolet Impala;14.0;8;454.0;220.0;4354.;9.0;70;US']\n",
            "['Plymouth Fury iii;14.0;8;440.0;215.0;4312.;8.5;70;US']\n",
            "['Pontiac Catalina;14.0;8;455.0;225.0;4425.;10.0;70;US']\n",
            "['Volkswagen Super Beetle 117;0;4;97.00;48.00;1978.;20.0;71;Europe']\n",
            "['AMC Gremlin;19.0;6;232.0;100.0;2634.;13.0;71;US']\n",
            "['Plymouth Satellite Custom;16.0;6;225.0;105.0;3439.;15.5;71;US']\n",
            "['Chevrolet Chevelle Malibu;17.0;6;250.0;100.0;3329.;15.5;71;US']\n",
            "['Ford Torino 500;19.0;6;250.0;88.00;3302.;15.5;71;US']\n",
            "['AMC Matador;18.0;6;232.0;100.0;3288.;15.5;71;US']\n",
            "['Chevrolet Impala;14.0;8;350.0;165.0;4209.;12.0;71;US']\n",
            "['Pontiac Catalina Brougham;14.0;8;400.0;175.0;4464.;11.5;71;US']\n",
            "['Ford Galaxie 500;14.0;8;351.0;153.0;4154.;13.5;71;US']\n",
            "['Plymouth Fury iii;14.0;8;318.0;150.0;4096.;13.0;71;US']\n"
          ]
        }
      ],
      "source": [
        "for x in data.data:\n",
        "  print(x)"
      ]
    },
    {
      "cell_type": "code",
      "execution_count": 172,
      "metadata": {
        "colab": {
          "base_uri": "https://localhost:8080/"
        },
        "id": "ysIXOH8UJh7n",
        "outputId": "1a3b10bd-dbe1-484d-dc4b-cd8412f66e6c"
      },
      "outputs": [
        {
          "name": "stdout",
          "output_type": "stream",
          "text": [
            "['Car;MPG;Cylinders;Displacement;Horsepower;Weight;Acceleration;Model;Origin']\n"
          ]
        }
      ],
      "source": [
        "print(data.headers)"
      ]
    },
    {
      "cell_type": "markdown",
      "metadata": {
        "id": "w7pJK8uHgH7m"
      },
      "source": [
        "Proverava da li prosledjeni string zapravo broj (ceo ili realan)"
      ]
    },
    {
      "cell_type": "code",
      "execution_count": 173,
      "metadata": {
        "id": "IKt3RUZ6feno"
      },
      "outputs": [],
      "source": [
        "def is_number(element):\n",
        "    try:\n",
        "        float(element)\n",
        "        return True\n",
        "    except ValueError:\n",
        "        return False"
      ]
    },
    {
      "cell_type": "markdown",
      "metadata": {
        "id": "WAXEi9X9gMnU"
      },
      "source": [
        "Prosledjeni string pretvara u broj"
      ]
    },
    {
      "cell_type": "code",
      "execution_count": 174,
      "metadata": {
        "id": "1SZnPS_UfVhl"
      },
      "outputs": [],
      "source": [
        "def StrToNum(y):\n",
        "  for i in range(len(y)):\n",
        "    if is_number(y[i]):\n",
        "      y[i]=float(y[i])\n",
        "  return y\n"
      ]
    },
    {
      "cell_type": "markdown",
      "metadata": {
        "id": "wf0jC4B8gQxC"
      },
      "source": [
        "Parsira matricu i priprema je za dataframe"
      ]
    },
    {
      "cell_type": "code",
      "execution_count": 175,
      "metadata": {
        "id": "6UJPAl67dyg0"
      },
      "outputs": [],
      "source": [
        "def ParsMat(data:RecieveJson):\n",
        "  for i in range(len(data.data)):\n",
        "    y=data.data[i][0].split(\";\")\n",
        "    #print(y)\n",
        "    y=StrToNum(y)\n",
        "    #print(y)\n",
        "    data.data[i]=y\n",
        "  return data\n",
        "\n",
        "\n"
      ]
    },
    {
      "cell_type": "code",
      "execution_count": 176,
      "metadata": {
        "colab": {
          "base_uri": "https://localhost:8080/"
        },
        "id": "SdCafYtAeboU",
        "outputId": "2acab439-f7a6-4644-d398-f453d0553fec"
      },
      "outputs": [
        {
          "name": "stdout",
          "output_type": "stream",
          "text": [
            "['Chevrolet Chevelle Malibu;18.0;8;307.0;130.0;3504.;12.0;70;US']\n",
            "['Buick Skylark 320;15.0;8;350.0;165.0;3693.;11.5;70;US']\n",
            "['Plymouth Satellite;18.0;8;318.0;150.0;3436.;11.0;70;US']\n",
            "['AMC Rebel SST;16.0;8;304.0;150.0;3433.;12.0;70;US']\n",
            "['Ford Torino;17.0;8;302.0;140.0;3449.;10.5;70;US']\n",
            "['Ford Galaxie 500;15.0;8;429.0;198.0;4341.;10.0;70;US']\n",
            "['Chevrolet Impala;14.0;8;454.0;220.0;4354.;9.0;70;US']\n",
            "['Plymouth Fury iii;14.0;8;440.0;215.0;4312.;8.5;70;US']\n",
            "['Pontiac Catalina;14.0;8;455.0;225.0;4425.;10.0;70;US']\n",
            "['Volkswagen Super Beetle 117;0;4;97.00;48.00;1978.;20.0;71;Europe']\n",
            "['AMC Gremlin;19.0;6;232.0;100.0;2634.;13.0;71;US']\n",
            "['Plymouth Satellite Custom;16.0;6;225.0;105.0;3439.;15.5;71;US']\n",
            "['Chevrolet Chevelle Malibu;17.0;6;250.0;100.0;3329.;15.5;71;US']\n",
            "['Ford Torino 500;19.0;6;250.0;88.00;3302.;15.5;71;US']\n",
            "['AMC Matador;18.0;6;232.0;100.0;3288.;15.5;71;US']\n",
            "['Chevrolet Impala;14.0;8;350.0;165.0;4209.;12.0;71;US']\n",
            "['Pontiac Catalina Brougham;14.0;8;400.0;175.0;4464.;11.5;71;US']\n",
            "['Ford Galaxie 500;14.0;8;351.0;153.0;4154.;13.5;71;US']\n",
            "['Plymouth Fury iii;14.0;8;318.0;150.0;4096.;13.0;71;US']\n"
          ]
        }
      ],
      "source": [
        "for x in data.data:\n",
        "  print(x)"
      ]
    },
    {
      "cell_type": "markdown",
      "metadata": {
        "id": "zt6bxsexjeg-"
      },
      "source": [
        "Sledeća funkcija služi za formiranje DataFrame-a, pomoću funkcije DataFrame iz **pandas** biblioteke. Takođe, neophodno je splitovati string koji predstavlja nazive kolona"
      ]
    },
    {
      "cell_type": "code",
      "execution_count": 177,
      "metadata": {
        "id": "n7NLe7Lxl3RL"
      },
      "outputs": [],
      "source": [
        "import pandas as pd\n",
        "def FormirajDataFrame(data):\n",
        "  data=ParsMat(data)\n",
        "  data.headers=(data.headers[0]).split(\";\")\n",
        "  df=pd.DataFrame(data.data,columns=data.headers)\n",
        "  return df"
      ]
    },
    {
      "cell_type": "code",
      "execution_count": 178,
      "metadata": {
        "id": "3wE-1xhemMW8"
      },
      "outputs": [],
      "source": [
        "df=FormirajDataFrame(data)\n"
      ]
    },
    {
      "cell_type": "code",
      "execution_count": 180,
      "metadata": {
        "colab": {
          "base_uri": "https://localhost:8080/",
          "height": 645
        },
        "id": "IR7_bI1lmdIt",
        "outputId": "4da2c337-3bd9-40f5-ac64-52d05cbe5dc3"
      },
      "outputs": [
        {
          "data": {
            "text/html": [
              "\n",
              "  <div id=\"df-96b7933a-c16f-4276-8313-973cf16b5fe1\">\n",
              "    <div class=\"colab-df-container\">\n",
              "      <div>\n",
              "<style scoped>\n",
              "    .dataframe tbody tr th:only-of-type {\n",
              "        vertical-align: middle;\n",
              "    }\n",
              "\n",
              "    .dataframe tbody tr th {\n",
              "        vertical-align: top;\n",
              "    }\n",
              "\n",
              "    .dataframe thead th {\n",
              "        text-align: right;\n",
              "    }\n",
              "</style>\n",
              "<table border=\"1\" class=\"dataframe\">\n",
              "  <thead>\n",
              "    <tr style=\"text-align: right;\">\n",
              "      <th></th>\n",
              "      <th>Car</th>\n",
              "      <th>MPG</th>\n",
              "      <th>Cylinders</th>\n",
              "      <th>Displacement</th>\n",
              "      <th>Horsepower</th>\n",
              "      <th>Weight</th>\n",
              "      <th>Acceleration</th>\n",
              "      <th>Model</th>\n",
              "      <th>Origin</th>\n",
              "    </tr>\n",
              "  </thead>\n",
              "  <tbody>\n",
              "    <tr>\n",
              "      <th>0</th>\n",
              "      <td>Chevrolet Chevelle Malibu</td>\n",
              "      <td>18.0</td>\n",
              "      <td>8.0</td>\n",
              "      <td>307.0</td>\n",
              "      <td>130.0</td>\n",
              "      <td>3504.0</td>\n",
              "      <td>12.0</td>\n",
              "      <td>70.0</td>\n",
              "      <td>US</td>\n",
              "    </tr>\n",
              "    <tr>\n",
              "      <th>1</th>\n",
              "      <td>Buick Skylark 320</td>\n",
              "      <td>15.0</td>\n",
              "      <td>8.0</td>\n",
              "      <td>350.0</td>\n",
              "      <td>165.0</td>\n",
              "      <td>3693.0</td>\n",
              "      <td>11.5</td>\n",
              "      <td>70.0</td>\n",
              "      <td>US</td>\n",
              "    </tr>\n",
              "    <tr>\n",
              "      <th>2</th>\n",
              "      <td>Plymouth Satellite</td>\n",
              "      <td>18.0</td>\n",
              "      <td>8.0</td>\n",
              "      <td>318.0</td>\n",
              "      <td>150.0</td>\n",
              "      <td>3436.0</td>\n",
              "      <td>11.0</td>\n",
              "      <td>70.0</td>\n",
              "      <td>US</td>\n",
              "    </tr>\n",
              "    <tr>\n",
              "      <th>3</th>\n",
              "      <td>AMC Rebel SST</td>\n",
              "      <td>16.0</td>\n",
              "      <td>8.0</td>\n",
              "      <td>304.0</td>\n",
              "      <td>150.0</td>\n",
              "      <td>3433.0</td>\n",
              "      <td>12.0</td>\n",
              "      <td>70.0</td>\n",
              "      <td>US</td>\n",
              "    </tr>\n",
              "    <tr>\n",
              "      <th>4</th>\n",
              "      <td>Ford Torino</td>\n",
              "      <td>17.0</td>\n",
              "      <td>8.0</td>\n",
              "      <td>302.0</td>\n",
              "      <td>140.0</td>\n",
              "      <td>3449.0</td>\n",
              "      <td>10.5</td>\n",
              "      <td>70.0</td>\n",
              "      <td>US</td>\n",
              "    </tr>\n",
              "    <tr>\n",
              "      <th>5</th>\n",
              "      <td>Ford Galaxie 500</td>\n",
              "      <td>15.0</td>\n",
              "      <td>8.0</td>\n",
              "      <td>429.0</td>\n",
              "      <td>198.0</td>\n",
              "      <td>4341.0</td>\n",
              "      <td>10.0</td>\n",
              "      <td>70.0</td>\n",
              "      <td>US</td>\n",
              "    </tr>\n",
              "    <tr>\n",
              "      <th>6</th>\n",
              "      <td>Chevrolet Impala</td>\n",
              "      <td>14.0</td>\n",
              "      <td>8.0</td>\n",
              "      <td>454.0</td>\n",
              "      <td>220.0</td>\n",
              "      <td>4354.0</td>\n",
              "      <td>9.0</td>\n",
              "      <td>70.0</td>\n",
              "      <td>US</td>\n",
              "    </tr>\n",
              "    <tr>\n",
              "      <th>7</th>\n",
              "      <td>Plymouth Fury iii</td>\n",
              "      <td>14.0</td>\n",
              "      <td>8.0</td>\n",
              "      <td>440.0</td>\n",
              "      <td>215.0</td>\n",
              "      <td>4312.0</td>\n",
              "      <td>8.5</td>\n",
              "      <td>70.0</td>\n",
              "      <td>US</td>\n",
              "    </tr>\n",
              "    <tr>\n",
              "      <th>8</th>\n",
              "      <td>Pontiac Catalina</td>\n",
              "      <td>14.0</td>\n",
              "      <td>8.0</td>\n",
              "      <td>455.0</td>\n",
              "      <td>225.0</td>\n",
              "      <td>4425.0</td>\n",
              "      <td>10.0</td>\n",
              "      <td>70.0</td>\n",
              "      <td>US</td>\n",
              "    </tr>\n",
              "    <tr>\n",
              "      <th>9</th>\n",
              "      <td>Volkswagen Super Beetle 117</td>\n",
              "      <td>0.0</td>\n",
              "      <td>4.0</td>\n",
              "      <td>97.0</td>\n",
              "      <td>48.0</td>\n",
              "      <td>1978.0</td>\n",
              "      <td>20.0</td>\n",
              "      <td>71.0</td>\n",
              "      <td>Europe</td>\n",
              "    </tr>\n",
              "    <tr>\n",
              "      <th>10</th>\n",
              "      <td>AMC Gremlin</td>\n",
              "      <td>19.0</td>\n",
              "      <td>6.0</td>\n",
              "      <td>232.0</td>\n",
              "      <td>100.0</td>\n",
              "      <td>2634.0</td>\n",
              "      <td>13.0</td>\n",
              "      <td>71.0</td>\n",
              "      <td>US</td>\n",
              "    </tr>\n",
              "    <tr>\n",
              "      <th>11</th>\n",
              "      <td>Plymouth Satellite Custom</td>\n",
              "      <td>16.0</td>\n",
              "      <td>6.0</td>\n",
              "      <td>225.0</td>\n",
              "      <td>105.0</td>\n",
              "      <td>3439.0</td>\n",
              "      <td>15.5</td>\n",
              "      <td>71.0</td>\n",
              "      <td>US</td>\n",
              "    </tr>\n",
              "    <tr>\n",
              "      <th>12</th>\n",
              "      <td>Chevrolet Chevelle Malibu</td>\n",
              "      <td>17.0</td>\n",
              "      <td>6.0</td>\n",
              "      <td>250.0</td>\n",
              "      <td>100.0</td>\n",
              "      <td>3329.0</td>\n",
              "      <td>15.5</td>\n",
              "      <td>71.0</td>\n",
              "      <td>US</td>\n",
              "    </tr>\n",
              "    <tr>\n",
              "      <th>13</th>\n",
              "      <td>Ford Torino 500</td>\n",
              "      <td>19.0</td>\n",
              "      <td>6.0</td>\n",
              "      <td>250.0</td>\n",
              "      <td>88.0</td>\n",
              "      <td>3302.0</td>\n",
              "      <td>15.5</td>\n",
              "      <td>71.0</td>\n",
              "      <td>US</td>\n",
              "    </tr>\n",
              "    <tr>\n",
              "      <th>14</th>\n",
              "      <td>AMC Matador</td>\n",
              "      <td>18.0</td>\n",
              "      <td>6.0</td>\n",
              "      <td>232.0</td>\n",
              "      <td>100.0</td>\n",
              "      <td>3288.0</td>\n",
              "      <td>15.5</td>\n",
              "      <td>71.0</td>\n",
              "      <td>US</td>\n",
              "    </tr>\n",
              "    <tr>\n",
              "      <th>15</th>\n",
              "      <td>Chevrolet Impala</td>\n",
              "      <td>14.0</td>\n",
              "      <td>8.0</td>\n",
              "      <td>350.0</td>\n",
              "      <td>165.0</td>\n",
              "      <td>4209.0</td>\n",
              "      <td>12.0</td>\n",
              "      <td>71.0</td>\n",
              "      <td>US</td>\n",
              "    </tr>\n",
              "    <tr>\n",
              "      <th>16</th>\n",
              "      <td>Pontiac Catalina Brougham</td>\n",
              "      <td>14.0</td>\n",
              "      <td>8.0</td>\n",
              "      <td>400.0</td>\n",
              "      <td>175.0</td>\n",
              "      <td>4464.0</td>\n",
              "      <td>11.5</td>\n",
              "      <td>71.0</td>\n",
              "      <td>US</td>\n",
              "    </tr>\n",
              "    <tr>\n",
              "      <th>17</th>\n",
              "      <td>Ford Galaxie 500</td>\n",
              "      <td>14.0</td>\n",
              "      <td>8.0</td>\n",
              "      <td>351.0</td>\n",
              "      <td>153.0</td>\n",
              "      <td>4154.0</td>\n",
              "      <td>13.5</td>\n",
              "      <td>71.0</td>\n",
              "      <td>US</td>\n",
              "    </tr>\n",
              "    <tr>\n",
              "      <th>18</th>\n",
              "      <td>Plymouth Fury iii</td>\n",
              "      <td>14.0</td>\n",
              "      <td>8.0</td>\n",
              "      <td>318.0</td>\n",
              "      <td>150.0</td>\n",
              "      <td>4096.0</td>\n",
              "      <td>13.0</td>\n",
              "      <td>71.0</td>\n",
              "      <td>US</td>\n",
              "    </tr>\n",
              "  </tbody>\n",
              "</table>\n",
              "</div>\n",
              "      <button class=\"colab-df-convert\" onclick=\"convertToInteractive('df-96b7933a-c16f-4276-8313-973cf16b5fe1')\"\n",
              "              title=\"Convert this dataframe to an interactive table.\"\n",
              "              style=\"display:none;\">\n",
              "        \n",
              "  <svg xmlns=\"http://www.w3.org/2000/svg\" height=\"24px\"viewBox=\"0 0 24 24\"\n",
              "       width=\"24px\">\n",
              "    <path d=\"M0 0h24v24H0V0z\" fill=\"none\"/>\n",
              "    <path d=\"M18.56 5.44l.94 2.06.94-2.06 2.06-.94-2.06-.94-.94-2.06-.94 2.06-2.06.94zm-11 1L8.5 8.5l.94-2.06 2.06-.94-2.06-.94L8.5 2.5l-.94 2.06-2.06.94zm10 10l.94 2.06.94-2.06 2.06-.94-2.06-.94-.94-2.06-.94 2.06-2.06.94z\"/><path d=\"M17.41 7.96l-1.37-1.37c-.4-.4-.92-.59-1.43-.59-.52 0-1.04.2-1.43.59L10.3 9.45l-7.72 7.72c-.78.78-.78 2.05 0 2.83L4 21.41c.39.39.9.59 1.41.59.51 0 1.02-.2 1.41-.59l7.78-7.78 2.81-2.81c.8-.78.8-2.07 0-2.86zM5.41 20L4 18.59l7.72-7.72 1.47 1.35L5.41 20z\"/>\n",
              "  </svg>\n",
              "      </button>\n",
              "      \n",
              "  <style>\n",
              "    .colab-df-container {\n",
              "      display:flex;\n",
              "      flex-wrap:wrap;\n",
              "      gap: 12px;\n",
              "    }\n",
              "\n",
              "    .colab-df-convert {\n",
              "      background-color: #E8F0FE;\n",
              "      border: none;\n",
              "      border-radius: 50%;\n",
              "      cursor: pointer;\n",
              "      display: none;\n",
              "      fill: #1967D2;\n",
              "      height: 32px;\n",
              "      padding: 0 0 0 0;\n",
              "      width: 32px;\n",
              "    }\n",
              "\n",
              "    .colab-df-convert:hover {\n",
              "      background-color: #E2EBFA;\n",
              "      box-shadow: 0px 1px 2px rgba(60, 64, 67, 0.3), 0px 1px 3px 1px rgba(60, 64, 67, 0.15);\n",
              "      fill: #174EA6;\n",
              "    }\n",
              "\n",
              "    [theme=dark] .colab-df-convert {\n",
              "      background-color: #3B4455;\n",
              "      fill: #D2E3FC;\n",
              "    }\n",
              "\n",
              "    [theme=dark] .colab-df-convert:hover {\n",
              "      background-color: #434B5C;\n",
              "      box-shadow: 0px 1px 3px 1px rgba(0, 0, 0, 0.15);\n",
              "      filter: drop-shadow(0px 1px 2px rgba(0, 0, 0, 0.3));\n",
              "      fill: #FFFFFF;\n",
              "    }\n",
              "  </style>\n",
              "\n",
              "      <script>\n",
              "        const buttonEl =\n",
              "          document.querySelector('#df-96b7933a-c16f-4276-8313-973cf16b5fe1 button.colab-df-convert');\n",
              "        buttonEl.style.display =\n",
              "          google.colab.kernel.accessAllowed ? 'block' : 'none';\n",
              "\n",
              "        async function convertToInteractive(key) {\n",
              "          const element = document.querySelector('#df-96b7933a-c16f-4276-8313-973cf16b5fe1');\n",
              "          const dataTable =\n",
              "            await google.colab.kernel.invokeFunction('convertToInteractive',\n",
              "                                                     [key], {});\n",
              "          if (!dataTable) return;\n",
              "\n",
              "          const docLinkHtml = 'Like what you see? Visit the ' +\n",
              "            '<a target=\"_blank\" href=https://colab.research.google.com/notebooks/data_table.ipynb>data table notebook</a>'\n",
              "            + ' to learn more about interactive tables.';\n",
              "          element.innerHTML = '';\n",
              "          dataTable['output_type'] = 'display_data';\n",
              "          await google.colab.output.renderOutput(dataTable, element);\n",
              "          const docLink = document.createElement('div');\n",
              "          docLink.innerHTML = docLinkHtml;\n",
              "          element.appendChild(docLink);\n",
              "        }\n",
              "      </script>\n",
              "    </div>\n",
              "  </div>\n",
              "  "
            ],
            "text/plain": [
              "                            Car   MPG  Cylinders  Displacement  Horsepower  \\\n",
              "0     Chevrolet Chevelle Malibu  18.0        8.0         307.0       130.0   \n",
              "1             Buick Skylark 320  15.0        8.0         350.0       165.0   \n",
              "2            Plymouth Satellite  18.0        8.0         318.0       150.0   \n",
              "3                 AMC Rebel SST  16.0        8.0         304.0       150.0   \n",
              "4                   Ford Torino  17.0        8.0         302.0       140.0   \n",
              "5              Ford Galaxie 500  15.0        8.0         429.0       198.0   \n",
              "6              Chevrolet Impala  14.0        8.0         454.0       220.0   \n",
              "7             Plymouth Fury iii  14.0        8.0         440.0       215.0   \n",
              "8              Pontiac Catalina  14.0        8.0         455.0       225.0   \n",
              "9   Volkswagen Super Beetle 117   0.0        4.0          97.0        48.0   \n",
              "10                  AMC Gremlin  19.0        6.0         232.0       100.0   \n",
              "11    Plymouth Satellite Custom  16.0        6.0         225.0       105.0   \n",
              "12    Chevrolet Chevelle Malibu  17.0        6.0         250.0       100.0   \n",
              "13              Ford Torino 500  19.0        6.0         250.0        88.0   \n",
              "14                  AMC Matador  18.0        6.0         232.0       100.0   \n",
              "15             Chevrolet Impala  14.0        8.0         350.0       165.0   \n",
              "16    Pontiac Catalina Brougham  14.0        8.0         400.0       175.0   \n",
              "17             Ford Galaxie 500  14.0        8.0         351.0       153.0   \n",
              "18            Plymouth Fury iii  14.0        8.0         318.0       150.0   \n",
              "\n",
              "    Weight  Acceleration  Model  Origin  \n",
              "0   3504.0          12.0   70.0      US  \n",
              "1   3693.0          11.5   70.0      US  \n",
              "2   3436.0          11.0   70.0      US  \n",
              "3   3433.0          12.0   70.0      US  \n",
              "4   3449.0          10.5   70.0      US  \n",
              "5   4341.0          10.0   70.0      US  \n",
              "6   4354.0           9.0   70.0      US  \n",
              "7   4312.0           8.5   70.0      US  \n",
              "8   4425.0          10.0   70.0      US  \n",
              "9   1978.0          20.0   71.0  Europe  \n",
              "10  2634.0          13.0   71.0      US  \n",
              "11  3439.0          15.5   71.0      US  \n",
              "12  3329.0          15.5   71.0      US  \n",
              "13  3302.0          15.5   71.0      US  \n",
              "14  3288.0          15.5   71.0      US  \n",
              "15  4209.0          12.0   71.0      US  \n",
              "16  4464.0          11.5   71.0      US  \n",
              "17  4154.0          13.5   71.0      US  \n",
              "18  4096.0          13.0   71.0      US  "
            ]
          },
          "execution_count": 180,
          "metadata": {},
          "output_type": "execute_result"
        }
      ],
      "source": [
        "df"
      ]
    },
    {
      "cell_type": "markdown",
      "metadata": {},
      "source": [
        "Provera tipova svake kolone u dataset-u"
      ]
    },
    {
      "cell_type": "code",
      "execution_count": 181,
      "metadata": {
        "colab": {
          "base_uri": "https://localhost:8080/"
        },
        "id": "W9NqWdHvg8d0",
        "outputId": "d11651f6-54b8-4d6b-ecb8-2deb8ce5de24"
      },
      "outputs": [
        {
          "name": "stdout",
          "output_type": "stream",
          "text": [
            "Car              object\n",
            "MPG             float64\n",
            "Cylinders       float64\n",
            "Displacement    float64\n",
            "Horsepower      float64\n",
            "Weight          float64\n",
            "Acceleration    float64\n",
            "Model           float64\n",
            "Origin           object\n",
            "dtype: object\n"
          ]
        }
      ],
      "source": [
        "tipovi=df.dtypes\n",
        "print(tipovi)"
      ]
    }
  ],
  "metadata": {
    "colab": {
      "collapsed_sections": [],
      "name": "FormiranjeDataFrame-a.ipynb",
      "provenance": []
    },
    "kernelspec": {
      "display_name": "Python 3",
      "name": "python3"
    },
    "language_info": {
      "name": "python"
    }
  },
  "nbformat": 4,
  "nbformat_minor": 0
}
