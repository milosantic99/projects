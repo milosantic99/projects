{
  "cells": [
    {
      "cell_type": "markdown",
      "metadata": {
        "id": "NneEmNTD1Kli"
      },
      "source": [
        "#Učitavanje podataka "
      ]
    },
    {
      "cell_type": "markdown",
      "metadata": {
        "id": "lA4ua_2Ty5ow"
      },
      "source": [
        "Pre svega,neophodno je instalrati TensorFlow sledećom komandom"
      ]
    },
    {
      "cell_type": "code",
      "execution_count": 3,
      "metadata": {
        "colab": {
          "base_uri": "https://localhost:8080/"
        },
        "id": "LaCduh67x4PS",
        "outputId": "7502f3d7-edf5-4c6e-c099-33136e3d6747"
      },
      "outputs": [
        {
          "name": "stdout",
          "output_type": "stream",
          "text": [
            "Requirement already satisfied: tensorflow in /usr/local/lib/python3.7/dist-packages (2.8.0)\n",
            "Requirement already satisfied: astunparse>=1.6.0 in /usr/local/lib/python3.7/dist-packages (from tensorflow) (1.6.3)\n",
            "Requirement already satisfied: wrapt>=1.11.0 in /usr/local/lib/python3.7/dist-packages (from tensorflow) (1.13.3)\n",
            "Requirement already satisfied: tensorflow-io-gcs-filesystem>=0.23.1 in /usr/local/lib/python3.7/dist-packages (from tensorflow) (0.24.0)\n",
            "Requirement already satisfied: keras<2.9,>=2.8.0rc0 in /usr/local/lib/python3.7/dist-packages (from tensorflow) (2.8.0)\n",
            "Collecting tf-estimator-nightly==2.8.0.dev2021122109\n",
            "  Downloading tf_estimator_nightly-2.8.0.dev2021122109-py2.py3-none-any.whl (462 kB)\n",
            "\u001b[K     |████████████████████████████████| 462 kB 3.1 MB/s \n",
            "\u001b[?25hRequirement already satisfied: google-pasta>=0.1.1 in /usr/local/lib/python3.7/dist-packages (from tensorflow) (0.2.0)\n",
            "Requirement already satisfied: typing-extensions>=3.6.6 in /usr/local/lib/python3.7/dist-packages (from tensorflow) (3.10.0.2)\n",
            "Requirement already satisfied: protobuf>=3.9.2 in /usr/local/lib/python3.7/dist-packages (from tensorflow) (3.17.3)\n",
            "Requirement already satisfied: tensorboard<2.9,>=2.8 in /usr/local/lib/python3.7/dist-packages (from tensorflow) (2.8.0)\n",
            "Requirement already satisfied: opt-einsum>=2.3.2 in /usr/local/lib/python3.7/dist-packages (from tensorflow) (3.3.0)\n",
            "Requirement already satisfied: absl-py>=0.4.0 in /usr/local/lib/python3.7/dist-packages (from tensorflow) (1.0.0)\n",
            "Requirement already satisfied: keras-preprocessing>=1.1.1 in /usr/local/lib/python3.7/dist-packages (from tensorflow) (1.1.2)\n",
            "Requirement already satisfied: gast>=0.2.1 in /usr/local/lib/python3.7/dist-packages (from tensorflow) (0.5.3)\n",
            "Requirement already satisfied: setuptools in /usr/local/lib/python3.7/dist-packages (from tensorflow) (57.4.0)\n",
            "Requirement already satisfied: termcolor>=1.1.0 in /usr/local/lib/python3.7/dist-packages (from tensorflow) (1.1.0)\n",
            "Requirement already satisfied: grpcio<2.0,>=1.24.3 in /usr/local/lib/python3.7/dist-packages (from tensorflow) (1.44.0)\n",
            "Requirement already satisfied: six>=1.12.0 in /usr/local/lib/python3.7/dist-packages (from tensorflow) (1.15.0)\n",
            "Requirement already satisfied: flatbuffers>=1.12 in /usr/local/lib/python3.7/dist-packages (from tensorflow) (2.0)\n",
            "Requirement already satisfied: numpy>=1.20 in /usr/local/lib/python3.7/dist-packages (from tensorflow) (1.21.5)\n",
            "Requirement already satisfied: libclang>=9.0.1 in /usr/local/lib/python3.7/dist-packages (from tensorflow) (13.0.0)\n",
            "Requirement already satisfied: h5py>=2.9.0 in /usr/local/lib/python3.7/dist-packages (from tensorflow) (3.1.0)\n",
            "Requirement already satisfied: wheel<1.0,>=0.23.0 in /usr/local/lib/python3.7/dist-packages (from astunparse>=1.6.0->tensorflow) (0.37.1)\n",
            "Requirement already satisfied: cached-property in /usr/local/lib/python3.7/dist-packages (from h5py>=2.9.0->tensorflow) (1.5.2)\n",
            "Requirement already satisfied: google-auth-oauthlib<0.5,>=0.4.1 in /usr/local/lib/python3.7/dist-packages (from tensorboard<2.9,>=2.8->tensorflow) (0.4.6)\n",
            "Requirement already satisfied: werkzeug>=0.11.15 in /usr/local/lib/python3.7/dist-packages (from tensorboard<2.9,>=2.8->tensorflow) (1.0.1)\n",
            "Requirement already satisfied: google-auth<3,>=1.6.3 in /usr/local/lib/python3.7/dist-packages (from tensorboard<2.9,>=2.8->tensorflow) (1.35.0)\n",
            "Requirement already satisfied: tensorboard-data-server<0.7.0,>=0.6.0 in /usr/local/lib/python3.7/dist-packages (from tensorboard<2.9,>=2.8->tensorflow) (0.6.1)\n",
            "Requirement already satisfied: requests<3,>=2.21.0 in /usr/local/lib/python3.7/dist-packages (from tensorboard<2.9,>=2.8->tensorflow) (2.23.0)\n",
            "Requirement already satisfied: markdown>=2.6.8 in /usr/local/lib/python3.7/dist-packages (from tensorboard<2.9,>=2.8->tensorflow) (3.3.6)\n",
            "Requirement already satisfied: tensorboard-plugin-wit>=1.6.0 in /usr/local/lib/python3.7/dist-packages (from tensorboard<2.9,>=2.8->tensorflow) (1.8.1)\n",
            "Requirement already satisfied: pyasn1-modules>=0.2.1 in /usr/local/lib/python3.7/dist-packages (from google-auth<3,>=1.6.3->tensorboard<2.9,>=2.8->tensorflow) (0.2.8)\n",
            "Requirement already satisfied: rsa<5,>=3.1.4 in /usr/local/lib/python3.7/dist-packages (from google-auth<3,>=1.6.3->tensorboard<2.9,>=2.8->tensorflow) (4.8)\n",
            "Requirement already satisfied: cachetools<5.0,>=2.0.0 in /usr/local/lib/python3.7/dist-packages (from google-auth<3,>=1.6.3->tensorboard<2.9,>=2.8->tensorflow) (4.2.4)\n",
            "Requirement already satisfied: requests-oauthlib>=0.7.0 in /usr/local/lib/python3.7/dist-packages (from google-auth-oauthlib<0.5,>=0.4.1->tensorboard<2.9,>=2.8->tensorflow) (1.3.1)\n",
            "Requirement already satisfied: importlib-metadata>=4.4 in /usr/local/lib/python3.7/dist-packages (from markdown>=2.6.8->tensorboard<2.9,>=2.8->tensorflow) (4.11.2)\n",
            "Requirement already satisfied: zipp>=0.5 in /usr/local/lib/python3.7/dist-packages (from importlib-metadata>=4.4->markdown>=2.6.8->tensorboard<2.9,>=2.8->tensorflow) (3.7.0)\n",
            "Requirement already satisfied: pyasn1<0.5.0,>=0.4.6 in /usr/local/lib/python3.7/dist-packages (from pyasn1-modules>=0.2.1->google-auth<3,>=1.6.3->tensorboard<2.9,>=2.8->tensorflow) (0.4.8)\n",
            "Requirement already satisfied: chardet<4,>=3.0.2 in /usr/local/lib/python3.7/dist-packages (from requests<3,>=2.21.0->tensorboard<2.9,>=2.8->tensorflow) (3.0.4)\n",
            "Requirement already satisfied: idna<3,>=2.5 in /usr/local/lib/python3.7/dist-packages (from requests<3,>=2.21.0->tensorboard<2.9,>=2.8->tensorflow) (2.10)\n",
            "Requirement already satisfied: certifi>=2017.4.17 in /usr/local/lib/python3.7/dist-packages (from requests<3,>=2.21.0->tensorboard<2.9,>=2.8->tensorflow) (2021.10.8)\n",
            "Requirement already satisfied: urllib3!=1.25.0,!=1.25.1,<1.26,>=1.21.1 in /usr/local/lib/python3.7/dist-packages (from requests<3,>=2.21.0->tensorboard<2.9,>=2.8->tensorflow) (1.24.3)\n",
            "Requirement already satisfied: oauthlib>=3.0.0 in /usr/local/lib/python3.7/dist-packages (from requests-oauthlib>=0.7.0->google-auth-oauthlib<0.5,>=0.4.1->tensorboard<2.9,>=2.8->tensorflow) (3.2.0)\n",
            "Installing collected packages: tf-estimator-nightly\n",
            "Successfully installed tf-estimator-nightly-2.8.0.dev2021122109\n"
          ]
        }
      ],
      "source": [
        "  !pip install tensorflow"
      ]
    },
    {
      "cell_type": "markdown",
      "metadata": {
        "id": "D1U7nu49y_pP"
      },
      "source": [
        "Sledi importovanje potrebnih biblioteka, među kojima su pandas, numpy, seborn itd."
      ]
    },
    {
      "cell_type": "code",
      "execution_count": 114,
      "metadata": {
        "id": "aS8nvyZFx6Up"
      },
      "outputs": [],
      "source": [
        "import tensorflow as tf\n",
        "from google.colab import files\n",
        "import pandas as pd\n",
        "import numpy as np\n",
        "import random\n",
        "import seaborn as sns\n",
        "import matplotlib.pyplot as plt\n",
        "from sklearn import preprocessing\n"
      ]
    },
    {
      "cell_type": "markdown",
      "metadata": {
        "id": "r0Z_lwgAzD7t"
      },
      "source": [
        "Sledeći deo koda vrši učitavanje csv fajla koji sadrži skup podataka za rad."
      ]
    },
    {
      "cell_type": "code",
      "execution_count": 6,
      "metadata": {
        "colab": {
          "base_uri": "https://localhost:8080/",
          "height": 74,
          "resources": {
            "http://localhost:8080/nbextensions/google.colab/files.js": {
              "data": "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",
              "headers": [
                [
                  "content-type",
                  "application/javascript"
                ]
              ],
              "ok": true,
              "status": 200,
              "status_text": ""
            }
          }
        },
        "id": "D3UvENZju_Sm",
        "outputId": "517cb966-4e19-4485-bdfe-e0c4b571d101"
      },
      "outputs": [
        {
          "data": {
            "text/html": [
              "\n",
              "     <input type=\"file\" id=\"files-136fb8be-7406-4c1b-855c-b27b3b8c6287\" name=\"files[]\" multiple disabled\n",
              "        style=\"border:none\" />\n",
              "     <output id=\"result-136fb8be-7406-4c1b-855c-b27b3b8c6287\">\n",
              "      Upload widget is only available when the cell has been executed in the\n",
              "      current browser session. Please rerun this cell to enable.\n",
              "      </output>\n",
              "      <script src=\"/nbextensions/google.colab/files.js\"></script> "
            ],
            "text/plain": [
              "<IPython.core.display.HTML object>"
            ]
          },
          "metadata": {},
          "output_type": "display_data"
        },
        {
          "name": "stdout",
          "output_type": "stream",
          "text": [
            "Saving winequalityN.csv to winequalityN.csv\n"
          ]
        }
      ],
      "source": [
        "file=files.upload()"
      ]
    },
    {
      "cell_type": "code",
      "execution_count": 115,
      "metadata": {
        "id": "8hDucPqSx-hR"
      },
      "outputs": [],
      "source": [
        "\n",
        "dataset=pd.read_csv(\"winequalityN.csv\")"
      ]
    },
    {
      "cell_type": "markdown",
      "metadata": {
        "id": "RN21cACrzGN3"
      },
      "source": [
        "Korisnik je sa front-a odabrao kolone koje će biti deo podataka za ulaz u neuronsku mrežu, kao i kolonu koja će biti izlaz iz mreže. Redni brojevi kolona se pamte u nizu. Takođe, omogućeno mu je da odabere iz koliko slojeva će se sastojati neuronska mreža, kao i koloko neurona će biti u svakom sloju. uMoguće je postaviti vrednost za epohu, learnig rate, regularizator, funkciju gubitka i aktivacionu funkciju, kao i odabrati način enkodiranja. Sve ove vrednosti će biti ulaz sa front-a, a za svaki od pomenutih atributa će biti definisan određeni \"kod\". Na primer, promenljiva koja predstavlja način enkodiranja će imati vrednost 1 ukoliko se radi o OneHot enkodiranju, 2 ukoliko je korisnik odabrao Label encoding"
      ]
    },
    {
      "cell_type": "code",
      "execution_count": 116,
      "metadata": {
        "id": "B46PSKXOyJ87"
      },
      "outputs": [],
      "source": [
        "ulazi=[8,9,10]\n",
        "enkodiranje=1 #1 OneHot #2 Label\n",
        "aktivaciona=1 #1 relu, 2 sigmoid, 3 linear, 4 softmax\n",
        "nedostajuceNum=4\n",
        "nedostajuceKat=4\n",
        "loss = 1 # 1 'binary_crossentropy', 2 mse, 3 'categorical_crossentropy'\n",
        "brojNeurona=10\n",
        "brojSlojeva = 2\n",
        "learningRate=0.1\n",
        "epoche=100\n",
        "reg=1 #1- L1, 2 L2\n",
        "regRate=0.1\n",
        "izlaz=0\n",
        "model=1 #1 klasifikacija 2 regresija"
      ]
    },
    {
      "cell_type": "markdown",
      "metadata": {
        "id": "LC_1k0w41FfI"
      },
      "source": [
        "Napravićemo novi dataframe koji će sadržati samo kolone koje služe kao ulaz u neuronsku mrežu.\n",
        "\n",
        "Funkcija **iloc()** služi za izdavanje određenih vrsta i kolona. U ovom slučaju argument koji kazuje koje vrste želimo ima vrednost **:**, što znači da uzimamo sve vrste navedenih kolona."
      ]
    },
    {
      "cell_type": "code",
      "execution_count": 117,
      "metadata": {
        "colab": {
          "base_uri": "https://localhost:8080/",
          "height": 206
        },
        "id": "HaWk9dtPzPRg",
        "outputId": "8a256821-615d-463c-e4dd-a9453c22e34e"
      },
      "outputs": [
        {
          "data": {
            "text/html": [
              "\n",
              "  <div id=\"df-f6e7aba7-f45c-4e29-a964-a080a2d16922\">\n",
              "    <div class=\"colab-df-container\">\n",
              "      <div>\n",
              "<style scoped>\n",
              "    .dataframe tbody tr th:only-of-type {\n",
              "        vertical-align: middle;\n",
              "    }\n",
              "\n",
              "    .dataframe tbody tr th {\n",
              "        vertical-align: top;\n",
              "    }\n",
              "\n",
              "    .dataframe thead th {\n",
              "        text-align: right;\n",
              "    }\n",
              "</style>\n",
              "<table border=\"1\" class=\"dataframe\">\n",
              "  <thead>\n",
              "    <tr style=\"text-align: right;\">\n",
              "      <th></th>\n",
              "      <th>density</th>\n",
              "      <th>pH</th>\n",
              "      <th>sulphates</th>\n",
              "    </tr>\n",
              "  </thead>\n",
              "  <tbody>\n",
              "    <tr>\n",
              "      <th>0</th>\n",
              "      <td>1.0010</td>\n",
              "      <td>3.00</td>\n",
              "      <td>0.45</td>\n",
              "    </tr>\n",
              "    <tr>\n",
              "      <th>1</th>\n",
              "      <td>0.9940</td>\n",
              "      <td>3.30</td>\n",
              "      <td>0.49</td>\n",
              "    </tr>\n",
              "    <tr>\n",
              "      <th>2</th>\n",
              "      <td>0.9951</td>\n",
              "      <td>3.26</td>\n",
              "      <td>0.44</td>\n",
              "    </tr>\n",
              "    <tr>\n",
              "      <th>3</th>\n",
              "      <td>0.9956</td>\n",
              "      <td>3.19</td>\n",
              "      <td>0.40</td>\n",
              "    </tr>\n",
              "    <tr>\n",
              "      <th>4</th>\n",
              "      <td>0.9956</td>\n",
              "      <td>3.19</td>\n",
              "      <td>0.40</td>\n",
              "    </tr>\n",
              "  </tbody>\n",
              "</table>\n",
              "</div>\n",
              "      <button class=\"colab-df-convert\" onclick=\"convertToInteractive('df-f6e7aba7-f45c-4e29-a964-a080a2d16922')\"\n",
              "              title=\"Convert this dataframe to an interactive table.\"\n",
              "              style=\"display:none;\">\n",
              "        \n",
              "  <svg xmlns=\"http://www.w3.org/2000/svg\" height=\"24px\"viewBox=\"0 0 24 24\"\n",
              "       width=\"24px\">\n",
              "    <path d=\"M0 0h24v24H0V0z\" fill=\"none\"/>\n",
              "    <path d=\"M18.56 5.44l.94 2.06.94-2.06 2.06-.94-2.06-.94-.94-2.06-.94 2.06-2.06.94zm-11 1L8.5 8.5l.94-2.06 2.06-.94-2.06-.94L8.5 2.5l-.94 2.06-2.06.94zm10 10l.94 2.06.94-2.06 2.06-.94-2.06-.94-.94-2.06-.94 2.06-2.06.94z\"/><path d=\"M17.41 7.96l-1.37-1.37c-.4-.4-.92-.59-1.43-.59-.52 0-1.04.2-1.43.59L10.3 9.45l-7.72 7.72c-.78.78-.78 2.05 0 2.83L4 21.41c.39.39.9.59 1.41.59.51 0 1.02-.2 1.41-.59l7.78-7.78 2.81-2.81c.8-.78.8-2.07 0-2.86zM5.41 20L4 18.59l7.72-7.72 1.47 1.35L5.41 20z\"/>\n",
              "  </svg>\n",
              "      </button>\n",
              "      \n",
              "  <style>\n",
              "    .colab-df-container {\n",
              "      display:flex;\n",
              "      flex-wrap:wrap;\n",
              "      gap: 12px;\n",
              "    }\n",
              "\n",
              "    .colab-df-convert {\n",
              "      background-color: #E8F0FE;\n",
              "      border: none;\n",
              "      border-radius: 50%;\n",
              "      cursor: pointer;\n",
              "      display: none;\n",
              "      fill: #1967D2;\n",
              "      height: 32px;\n",
              "      padding: 0 0 0 0;\n",
              "      width: 32px;\n",
              "    }\n",
              "\n",
              "    .colab-df-convert:hover {\n",
              "      background-color: #E2EBFA;\n",
              "      box-shadow: 0px 1px 2px rgba(60, 64, 67, 0.3), 0px 1px 3px 1px rgba(60, 64, 67, 0.15);\n",
              "      fill: #174EA6;\n",
              "    }\n",
              "\n",
              "    [theme=dark] .colab-df-convert {\n",
              "      background-color: #3B4455;\n",
              "      fill: #D2E3FC;\n",
              "    }\n",
              "\n",
              "    [theme=dark] .colab-df-convert:hover {\n",
              "      background-color: #434B5C;\n",
              "      box-shadow: 0px 1px 3px 1px rgba(0, 0, 0, 0.15);\n",
              "      filter: drop-shadow(0px 1px 2px rgba(0, 0, 0, 0.3));\n",
              "      fill: #FFFFFF;\n",
              "    }\n",
              "  </style>\n",
              "\n",
              "      <script>\n",
              "        const buttonEl =\n",
              "          document.querySelector('#df-f6e7aba7-f45c-4e29-a964-a080a2d16922 button.colab-df-convert');\n",
              "        buttonEl.style.display =\n",
              "          google.colab.kernel.accessAllowed ? 'block' : 'none';\n",
              "\n",
              "        async function convertToInteractive(key) {\n",
              "          const element = document.querySelector('#df-f6e7aba7-f45c-4e29-a964-a080a2d16922');\n",
              "          const dataTable =\n",
              "            await google.colab.kernel.invokeFunction('convertToInteractive',\n",
              "                                                     [key], {});\n",
              "          if (!dataTable) return;\n",
              "\n",
              "          const docLinkHtml = 'Like what you see? Visit the ' +\n",
              "            '<a target=\"_blank\" href=https://colab.research.google.com/notebooks/data_table.ipynb>data table notebook</a>'\n",
              "            + ' to learn more about interactive tables.';\n",
              "          element.innerHTML = '';\n",
              "          dataTable['output_type'] = 'display_data';\n",
              "          await google.colab.output.renderOutput(dataTable, element);\n",
              "          const docLink = document.createElement('div');\n",
              "          docLink.innerHTML = docLinkHtml;\n",
              "          element.appendChild(docLink);\n",
              "        }\n",
              "      </script>\n",
              "    </div>\n",
              "  </div>\n",
              "  "
            ],
            "text/plain": [
              "   density    pH  sulphates\n",
              "0   1.0010  3.00       0.45\n",
              "1   0.9940  3.30       0.49\n",
              "2   0.9951  3.26       0.44\n",
              "3   0.9956  3.19       0.40\n",
              "4   0.9956  3.19       0.40"
            ]
          },
          "execution_count": 117,
          "metadata": {},
          "output_type": "execute_result"
        }
      ],
      "source": [
        "inputs=dataset.iloc[:,ulazi]\n",
        "inputs.head()"
      ]
    },
    {
      "cell_type": "markdown",
      "metadata": {
        "id": "l6Wiov-O1Ssd"
      },
      "source": [
        "Izdvajanje kolone koja predstavlja izlaz iz mreže"
      ]
    },
    {
      "cell_type": "code",
      "execution_count": 118,
      "metadata": {
        "colab": {
          "base_uri": "https://localhost:8080/"
        },
        "id": "dzW9DUT32ux6",
        "outputId": "8c1b534c-a535-41e3-c098-3e106a5bc519"
      },
      "outputs": [
        {
          "data": {
            "text/plain": [
              "0    white\n",
              "1    white\n",
              "2    white\n",
              "3    white\n",
              "4    white\n",
              "Name: type, dtype: object"
            ]
          },
          "execution_count": 118,
          "metadata": {},
          "output_type": "execute_result"
        }
      ],
      "source": [
        "out=dataset.iloc[:,izlaz]\n",
        "out.head()"
      ]
    },
    {
      "cell_type": "markdown",
      "metadata": {
        "id": "KJBhpFxg14ZK"
      },
      "source": [
        "Objediniti kolone koje predstavljaju ulaz i izlaz iz mreže, tako što na niz koji predtavlja redne brojeve kolona koje su ulaz dodamo redni broj kolone koja je izlaz. Zatim pomoću funkcije **iloc()** izdvojimo odgovarajuće vrste i kolone.\n",
        "\n"
      ]
    },
    {
      "cell_type": "code",
      "execution_count": 119,
      "metadata": {
        "colab": {
          "base_uri": "https://localhost:8080/",
          "height": 206
        },
        "id": "CIHGTLD623zJ",
        "outputId": "60451d2d-1ed5-4385-e62e-19adc7c58e2b"
      },
      "outputs": [
        {
          "data": {
            "text/html": [
              "\n",
              "  <div id=\"df-2f157b8c-a3d2-428c-9297-103182d1a01a\">\n",
              "    <div class=\"colab-df-container\">\n",
              "      <div>\n",
              "<style scoped>\n",
              "    .dataframe tbody tr th:only-of-type {\n",
              "        vertical-align: middle;\n",
              "    }\n",
              "\n",
              "    .dataframe tbody tr th {\n",
              "        vertical-align: top;\n",
              "    }\n",
              "\n",
              "    .dataframe thead th {\n",
              "        text-align: right;\n",
              "    }\n",
              "</style>\n",
              "<table border=\"1\" class=\"dataframe\">\n",
              "  <thead>\n",
              "    <tr style=\"text-align: right;\">\n",
              "      <th></th>\n",
              "      <th>density</th>\n",
              "      <th>pH</th>\n",
              "      <th>sulphates</th>\n",
              "      <th>type</th>\n",
              "    </tr>\n",
              "  </thead>\n",
              "  <tbody>\n",
              "    <tr>\n",
              "      <th>0</th>\n",
              "      <td>1.0010</td>\n",
              "      <td>3.00</td>\n",
              "      <td>0.45</td>\n",
              "      <td>white</td>\n",
              "    </tr>\n",
              "    <tr>\n",
              "      <th>1</th>\n",
              "      <td>0.9940</td>\n",
              "      <td>3.30</td>\n",
              "      <td>0.49</td>\n",
              "      <td>white</td>\n",
              "    </tr>\n",
              "    <tr>\n",
              "      <th>2</th>\n",
              "      <td>0.9951</td>\n",
              "      <td>3.26</td>\n",
              "      <td>0.44</td>\n",
              "      <td>white</td>\n",
              "    </tr>\n",
              "    <tr>\n",
              "      <th>3</th>\n",
              "      <td>0.9956</td>\n",
              "      <td>3.19</td>\n",
              "      <td>0.40</td>\n",
              "      <td>white</td>\n",
              "    </tr>\n",
              "    <tr>\n",
              "      <th>4</th>\n",
              "      <td>0.9956</td>\n",
              "      <td>3.19</td>\n",
              "      <td>0.40</td>\n",
              "      <td>white</td>\n",
              "    </tr>\n",
              "  </tbody>\n",
              "</table>\n",
              "</div>\n",
              "      <button class=\"colab-df-convert\" onclick=\"convertToInteractive('df-2f157b8c-a3d2-428c-9297-103182d1a01a')\"\n",
              "              title=\"Convert this dataframe to an interactive table.\"\n",
              "              style=\"display:none;\">\n",
              "        \n",
              "  <svg xmlns=\"http://www.w3.org/2000/svg\" height=\"24px\"viewBox=\"0 0 24 24\"\n",
              "       width=\"24px\">\n",
              "    <path d=\"M0 0h24v24H0V0z\" fill=\"none\"/>\n",
              "    <path d=\"M18.56 5.44l.94 2.06.94-2.06 2.06-.94-2.06-.94-.94-2.06-.94 2.06-2.06.94zm-11 1L8.5 8.5l.94-2.06 2.06-.94-2.06-.94L8.5 2.5l-.94 2.06-2.06.94zm10 10l.94 2.06.94-2.06 2.06-.94-2.06-.94-.94-2.06-.94 2.06-2.06.94z\"/><path d=\"M17.41 7.96l-1.37-1.37c-.4-.4-.92-.59-1.43-.59-.52 0-1.04.2-1.43.59L10.3 9.45l-7.72 7.72c-.78.78-.78 2.05 0 2.83L4 21.41c.39.39.9.59 1.41.59.51 0 1.02-.2 1.41-.59l7.78-7.78 2.81-2.81c.8-.78.8-2.07 0-2.86zM5.41 20L4 18.59l7.72-7.72 1.47 1.35L5.41 20z\"/>\n",
              "  </svg>\n",
              "      </button>\n",
              "      \n",
              "  <style>\n",
              "    .colab-df-container {\n",
              "      display:flex;\n",
              "      flex-wrap:wrap;\n",
              "      gap: 12px;\n",
              "    }\n",
              "\n",
              "    .colab-df-convert {\n",
              "      background-color: #E8F0FE;\n",
              "      border: none;\n",
              "      border-radius: 50%;\n",
              "      cursor: pointer;\n",
              "      display: none;\n",
              "      fill: #1967D2;\n",
              "      height: 32px;\n",
              "      padding: 0 0 0 0;\n",
              "      width: 32px;\n",
              "    }\n",
              "\n",
              "    .colab-df-convert:hover {\n",
              "      background-color: #E2EBFA;\n",
              "      box-shadow: 0px 1px 2px rgba(60, 64, 67, 0.3), 0px 1px 3px 1px rgba(60, 64, 67, 0.15);\n",
              "      fill: #174EA6;\n",
              "    }\n",
              "\n",
              "    [theme=dark] .colab-df-convert {\n",
              "      background-color: #3B4455;\n",
              "      fill: #D2E3FC;\n",
              "    }\n",
              "\n",
              "    [theme=dark] .colab-df-convert:hover {\n",
              "      background-color: #434B5C;\n",
              "      box-shadow: 0px 1px 3px 1px rgba(0, 0, 0, 0.15);\n",
              "      filter: drop-shadow(0px 1px 2px rgba(0, 0, 0, 0.3));\n",
              "      fill: #FFFFFF;\n",
              "    }\n",
              "  </style>\n",
              "\n",
              "      <script>\n",
              "        const buttonEl =\n",
              "          document.querySelector('#df-2f157b8c-a3d2-428c-9297-103182d1a01a button.colab-df-convert');\n",
              "        buttonEl.style.display =\n",
              "          google.colab.kernel.accessAllowed ? 'block' : 'none';\n",
              "\n",
              "        async function convertToInteractive(key) {\n",
              "          const element = document.querySelector('#df-2f157b8c-a3d2-428c-9297-103182d1a01a');\n",
              "          const dataTable =\n",
              "            await google.colab.kernel.invokeFunction('convertToInteractive',\n",
              "                                                     [key], {});\n",
              "          if (!dataTable) return;\n",
              "\n",
              "          const docLinkHtml = 'Like what you see? Visit the ' +\n",
              "            '<a target=\"_blank\" href=https://colab.research.google.com/notebooks/data_table.ipynb>data table notebook</a>'\n",
              "            + ' to learn more about interactive tables.';\n",
              "          element.innerHTML = '';\n",
              "          dataTable['output_type'] = 'display_data';\n",
              "          await google.colab.output.renderOutput(dataTable, element);\n",
              "          const docLink = document.createElement('div');\n",
              "          docLink.innerHTML = docLinkHtml;\n",
              "          element.appendChild(docLink);\n",
              "        }\n",
              "      </script>\n",
              "    </div>\n",
              "  </div>\n",
              "  "
            ],
            "text/plain": [
              "   density    pH  sulphates   type\n",
              "0   1.0010  3.00       0.45  white\n",
              "1   0.9940  3.30       0.49  white\n",
              "2   0.9951  3.26       0.44  white\n",
              "3   0.9956  3.19       0.40  white\n",
              "4   0.9956  3.19       0.40  white"
            ]
          },
          "execution_count": 119,
          "metadata": {},
          "output_type": "execute_result"
        }
      ],
      "source": [
        "ulazi.append(izlaz)\n",
        "data = dataset.iloc[:,ulazi]\n",
        "data.head()"
      ]
    },
    {
      "cell_type": "markdown",
      "metadata": {
        "id": "riWYMZfi27La"
      },
      "source": [
        "# Analiza podataka"
      ]
    },
    {
      "cell_type": "markdown",
      "metadata": {
        "id": "Xhm_QvuA3Gcg"
      },
      "source": [
        "Pre svega, proverimo da li naš skup podataka ima nedostajuće vrednosti."
      ]
    },
    {
      "cell_type": "code",
      "execution_count": 120,
      "metadata": {
        "colab": {
          "base_uri": "https://localhost:8080/"
        },
        "id": "L-fs332Y7Z6A",
        "outputId": "4d0914cb-29ef-4f02-9dd9-85b31219747b"
      },
      "outputs": [
        {
          "data": {
            "text/plain": [
              "density      0\n",
              "pH           9\n",
              "sulphates    4\n",
              "type         0\n",
              "dtype: int64"
            ]
          },
          "execution_count": 120,
          "metadata": {},
          "output_type": "execute_result"
        }
      ],
      "source": [
        "data.isna().sum()"
      ]
    },
    {
      "cell_type": "markdown",
      "metadata": {
        "id": "BVUQYt-X3L3e"
      },
      "source": [
        "Pozivajući funkciju info() možemo saznati nešto više o našim podacima. Jedan bitan podatak je i tip svakog atributa koji je označen kolonom Dtype."
      ]
    },
    {
      "cell_type": "code",
      "execution_count": 121,
      "metadata": {
        "colab": {
          "base_uri": "https://localhost:8080/"
        },
        "id": "rXuCDEiL73Kd",
        "outputId": "6ad25623-16f0-4d17-b599-984d4e0f32ad"
      },
      "outputs": [
        {
          "name": "stdout",
          "output_type": "stream",
          "text": [
            "<class 'pandas.core.frame.DataFrame'>\n",
            "RangeIndex: 6497 entries, 0 to 6496\n",
            "Data columns (total 4 columns):\n",
            " #   Column     Non-Null Count  Dtype  \n",
            "---  ------     --------------  -----  \n",
            " 0   density    6497 non-null   float64\n",
            " 1   pH         6488 non-null   float64\n",
            " 2   sulphates  6493 non-null   float64\n",
            " 3   type       6497 non-null   object \n",
            "dtypes: float64(3), object(1)\n",
            "memory usage: 203.2+ KB\n"
          ]
        }
      ],
      "source": [
        "data.info()"
      ]
    },
    {
      "cell_type": "markdown",
      "metadata": {
        "id": "7EaTv6F23R8h"
      },
      "source": [
        "Tipove podataka po kolonama možemo izdvojiti u niz sledećom komandom"
      ]
    },
    {
      "cell_type": "code",
      "execution_count": 122,
      "metadata": {
        "colab": {
          "base_uri": "https://localhost:8080/"
        },
        "id": "jAequYYg75qg",
        "outputId": "44dfcaab-0f62-4b6c-9f12-698b125cf4cb"
      },
      "outputs": [
        {
          "name": "stdout",
          "output_type": "stream",
          "text": [
            "density      float64\n",
            "pH           float64\n",
            "sulphates    float64\n",
            "type          object\n",
            "dtype: object\n"
          ]
        }
      ],
      "source": [
        "tipovi = data.dtypes\n",
        "print(tipovi)"
      ]
    },
    {
      "cell_type": "markdown",
      "metadata": {
        "id": "ezAzSToP3xTu"
      },
      "source": [
        "Analizirajmo malo naš skup podataka. Funkcija describe() daje neke informacije u kolonama, kao što su srednja vrednost, standardno odstupanje, minimum,maksimum itd."
      ]
    },
    {
      "cell_type": "code",
      "execution_count": 123,
      "metadata": {
        "colab": {
          "base_uri": "https://localhost:8080/",
          "height": 300
        },
        "id": "28TFufT_3qgn",
        "outputId": "fdec0d1d-3b4d-4894-eb45-a46d4d1289ac"
      },
      "outputs": [
        {
          "data": {
            "text/html": [
              "\n",
              "  <div id=\"df-ff8c8ab6-67f2-4d74-8e39-041c0c4946f9\">\n",
              "    <div class=\"colab-df-container\">\n",
              "      <div>\n",
              "<style scoped>\n",
              "    .dataframe tbody tr th:only-of-type {\n",
              "        vertical-align: middle;\n",
              "    }\n",
              "\n",
              "    .dataframe tbody tr th {\n",
              "        vertical-align: top;\n",
              "    }\n",
              "\n",
              "    .dataframe thead th {\n",
              "        text-align: right;\n",
              "    }\n",
              "</style>\n",
              "<table border=\"1\" class=\"dataframe\">\n",
              "  <thead>\n",
              "    <tr style=\"text-align: right;\">\n",
              "      <th></th>\n",
              "      <th>density</th>\n",
              "      <th>pH</th>\n",
              "      <th>sulphates</th>\n",
              "    </tr>\n",
              "  </thead>\n",
              "  <tbody>\n",
              "    <tr>\n",
              "      <th>count</th>\n",
              "      <td>6497.000000</td>\n",
              "      <td>6488.000000</td>\n",
              "      <td>6493.000000</td>\n",
              "    </tr>\n",
              "    <tr>\n",
              "      <th>mean</th>\n",
              "      <td>0.994697</td>\n",
              "      <td>3.218395</td>\n",
              "      <td>0.531215</td>\n",
              "    </tr>\n",
              "    <tr>\n",
              "      <th>std</th>\n",
              "      <td>0.002999</td>\n",
              "      <td>0.160748</td>\n",
              "      <td>0.148814</td>\n",
              "    </tr>\n",
              "    <tr>\n",
              "      <th>min</th>\n",
              "      <td>0.987110</td>\n",
              "      <td>2.720000</td>\n",
              "      <td>0.220000</td>\n",
              "    </tr>\n",
              "    <tr>\n",
              "      <th>25%</th>\n",
              "      <td>0.992340</td>\n",
              "      <td>3.110000</td>\n",
              "      <td>0.430000</td>\n",
              "    </tr>\n",
              "    <tr>\n",
              "      <th>50%</th>\n",
              "      <td>0.994890</td>\n",
              "      <td>3.210000</td>\n",
              "      <td>0.510000</td>\n",
              "    </tr>\n",
              "    <tr>\n",
              "      <th>75%</th>\n",
              "      <td>0.996990</td>\n",
              "      <td>3.320000</td>\n",
              "      <td>0.600000</td>\n",
              "    </tr>\n",
              "    <tr>\n",
              "      <th>max</th>\n",
              "      <td>1.038980</td>\n",
              "      <td>4.010000</td>\n",
              "      <td>2.000000</td>\n",
              "    </tr>\n",
              "  </tbody>\n",
              "</table>\n",
              "</div>\n",
              "      <button class=\"colab-df-convert\" onclick=\"convertToInteractive('df-ff8c8ab6-67f2-4d74-8e39-041c0c4946f9')\"\n",
              "              title=\"Convert this dataframe to an interactive table.\"\n",
              "              style=\"display:none;\">\n",
              "        \n",
              "  <svg xmlns=\"http://www.w3.org/2000/svg\" height=\"24px\"viewBox=\"0 0 24 24\"\n",
              "       width=\"24px\">\n",
              "    <path d=\"M0 0h24v24H0V0z\" fill=\"none\"/>\n",
              "    <path d=\"M18.56 5.44l.94 2.06.94-2.06 2.06-.94-2.06-.94-.94-2.06-.94 2.06-2.06.94zm-11 1L8.5 8.5l.94-2.06 2.06-.94-2.06-.94L8.5 2.5l-.94 2.06-2.06.94zm10 10l.94 2.06.94-2.06 2.06-.94-2.06-.94-.94-2.06-.94 2.06-2.06.94z\"/><path d=\"M17.41 7.96l-1.37-1.37c-.4-.4-.92-.59-1.43-.59-.52 0-1.04.2-1.43.59L10.3 9.45l-7.72 7.72c-.78.78-.78 2.05 0 2.83L4 21.41c.39.39.9.59 1.41.59.51 0 1.02-.2 1.41-.59l7.78-7.78 2.81-2.81c.8-.78.8-2.07 0-2.86zM5.41 20L4 18.59l7.72-7.72 1.47 1.35L5.41 20z\"/>\n",
              "  </svg>\n",
              "      </button>\n",
              "      \n",
              "  <style>\n",
              "    .colab-df-container {\n",
              "      display:flex;\n",
              "      flex-wrap:wrap;\n",
              "      gap: 12px;\n",
              "    }\n",
              "\n",
              "    .colab-df-convert {\n",
              "      background-color: #E8F0FE;\n",
              "      border: none;\n",
              "      border-radius: 50%;\n",
              "      cursor: pointer;\n",
              "      display: none;\n",
              "      fill: #1967D2;\n",
              "      height: 32px;\n",
              "      padding: 0 0 0 0;\n",
              "      width: 32px;\n",
              "    }\n",
              "\n",
              "    .colab-df-convert:hover {\n",
              "      background-color: #E2EBFA;\n",
              "      box-shadow: 0px 1px 2px rgba(60, 64, 67, 0.3), 0px 1px 3px 1px rgba(60, 64, 67, 0.15);\n",
              "      fill: #174EA6;\n",
              "    }\n",
              "\n",
              "    [theme=dark] .colab-df-convert {\n",
              "      background-color: #3B4455;\n",
              "      fill: #D2E3FC;\n",
              "    }\n",
              "\n",
              "    [theme=dark] .colab-df-convert:hover {\n",
              "      background-color: #434B5C;\n",
              "      box-shadow: 0px 1px 3px 1px rgba(0, 0, 0, 0.15);\n",
              "      filter: drop-shadow(0px 1px 2px rgba(0, 0, 0, 0.3));\n",
              "      fill: #FFFFFF;\n",
              "    }\n",
              "  </style>\n",
              "\n",
              "      <script>\n",
              "        const buttonEl =\n",
              "          document.querySelector('#df-ff8c8ab6-67f2-4d74-8e39-041c0c4946f9 button.colab-df-convert');\n",
              "        buttonEl.style.display =\n",
              "          google.colab.kernel.accessAllowed ? 'block' : 'none';\n",
              "\n",
              "        async function convertToInteractive(key) {\n",
              "          const element = document.querySelector('#df-ff8c8ab6-67f2-4d74-8e39-041c0c4946f9');\n",
              "          const dataTable =\n",
              "            await google.colab.kernel.invokeFunction('convertToInteractive',\n",
              "                                                     [key], {});\n",
              "          if (!dataTable) return;\n",
              "\n",
              "          const docLinkHtml = 'Like what you see? Visit the ' +\n",
              "            '<a target=\"_blank\" href=https://colab.research.google.com/notebooks/data_table.ipynb>data table notebook</a>'\n",
              "            + ' to learn more about interactive tables.';\n",
              "          element.innerHTML = '';\n",
              "          dataTable['output_type'] = 'display_data';\n",
              "          await google.colab.output.renderOutput(dataTable, element);\n",
              "          const docLink = document.createElement('div');\n",
              "          docLink.innerHTML = docLinkHtml;\n",
              "          element.appendChild(docLink);\n",
              "        }\n",
              "      </script>\n",
              "    </div>\n",
              "  </div>\n",
              "  "
            ],
            "text/plain": [
              "           density           pH    sulphates\n",
              "count  6497.000000  6488.000000  6493.000000\n",
              "mean      0.994697     3.218395     0.531215\n",
              "std       0.002999     0.160748     0.148814\n",
              "min       0.987110     2.720000     0.220000\n",
              "25%       0.992340     3.110000     0.430000\n",
              "50%       0.994890     3.210000     0.510000\n",
              "75%       0.996990     3.320000     0.600000\n",
              "max       1.038980     4.010000     2.000000"
            ]
          },
          "execution_count": 123,
          "metadata": {},
          "output_type": "execute_result"
        }
      ],
      "source": [
        "data.describe()"
      ]
    },
    {
      "cell_type": "markdown",
      "metadata": {
        "id": "vIIAgvoA33yX"
      },
      "source": [
        "Ukoliko pozovemo data.shape dobićemo iz koliko vrsta i kolona se sastoji naš \n",
        "skup podataka"
      ]
    },
    {
      "cell_type": "code",
      "execution_count": 124,
      "metadata": {
        "colab": {
          "base_uri": "https://localhost:8080/"
        },
        "id": "DaXUuRN535nh",
        "outputId": "9f44e4e3-cfae-4072-d098-072a68141b43"
      },
      "outputs": [
        {
          "name": "stdout",
          "output_type": "stream",
          "text": [
            "(6497, 4)\n"
          ]
        }
      ],
      "source": [
        "shapes=data.shape\n",
        "print(shapes)"
      ]
    },
    {
      "cell_type": "markdown",
      "metadata": {
        "id": "rwBvgR8M3-L8"
      },
      "source": [
        "# Enkodiranje i obrada nedostajućih vrednosti"
      ]
    },
    {
      "cell_type": "markdown",
      "metadata": {
        "id": "M4B7MlwF4Dan"
      },
      "source": [
        "## Definisanje potrebnih funkcija"
      ]
    },
    {
      "cell_type": "markdown",
      "metadata": {
        "id": "QI9tuIeC4Zr7"
      },
      "source": [
        "Funkcija **LabelEncoding** kao argumente prima niz tipova podataka po kolonama i ceoskup podataka sa kojima radimo. Ona svaku kategorijsku promenljivu u skupo podataka enkodira pomocu LabelEncodera. \n",
        "\n",
        "Povratna vrednost je skup podataka sa enkodiranim kategorijskim kolonama."
      ]
    },
    {
      "cell_type": "code",
      "execution_count": 125,
      "metadata": {
        "id": "rQgSu1Jp_poD"
      },
      "outputs": [],
      "source": [
        "\n",
        "def LabelEncoding(tipovi,data):\n",
        "  i=0\n",
        "  n=len(tipovi)\n",
        "  for x in tipovi:\n",
        "    if x == \"object\":\n",
        "      label_encoder = preprocessing.LabelEncoder()\n",
        "      naziv=data.iloc[:,i].name\n",
        "      naziv1=naziv+\"Label\"\n",
        "      data[naziv1]=label_encoder.fit_transform(data[naziv])\n",
        "      del data[naziv]\n",
        "    i+=1\n",
        "  return data\n"
      ]
    },
    {
      "cell_type": "markdown",
      "metadata": {
        "id": "y-3t1ruV4rJY"
      },
      "source": [
        "Funkcija **OneHotEncoding** kao argumente prima niz tipova podataka po kolonama i ceoskup podataka sa kojima radimo. Ona svaku kategorijsku promenljivu u skupo podataka enkodira pomocu One hot enkodera.\n",
        "\n",
        "Povratna vrednost je skup podataka sa enkodiranim kategorijskim kolonama."
      ]
    },
    {
      "cell_type": "code",
      "execution_count": 126,
      "metadata": {
        "id": "Vzly0duUecs2"
      },
      "outputs": [],
      "source": [
        "def OneHotEncoding(tipovi,data):\n",
        "  i=0\n",
        "  n=len(tipovi)\n",
        "  for x in tipovi:\n",
        "    if x == \"object\":\n",
        "      naziv=data.iloc[:,i].name\n",
        "      data=pd.get_dummies(data, columns=[naziv],prefix=[naziv])\n",
        "    i+=1\n",
        "  return data"
      ]
    },
    {
      "cell_type": "markdown",
      "metadata": {
        "id": "4V1_3js-5DaE"
      },
      "source": [
        "Funkcija **srediNumericke** kao argumente prima skup podataka, ceo broj (1,2,3...) koji predstavlja kod za određivanje načina sređivanja nedostajućih numeričkih vrednosti, kao i redni broj kolone koja se obrađuje. \n",
        "\n",
        "Ukoliko argument **kod** ima vrednost 1, nedostajuće vrednosti će se popuniti srednjom vrednošću kolone, 2 - popuniće se medijanom, 3-vršiće se brisanje nedostajučih vrednosti, vrednost 4 znači da je korisnik na front-u odabrao sređivanje nedostajućih vrednosti po default-u. U ovom slučaju je default-na vrednost brisanje, što je moguće promeniti.\n",
        "\n",
        "Treba napomenuti da se ovde ne vrši klasično brisanje vrsta koje sadrže NaN vrednosti, nego se selektuju sve kolone koje ne sadrže NaN vrednosti. Funkcija dropna() bi obrisala iz celog dataset-a nedostajuće vrednosti i za kategorijske i za numeričke kolone, pa nije pogodna za korišćenje u ovom kontekstu.\n",
        "\n",
        "Povratna vrednost je izmenjen skup podataka."
      ]
    },
    {
      "cell_type": "code",
      "execution_count": 127,
      "metadata": {
        "id": "zA5-ia1GnAgI"
      },
      "outputs": [],
      "source": [
        "\n",
        "def srediNumericke(data,kod,i):\n",
        "    naziv=data.iloc[:,i].name\n",
        "    if kod == 1:\n",
        "      vrednost=data[naziv].mean()\n",
        "      data[naziv].fillna(vrednost, inplace=True)\n",
        "    elif kod==2:\n",
        "      vrednost=data[naziv].median()\n",
        "      data[naziv].fillna(vrednost,inplace=True)\n",
        "    elif kod == 3:\n",
        "      data = data.loc[data[naziv].notnull()]\n",
        "    elif kod == 4:\n",
        "      data = data.loc[data[naziv].notnull()]\n",
        "   \n",
        "    return data"
      ]
    },
    {
      "cell_type": "markdown",
      "metadata": {
        "id": "1Dzr5E-o7rPa"
      },
      "source": [
        "Funkcija **srediKategorijske** kao argumente prima skup podataka, ceo broj (1,2,3...) koji predstavlja kod za određivanje načina sređivanja nedostajućih kategorijskih vrednosti, kao i redni broj kolone koja se obrađuje. \n",
        "\n",
        "Ukoliko argument **kod** ima vrednost 1, nedostajuće vrednosti će se popuniti  najmanje ponovljenom vrednošću kolone, 2 - popuniće se najučestalijom, 3-vršiće se brisanje nedostajučih vrednosti, vrednost 4 znači da je korisnik na front-u odabrao sređivanje nedostajućih vrednosti po default-u. U ovom slučaju je default-na vrednost brisanje, što je moguće promeniti.\n",
        "\n",
        "\n",
        "Treba napomenuti da se ovde ne vrši klasično brisanje vrsta koje sadrže NaN vrednosti, nego se selektuju sve kolone koje ne sadrže NaN vrednosti. Funkcija dropna() bi obrisala iz celog dataset-a nedostajuće vrednosti i za kategorijske i za numeričke kolone, pa nije pogodna za korišćenje u ovom kontekstu.\n",
        "\n",
        "Povratna vrednost je izmenjen skup podataka."
      ]
    },
    {
      "cell_type": "code",
      "execution_count": 128,
      "metadata": {
        "id": "S8T01FCfA2JN"
      },
      "outputs": [],
      "source": [
        "\n",
        "def srediKategorijske(data,kod,i):\n",
        "  naziv=data.iloc[:,i].name\n",
        "  items = data[naziv].value_counts(sort=False)\n",
        "  if kod==1:\n",
        "    item = items.loc[[items.idxmin()]]\n",
        "    value, count = item.index[0], item.iat[0]\n",
        "    data[naziv].fillna(value, inplace=True)\n",
        "  elif kod== 2:\n",
        "    item = items.loc[[items.idxmax()]]\n",
        "    value, count = item.index[0], item.iat[0]\n",
        "    data[naziv].fillna(value, inplace=True)\n",
        "  elif kod==3:\n",
        "    data = data.loc[data[naziv].notnull()]\n",
        "  elif kod==4:\n",
        "    data = data.loc[data[naziv].notnull()]\n",
        "  return data\n"
      ]
    },
    {
      "cell_type": "markdown",
      "metadata": {
        "id": "aWbNHpvI8gMK"
      },
      "source": [
        "Sledeća funkcija kao argumente prima dataset, kao i dve celobrojne vrednosti, čiji je značaj objasnjen u prethodnim funkcijama, pojedinačno. Vraća izmenjen skup podataka.\n",
        "\n",
        "U zavisnosti od toga da li su kolone numeričkog ili kategorijskog tipa, poziva odgovarajuće funkcije za sređivanje nedostajućih vrednosti.\n",
        "\n"
      ]
    },
    {
      "cell_type": "code",
      "execution_count": 129,
      "metadata": {
        "id": "vvHinyDOCiGX"
      },
      "outputs": [],
      "source": [
        "def srediNedostajuce(data,kod1,kod2):\n",
        "  i=0\n",
        "  tipovi = data.dtypes\n",
        "  n=len(tipovi)\n",
        "  for x in tipovi:\n",
        "    if x == \"object\":\n",
        "      data=srediKategorijske(data,kod1,i)\n",
        "    else:\n",
        "      data=srediNumericke(data,kod2,i)\n",
        "      1\n",
        "    i+=1\n",
        "  return data"
      ]
    },
    {
      "cell_type": "markdown",
      "metadata": {
        "id": "jM5R6Ch7AGDx"
      },
      "source": [
        "## Obrada nedostajućih vrednosti"
      ]
    },
    {
      "cell_type": "markdown",
      "metadata": {
        "id": "oMClFtSoAYEM"
      },
      "source": [
        "Da bismo na pokaznom primeru proverili da li funkcije vrše predviđeni posao, kopirajmo u novu promenljivu ceo dataset.\n",
        "\n",
        "Proverimo da li postoje nedostajuće vrednosti."
      ]
    },
    {
      "cell_type": "code",
      "execution_count": 130,
      "metadata": {
        "colab": {
          "base_uri": "https://localhost:8080/"
        },
        "id": "IthsS88f_EQv",
        "outputId": "7e5d0f7c-77d0-4ef4-8842-672bed0b850e"
      },
      "outputs": [
        {
          "data": {
            "text/plain": [
              "density      0\n",
              "pH           9\n",
              "sulphates    4\n",
              "type         0\n",
              "dtype: int64"
            ]
          },
          "execution_count": 130,
          "metadata": {},
          "output_type": "execute_result"
        }
      ],
      "source": [
        "data1=data.copy()\n",
        "data1.isna().sum()"
      ]
    },
    {
      "cell_type": "markdown",
      "metadata": {
        "id": "3AHLlq2wAo0s"
      },
      "source": [
        "S obzirom da ne postoje nedostajuće vrednosti u koloni kategorijskog tipa, postavimo u nekoj random odabranoj vrsti, NaN vrednost za tu kolonu."
      ]
    },
    {
      "cell_type": "markdown",
      "metadata": {
        "id": "5QJ9no8PFX4d"
      },
      "source": [
        "**Ovaj deo koda treba zanemariti pri univerzalnoj upotrebi projekta za bilo koji dataset. Ovde služi samo kao provera funkcionalnosti funkcije za brisanje nedostajućih vrednosti kategorijskog tipa**"
      ]
    },
    {
      "cell_type": "code",
      "execution_count": 145,
      "metadata": {
        "id": "GtFpHoHG_OG2"
      },
      "outputs": [],
      "source": [
        "data1.iloc[224,3]=np.NaN"
      ]
    },
    {
      "cell_type": "markdown",
      "metadata": {
        "id": "eU00OAOsA69G"
      },
      "source": [
        "Zaista, u vrsti sa rednim brojem 224 je nedostajuća vrednosti za kolonu **type**"
      ]
    },
    {
      "cell_type": "code",
      "execution_count": 146,
      "metadata": {
        "colab": {
          "base_uri": "https://localhost:8080/"
        },
        "id": "F7blxQMP_Xr9",
        "outputId": "48b1de1c-043c-43d7-fc8e-6797937858ab"
      },
      "outputs": [
        {
          "data": {
            "text/plain": [
              "density      0.9929\n",
              "pH           3.3900\n",
              "sulphates       NaN\n",
              "typeLabel       NaN\n",
              "Name: 224, dtype: float64"
            ]
          },
          "execution_count": 146,
          "metadata": {},
          "output_type": "execute_result"
        }
      ],
      "source": [
        "data1.iloc[224,:]"
      ]
    },
    {
      "cell_type": "markdown",
      "metadata": {
        "id": "rRtOEYWzBPVd"
      },
      "source": [
        "Recimo da želimo da na mestu nedostajućih vrednosti numeričkog tipa postavimo srednju vrednost kolone, a kod kategorijskih najmanje ponovljenu vrednost. Točemo uradili na sledeći način."
      ]
    },
    {
      "cell_type": "code",
      "execution_count": 147,
      "metadata": {
        "id": "e9xN2mXTKfzz"
      },
      "outputs": [],
      "source": [
        "nedostajuceKat=1\n",
        "nedostajuceNum=1\n",
        "data1=srediNedostajuce(data1,nedostajuceKat,nedostajuceNum)"
      ]
    },
    {
      "cell_type": "markdown",
      "metadata": {
        "id": "8IvGJu9RB4Hd"
      },
      "source": [
        "U promenljivoj **shapes** su sačuvane dimenzije početnog skupa podataka. Uradićemo upoređivanje sa dimenzijom posle izmene i vidimo da je broj vrsta i kolona isti. Dakle, nije izvršeno nikakvo brisanje."
      ]
    },
    {
      "cell_type": "code",
      "execution_count": 148,
      "metadata": {
        "colab": {
          "base_uri": "https://localhost:8080/"
        },
        "id": "t-dpIOSeB5vY",
        "outputId": "008a4674-17c7-461a-b869-cb5f2d984ade"
      },
      "outputs": [
        {
          "name": "stdout",
          "output_type": "stream",
          "text": [
            "(6497, 4)\n"
          ]
        }
      ],
      "source": [
        "print(shapes)"
      ]
    },
    {
      "cell_type": "code",
      "execution_count": 149,
      "metadata": {
        "colab": {
          "base_uri": "https://localhost:8080/"
        },
        "id": "bHUoS-BtsAgj",
        "outputId": "109d00e9-4f65-48aa-97c9-2d6da040033a"
      },
      "outputs": [
        {
          "data": {
            "text/plain": [
              "(6497, 4)"
            ]
          },
          "execution_count": 149,
          "metadata": {},
          "output_type": "execute_result"
        }
      ],
      "source": [
        "data1.shape"
      ]
    },
    {
      "cell_type": "markdown",
      "metadata": {
        "id": "Px4IHtd6CTnQ"
      },
      "source": [
        "Pozivom sledećih funkcija vidimo da više ne postoje nedostajuće vrednosti u našem skupu podataka."
      ]
    },
    {
      "cell_type": "code",
      "execution_count": 150,
      "metadata": {
        "colab": {
          "base_uri": "https://localhost:8080/"
        },
        "id": "NbP5RwKXKGN9",
        "outputId": "fb0c286a-fa91-48cf-de41-ec4e7d8834a1"
      },
      "outputs": [
        {
          "data": {
            "text/plain": [
              "density      0\n",
              "pH           0\n",
              "sulphates    0\n",
              "typeLabel    0\n",
              "dtype: int64"
            ]
          },
          "execution_count": 150,
          "metadata": {},
          "output_type": "execute_result"
        }
      ],
      "source": [
        "data1.isna().sum()"
      ]
    },
    {
      "cell_type": "markdown",
      "metadata": {
        "id": "cp05AyPTCfe3"
      },
      "source": [
        "Da bismo na pokaznom primeru proverili da li funkcije vrše predviđeni posao, kopirajmo u novu promenljivu ceo dataset.\n",
        "\n",
        "Proverimo da li postoje nedostajuće vrednosti."
      ]
    },
    {
      "cell_type": "code",
      "execution_count": 151,
      "metadata": {
        "id": "tZWLj-hO_rya"
      },
      "outputs": [],
      "source": [
        "data2=data.copy()"
      ]
    },
    {
      "cell_type": "code",
      "execution_count": 152,
      "metadata": {
        "colab": {
          "base_uri": "https://localhost:8080/"
        },
        "id": "uiC8SqE3_7eC",
        "outputId": "01badc10-8b43-45b7-ab7a-db77d044f3d4"
      },
      "outputs": [
        {
          "data": {
            "text/plain": [
              "(6497, 4)"
            ]
          },
          "execution_count": 152,
          "metadata": {},
          "output_type": "execute_result"
        }
      ],
      "source": [
        "data2.shape"
      ]
    },
    {
      "cell_type": "code",
      "execution_count": 153,
      "metadata": {
        "colab": {
          "base_uri": "https://localhost:8080/"
        },
        "id": "qPutSaat_vtM",
        "outputId": "a5e780e7-0fa4-49fe-8660-1d1430bcd31f"
      },
      "outputs": [
        {
          "data": {
            "text/plain": [
              "density      0\n",
              "pH           9\n",
              "sulphates    4\n",
              "type         0\n",
              "dtype: int64"
            ]
          },
          "execution_count": 153,
          "metadata": {},
          "output_type": "execute_result"
        }
      ],
      "source": [
        "data2.isna().sum()"
      ]
    },
    {
      "cell_type": "markdown",
      "metadata": {
        "id": "SjPgP5gyCiTn"
      },
      "source": [
        "Sada želimo da obrišemo nedostajuće vrednosti iz skupa podataka."
      ]
    },
    {
      "cell_type": "code",
      "execution_count": 154,
      "metadata": {
        "id": "t1kxtovlCYU8"
      },
      "outputs": [],
      "source": [
        "nedostajuceKat=3\n",
        "nedostajuceNum=3\n",
        "data2=srediNedostajuce(data2,nedostajuceKat,nedostajuceNum)"
      ]
    },
    {
      "cell_type": "code",
      "execution_count": null,
      "metadata": {
        "id": "9k48VEUjCnyR"
      },
      "outputs": [],
      "source": [
        "data2.isna().sum()"
      ]
    },
    {
      "cell_type": "code",
      "execution_count": 155,
      "metadata": {
        "colab": {
          "base_uri": "https://localhost:8080/"
        },
        "id": "EujPFtyQCwCd",
        "outputId": "873b5ba1-053c-45d0-ddd1-2a4b19d62a4a"
      },
      "outputs": [
        {
          "name": "stdout",
          "output_type": "stream",
          "text": [
            "(6497, 4)\n"
          ]
        }
      ],
      "source": [
        "print(shapes)"
      ]
    },
    {
      "cell_type": "code",
      "execution_count": 156,
      "metadata": {
        "colab": {
          "base_uri": "https://localhost:8080/"
        },
        "id": "O75JhNncCYOX",
        "outputId": "6aaaecc7-e42a-4ea1-c048-d35dad3f78cb"
      },
      "outputs": [
        {
          "data": {
            "text/plain": [
              "(6484, 4)"
            ]
          },
          "execution_count": 156,
          "metadata": {},
          "output_type": "execute_result"
        }
      ],
      "source": [
        "data2.shape"
      ]
    },
    {
      "cell_type": "markdown",
      "metadata": {
        "id": "FZZH1duyCsv5"
      },
      "source": [
        "Zaista, broj vrsta se smanjio, a u skupu data2 ne postoje nedostajuće vrednosti."
      ]
    },
    {
      "cell_type": "markdown",
      "metadata": {
        "id": "M0OweRP6ALly"
      },
      "source": [
        "## Enkodiranje"
      ]
    },
    {
      "cell_type": "markdown",
      "metadata": {
        "id": "364J4Le3C5EQ"
      },
      "source": [
        "Prvi skup podataka ćemo enkodirati pomoću LabelEncodinga, pozivom odgovarajuće definisane funkcije.\n",
        "\n",
        "Ispisom prvih 5 vrsta pomoću funkcije head(), vidimo da naša funkcija ispravno funkcioniše."
      ]
    },
    {
      "cell_type": "code",
      "execution_count": 157,
      "metadata": {
        "colab": {
          "base_uri": "https://localhost:8080/",
          "height": 206
        },
        "id": "X-_tVRXgfPr4",
        "outputId": "16eb1e2f-a159-4790-e5b1-41453017e83f"
      },
      "outputs": [
        {
          "data": {
            "text/html": [
              "\n",
              "  <div id=\"df-acbae7f0-f497-48e9-99c5-28485d8a7acc\">\n",
              "    <div class=\"colab-df-container\">\n",
              "      <div>\n",
              "<style scoped>\n",
              "    .dataframe tbody tr th:only-of-type {\n",
              "        vertical-align: middle;\n",
              "    }\n",
              "\n",
              "    .dataframe tbody tr th {\n",
              "        vertical-align: top;\n",
              "    }\n",
              "\n",
              "    .dataframe thead th {\n",
              "        text-align: right;\n",
              "    }\n",
              "</style>\n",
              "<table border=\"1\" class=\"dataframe\">\n",
              "  <thead>\n",
              "    <tr style=\"text-align: right;\">\n",
              "      <th></th>\n",
              "      <th>density</th>\n",
              "      <th>pH</th>\n",
              "      <th>sulphates</th>\n",
              "      <th>typeLabelLabel</th>\n",
              "    </tr>\n",
              "  </thead>\n",
              "  <tbody>\n",
              "    <tr>\n",
              "      <th>0</th>\n",
              "      <td>1.0010</td>\n",
              "      <td>3.00</td>\n",
              "      <td>0.45</td>\n",
              "      <td>2</td>\n",
              "    </tr>\n",
              "    <tr>\n",
              "      <th>1</th>\n",
              "      <td>0.9940</td>\n",
              "      <td>3.30</td>\n",
              "      <td>0.49</td>\n",
              "      <td>2</td>\n",
              "    </tr>\n",
              "    <tr>\n",
              "      <th>2</th>\n",
              "      <td>0.9951</td>\n",
              "      <td>3.26</td>\n",
              "      <td>0.44</td>\n",
              "      <td>2</td>\n",
              "    </tr>\n",
              "    <tr>\n",
              "      <th>3</th>\n",
              "      <td>0.9956</td>\n",
              "      <td>3.19</td>\n",
              "      <td>0.40</td>\n",
              "      <td>2</td>\n",
              "    </tr>\n",
              "    <tr>\n",
              "      <th>4</th>\n",
              "      <td>0.9956</td>\n",
              "      <td>3.19</td>\n",
              "      <td>0.40</td>\n",
              "      <td>2</td>\n",
              "    </tr>\n",
              "  </tbody>\n",
              "</table>\n",
              "</div>\n",
              "      <button class=\"colab-df-convert\" onclick=\"convertToInteractive('df-acbae7f0-f497-48e9-99c5-28485d8a7acc')\"\n",
              "              title=\"Convert this dataframe to an interactive table.\"\n",
              "              style=\"display:none;\">\n",
              "        \n",
              "  <svg xmlns=\"http://www.w3.org/2000/svg\" height=\"24px\"viewBox=\"0 0 24 24\"\n",
              "       width=\"24px\">\n",
              "    <path d=\"M0 0h24v24H0V0z\" fill=\"none\"/>\n",
              "    <path d=\"M18.56 5.44l.94 2.06.94-2.06 2.06-.94-2.06-.94-.94-2.06-.94 2.06-2.06.94zm-11 1L8.5 8.5l.94-2.06 2.06-.94-2.06-.94L8.5 2.5l-.94 2.06-2.06.94zm10 10l.94 2.06.94-2.06 2.06-.94-2.06-.94-.94-2.06-.94 2.06-2.06.94z\"/><path d=\"M17.41 7.96l-1.37-1.37c-.4-.4-.92-.59-1.43-.59-.52 0-1.04.2-1.43.59L10.3 9.45l-7.72 7.72c-.78.78-.78 2.05 0 2.83L4 21.41c.39.39.9.59 1.41.59.51 0 1.02-.2 1.41-.59l7.78-7.78 2.81-2.81c.8-.78.8-2.07 0-2.86zM5.41 20L4 18.59l7.72-7.72 1.47 1.35L5.41 20z\"/>\n",
              "  </svg>\n",
              "      </button>\n",
              "      \n",
              "  <style>\n",
              "    .colab-df-container {\n",
              "      display:flex;\n",
              "      flex-wrap:wrap;\n",
              "      gap: 12px;\n",
              "    }\n",
              "\n",
              "    .colab-df-convert {\n",
              "      background-color: #E8F0FE;\n",
              "      border: none;\n",
              "      border-radius: 50%;\n",
              "      cursor: pointer;\n",
              "      display: none;\n",
              "      fill: #1967D2;\n",
              "      height: 32px;\n",
              "      padding: 0 0 0 0;\n",
              "      width: 32px;\n",
              "    }\n",
              "\n",
              "    .colab-df-convert:hover {\n",
              "      background-color: #E2EBFA;\n",
              "      box-shadow: 0px 1px 2px rgba(60, 64, 67, 0.3), 0px 1px 3px 1px rgba(60, 64, 67, 0.15);\n",
              "      fill: #174EA6;\n",
              "    }\n",
              "\n",
              "    [theme=dark] .colab-df-convert {\n",
              "      background-color: #3B4455;\n",
              "      fill: #D2E3FC;\n",
              "    }\n",
              "\n",
              "    [theme=dark] .colab-df-convert:hover {\n",
              "      background-color: #434B5C;\n",
              "      box-shadow: 0px 1px 3px 1px rgba(0, 0, 0, 0.15);\n",
              "      filter: drop-shadow(0px 1px 2px rgba(0, 0, 0, 0.3));\n",
              "      fill: #FFFFFF;\n",
              "    }\n",
              "  </style>\n",
              "\n",
              "      <script>\n",
              "        const buttonEl =\n",
              "          document.querySelector('#df-acbae7f0-f497-48e9-99c5-28485d8a7acc button.colab-df-convert');\n",
              "        buttonEl.style.display =\n",
              "          google.colab.kernel.accessAllowed ? 'block' : 'none';\n",
              "\n",
              "        async function convertToInteractive(key) {\n",
              "          const element = document.querySelector('#df-acbae7f0-f497-48e9-99c5-28485d8a7acc');\n",
              "          const dataTable =\n",
              "            await google.colab.kernel.invokeFunction('convertToInteractive',\n",
              "                                                     [key], {});\n",
              "          if (!dataTable) return;\n",
              "\n",
              "          const docLinkHtml = 'Like what you see? Visit the ' +\n",
              "            '<a target=\"_blank\" href=https://colab.research.google.com/notebooks/data_table.ipynb>data table notebook</a>'\n",
              "            + ' to learn more about interactive tables.';\n",
              "          element.innerHTML = '';\n",
              "          dataTable['output_type'] = 'display_data';\n",
              "          await google.colab.output.renderOutput(dataTable, element);\n",
              "          const docLink = document.createElement('div');\n",
              "          docLink.innerHTML = docLinkHtml;\n",
              "          element.appendChild(docLink);\n",
              "        }\n",
              "      </script>\n",
              "    </div>\n",
              "  </div>\n",
              "  "
            ],
            "text/plain": [
              "   density    pH  sulphates  typeLabelLabel\n",
              "0   1.0010  3.00       0.45               2\n",
              "1   0.9940  3.30       0.49               2\n",
              "2   0.9951  3.26       0.44               2\n",
              "3   0.9956  3.19       0.40               2\n",
              "4   0.9956  3.19       0.40               2"
            ]
          },
          "execution_count": 157,
          "metadata": {},
          "output_type": "execute_result"
        }
      ],
      "source": [
        "data1=LabelEncoding(tipovi,data1)\n",
        "data1.head()"
      ]
    },
    {
      "cell_type": "markdown",
      "metadata": {
        "id": "XRydA5_gDMS0"
      },
      "source": [
        "Drugi skup podataka ćemo enkodirati pomoću One hot encodinga, pozivom odgovarajuće definisane funkcije.\n",
        "\n",
        "Ispisom prvih 5 vrsta pomoću funkcije head(), vidimo da naša funkcija ispravno funkcioniše."
      ]
    },
    {
      "cell_type": "code",
      "execution_count": 158,
      "metadata": {
        "colab": {
          "base_uri": "https://localhost:8080/",
          "height": 206
        },
        "id": "r9xQCzcPe8zD",
        "outputId": "3ad68621-9704-47b8-8203-d5d0dd62a9dd"
      },
      "outputs": [
        {
          "data": {
            "text/html": [
              "\n",
              "  <div id=\"df-5a9c692d-5829-42f5-8672-c9ec79a9baeb\">\n",
              "    <div class=\"colab-df-container\">\n",
              "      <div>\n",
              "<style scoped>\n",
              "    .dataframe tbody tr th:only-of-type {\n",
              "        vertical-align: middle;\n",
              "    }\n",
              "\n",
              "    .dataframe tbody tr th {\n",
              "        vertical-align: top;\n",
              "    }\n",
              "\n",
              "    .dataframe thead th {\n",
              "        text-align: right;\n",
              "    }\n",
              "</style>\n",
              "<table border=\"1\" class=\"dataframe\">\n",
              "  <thead>\n",
              "    <tr style=\"text-align: right;\">\n",
              "      <th></th>\n",
              "      <th>density</th>\n",
              "      <th>pH</th>\n",
              "      <th>sulphates</th>\n",
              "      <th>type_red</th>\n",
              "      <th>type_white</th>\n",
              "    </tr>\n",
              "  </thead>\n",
              "  <tbody>\n",
              "    <tr>\n",
              "      <th>0</th>\n",
              "      <td>1.0010</td>\n",
              "      <td>3.00</td>\n",
              "      <td>0.45</td>\n",
              "      <td>0</td>\n",
              "      <td>1</td>\n",
              "    </tr>\n",
              "    <tr>\n",
              "      <th>1</th>\n",
              "      <td>0.9940</td>\n",
              "      <td>3.30</td>\n",
              "      <td>0.49</td>\n",
              "      <td>0</td>\n",
              "      <td>1</td>\n",
              "    </tr>\n",
              "    <tr>\n",
              "      <th>2</th>\n",
              "      <td>0.9951</td>\n",
              "      <td>3.26</td>\n",
              "      <td>0.44</td>\n",
              "      <td>0</td>\n",
              "      <td>1</td>\n",
              "    </tr>\n",
              "    <tr>\n",
              "      <th>3</th>\n",
              "      <td>0.9956</td>\n",
              "      <td>3.19</td>\n",
              "      <td>0.40</td>\n",
              "      <td>0</td>\n",
              "      <td>1</td>\n",
              "    </tr>\n",
              "    <tr>\n",
              "      <th>4</th>\n",
              "      <td>0.9956</td>\n",
              "      <td>3.19</td>\n",
              "      <td>0.40</td>\n",
              "      <td>0</td>\n",
              "      <td>1</td>\n",
              "    </tr>\n",
              "  </tbody>\n",
              "</table>\n",
              "</div>\n",
              "      <button class=\"colab-df-convert\" onclick=\"convertToInteractive('df-5a9c692d-5829-42f5-8672-c9ec79a9baeb')\"\n",
              "              title=\"Convert this dataframe to an interactive table.\"\n",
              "              style=\"display:none;\">\n",
              "        \n",
              "  <svg xmlns=\"http://www.w3.org/2000/svg\" height=\"24px\"viewBox=\"0 0 24 24\"\n",
              "       width=\"24px\">\n",
              "    <path d=\"M0 0h24v24H0V0z\" fill=\"none\"/>\n",
              "    <path d=\"M18.56 5.44l.94 2.06.94-2.06 2.06-.94-2.06-.94-.94-2.06-.94 2.06-2.06.94zm-11 1L8.5 8.5l.94-2.06 2.06-.94-2.06-.94L8.5 2.5l-.94 2.06-2.06.94zm10 10l.94 2.06.94-2.06 2.06-.94-2.06-.94-.94-2.06-.94 2.06-2.06.94z\"/><path d=\"M17.41 7.96l-1.37-1.37c-.4-.4-.92-.59-1.43-.59-.52 0-1.04.2-1.43.59L10.3 9.45l-7.72 7.72c-.78.78-.78 2.05 0 2.83L4 21.41c.39.39.9.59 1.41.59.51 0 1.02-.2 1.41-.59l7.78-7.78 2.81-2.81c.8-.78.8-2.07 0-2.86zM5.41 20L4 18.59l7.72-7.72 1.47 1.35L5.41 20z\"/>\n",
              "  </svg>\n",
              "      </button>\n",
              "      \n",
              "  <style>\n",
              "    .colab-df-container {\n",
              "      display:flex;\n",
              "      flex-wrap:wrap;\n",
              "      gap: 12px;\n",
              "    }\n",
              "\n",
              "    .colab-df-convert {\n",
              "      background-color: #E8F0FE;\n",
              "      border: none;\n",
              "      border-radius: 50%;\n",
              "      cursor: pointer;\n",
              "      display: none;\n",
              "      fill: #1967D2;\n",
              "      height: 32px;\n",
              "      padding: 0 0 0 0;\n",
              "      width: 32px;\n",
              "    }\n",
              "\n",
              "    .colab-df-convert:hover {\n",
              "      background-color: #E2EBFA;\n",
              "      box-shadow: 0px 1px 2px rgba(60, 64, 67, 0.3), 0px 1px 3px 1px rgba(60, 64, 67, 0.15);\n",
              "      fill: #174EA6;\n",
              "    }\n",
              "\n",
              "    [theme=dark] .colab-df-convert {\n",
              "      background-color: #3B4455;\n",
              "      fill: #D2E3FC;\n",
              "    }\n",
              "\n",
              "    [theme=dark] .colab-df-convert:hover {\n",
              "      background-color: #434B5C;\n",
              "      box-shadow: 0px 1px 3px 1px rgba(0, 0, 0, 0.15);\n",
              "      filter: drop-shadow(0px 1px 2px rgba(0, 0, 0, 0.3));\n",
              "      fill: #FFFFFF;\n",
              "    }\n",
              "  </style>\n",
              "\n",
              "      <script>\n",
              "        const buttonEl =\n",
              "          document.querySelector('#df-5a9c692d-5829-42f5-8672-c9ec79a9baeb button.colab-df-convert');\n",
              "        buttonEl.style.display =\n",
              "          google.colab.kernel.accessAllowed ? 'block' : 'none';\n",
              "\n",
              "        async function convertToInteractive(key) {\n",
              "          const element = document.querySelector('#df-5a9c692d-5829-42f5-8672-c9ec79a9baeb');\n",
              "          const dataTable =\n",
              "            await google.colab.kernel.invokeFunction('convertToInteractive',\n",
              "                                                     [key], {});\n",
              "          if (!dataTable) return;\n",
              "\n",
              "          const docLinkHtml = 'Like what you see? Visit the ' +\n",
              "            '<a target=\"_blank\" href=https://colab.research.google.com/notebooks/data_table.ipynb>data table notebook</a>'\n",
              "            + ' to learn more about interactive tables.';\n",
              "          element.innerHTML = '';\n",
              "          dataTable['output_type'] = 'display_data';\n",
              "          await google.colab.output.renderOutput(dataTable, element);\n",
              "          const docLink = document.createElement('div');\n",
              "          docLink.innerHTML = docLinkHtml;\n",
              "          element.appendChild(docLink);\n",
              "        }\n",
              "      </script>\n",
              "    </div>\n",
              "  </div>\n",
              "  "
            ],
            "text/plain": [
              "   density    pH  sulphates  type_red  type_white\n",
              "0   1.0010  3.00       0.45         0           1\n",
              "1   0.9940  3.30       0.49         0           1\n",
              "2   0.9951  3.26       0.44         0           1\n",
              "3   0.9956  3.19       0.40         0           1\n",
              "4   0.9956  3.19       0.40         0           1"
            ]
          },
          "execution_count": 158,
          "metadata": {},
          "output_type": "execute_result"
        }
      ],
      "source": [
        "data2=OneHotEncoding(tipovi,data2)\n",
        "data2.head()"
      ]
    },
    {
      "cell_type": "markdown",
      "metadata": {
        "id": "dA-rShJvxn7Q"
      },
      "source": [
        "# Detektovanje outlier-a\n",
        "\n"
      ]
    },
    {
      "cell_type": "markdown",
      "metadata": {
        "id": "I3a7p0WWpS1N"
      },
      "source": [
        "## Isolation Forest"
      ]
    },
    {
      "cell_type": "markdown",
      "metadata": {
        "id": "5AcRBDSdpXGY"
      },
      "source": [
        "Isolation Forest, ili skraćeno iForest, je algoritam za otkrivanje anomalija zasnovan na stablu.\n",
        "\n",
        "Zasnovan je na modelovanju normalnih podataka na takav način da se izoluju anomalije koje su i malobrojne.\n",
        "\n",
        "Možda je najvažniji hiperparametar u modelu argument „kontaminacije“, koji se koristi za procenu broja odstupanja u skupu podataka. Ovo je vrednost između 0,0 i 0,5 i podrazumevano je podešena na 0,1."
      ]
    },
    {
      "cell_type": "code",
      "execution_count": 159,
      "metadata": {
        "colab": {
          "base_uri": "https://localhost:8080/"
        },
        "id": "_lscQ-9epiTQ",
        "outputId": "845d4e41-d0e1-4c5d-beff-bc8f8968a663"
      },
      "outputs": [
        {
          "name": "stderr",
          "output_type": "stream",
          "text": [
            "/usr/local/lib/python3.7/dist-packages/sklearn/base.py:451: UserWarning: X does not have valid feature names, but IsolationForest was fitted with feature names\n",
            "  \"X does not have valid feature names, but\"\n"
          ]
        },
        {
          "data": {
            "text/plain": [
              "(5847, 4)"
            ]
          },
          "execution_count": 159,
          "metadata": {},
          "output_type": "execute_result"
        }
      ],
      "source": [
        "from sklearn.ensemble import IsolationForest\n",
        "\n",
        "#Pronalaženje outlier-a\n",
        "iso = IsolationForest(contamination=0.1)\n",
        "y = iso.fit_predict(data1)\n",
        "\n",
        "#Uzmi sve redove koji nisu outlier-i\n",
        "mask = y != -1\n",
        "data1=data1.iloc[mask, :]\n",
        "\n",
        "data1.shape"
      ]
    },
    {
      "cell_type": "markdown",
      "metadata": {
        "id": "stvN6V7ewEp0"
      },
      "source": [
        "## SVM algoritam\n",
        "\n",
        "Iako je SVM klasifikacioni algoritam, može se koristiti za otkrivanje odstupanja u ulaznim podacima i za skupove podataka za regresiju i za klasifikaciju.\n",
        "\n",
        "Biblioteka scikit-learn obezbeđuje implementaciju SVM-a jedne klase u klasi OneClassSVM.\n",
        "\n",
        "Klasa obezbeđuje argument „nu“ koji specificira približni odnos odstupanja u skupu podataka, koji je podrazumevano podešen na 0,1. U ovom slučaju ćemo ga postaviti na 0,01."
      ]
    },
    {
      "cell_type": "code",
      "execution_count": 160,
      "metadata": {
        "colab": {
          "base_uri": "https://localhost:8080/"
        },
        "id": "jTqfY7cUwS0_",
        "outputId": "866bd9c6-1659-4e78-e1d9-42205ea59acc"
      },
      "outputs": [
        {
          "data": {
            "text/plain": [
              "(6417, 5)"
            ]
          },
          "execution_count": 160,
          "metadata": {},
          "output_type": "execute_result"
        }
      ],
      "source": [
        "from sklearn.svm import OneClassSVM\n",
        "svm = OneClassSVM(nu=0.01)\n",
        "y = svm.fit_predict(data2)\n",
        "mask = y != -1\n",
        "\n",
        "data2=data2.iloc[mask, :]\n",
        "\n",
        "data2.shape"
      ]
    },
    {
      "cell_type": "markdown",
      "metadata": {
        "id": "ZGx-WmZJA9Op"
      },
      "source": [
        "# Podela na train i test skup"
      ]
    },
    {
      "cell_type": "markdown",
      "metadata": {
        "id": "LXyureTnB6Es"
      },
      "source": [
        "Ulazne kolone su sve osim poslednje, izlazna je poslednja"
      ]
    },
    {
      "cell_type": "code",
      "execution_count": 161,
      "metadata": {
        "id": "cjR6GjVIBBc4"
      },
      "outputs": [],
      "source": [
        "from sklearn.model_selection import train_test_split\n",
        "\n",
        "X=data1.iloc[:,:-1]\n",
        "y=data1.iloc[:,-1]\n",
        "\n",
        "X_train, X_test, y_train, y_test = train_test_split(\n",
        "    X, y, \n",
        "    test_size=0.2, random_state=42\n",
        ")"
      ]
    },
    {
      "cell_type": "code",
      "execution_count": 162,
      "metadata": {
        "colab": {
          "base_uri": "https://localhost:8080/"
        },
        "id": "-5mocAdwCgT4",
        "outputId": "44f0488a-a317-481b-fe72-f4895dcc2f71"
      },
      "outputs": [
        {
          "name": "stdout",
          "output_type": "stream",
          "text": [
            "(4677, 3)\n"
          ]
        }
      ],
      "source": [
        "print(X_train.shape)"
      ]
    },
    {
      "cell_type": "code",
      "execution_count": 163,
      "metadata": {
        "colab": {
          "base_uri": "https://localhost:8080/"
        },
        "id": "e3-qvZ1qCjVt",
        "outputId": "21b06e7e-7d51-4507-bb22-5c23ff41b383"
      },
      "outputs": [
        {
          "name": "stdout",
          "output_type": "stream",
          "text": [
            "(1170, 3)\n"
          ]
        }
      ],
      "source": [
        "print(X_test.shape)"
      ]
    },
    {
      "cell_type": "markdown",
      "metadata": {
        "id": "Z2WzM3N6CwME"
      },
      "source": [
        "#Skaliranje podataka\n",
        "\n",
        " Neuronska mreža će misliti da je vrednost na višoj skali važnija, zato se vrši skaliranje podataka."
      ]
    },
    {
      "cell_type": "code",
      "execution_count": 164,
      "metadata": {
        "id": "_yytVzbKC5h7"
      },
      "outputs": [],
      "source": [
        "from sklearn.preprocessing import StandardScaler\n",
        "\n",
        "scaler = StandardScaler()\n",
        "X_train_scaled = scaler.fit_transform(X_train)\n",
        "X_test_scaled = scaler.transform(X_test)"
      ]
    },
    {
      "cell_type": "markdown",
      "metadata": {
        "id": "JI76tC9BDFzz"
      },
      "source": [
        "Štampanjem kolone X_train_scaled vidimo da je skaliranje uspešno izvršeno."
      ]
    },
    {
      "cell_type": "code",
      "execution_count": 165,
      "metadata": {
        "colab": {
          "base_uri": "https://localhost:8080/"
        },
        "id": "yHRMhgBeDBzM",
        "outputId": "40b06e73-a854-4f89-d92c-a790d3e09bb4"
      },
      "outputs": [
        {
          "name": "stdout",
          "output_type": "stream",
          "text": [
            "[[-1.14330109  0.68410652 -0.62739302]\n",
            " [ 1.8561908   0.33452224  2.00197334]\n",
            " [ 0.74923546 -1.13373172 -1.1532663 ]\n",
            " ...\n",
            " [ 0.75637711  0.19468853  2.79078325]\n",
            " [ 0.09934555  1.45319193  0.33670798]\n",
            " [ 1.32056725  0.26460539 -1.24091184]]\n"
          ]
        }
      ],
      "source": [
        "print(X_train_scaled)"
      ]
    },
    {
      "cell_type": "markdown",
      "metadata": {
        "id": "yEfVxUUDDLJ5"
      },
      "source": [
        "#Obuka klasifikacionog modela pomoću TensorFlow biblioteke"
      ]
    },
    {
      "cell_type": "markdown",
      "metadata": {
        "id": "DpxAF4nuDZ4A"
      },
      "source": [
        "Ukoliko promenljiva model ima vrednost 1, vršiće se klasifikacija, a u suprotnom regresioni problem."
      ]
    },
    {
      "cell_type": "code",
      "execution_count": 168,
      "metadata": {
        "colab": {
          "base_uri": "https://localhost:8080/"
        },
        "id": "5pTjn1TCDSIJ",
        "outputId": "4ad4c41f-ec06-42c8-f783-d150718c43ac"
      },
      "outputs": [
        {
          "name": "stdout",
          "output_type": "stream",
          "text": [
            "Epoch 1/100\n",
            "117/117 [==============================] - 1s 3ms/step - loss: 0.5897 - accuracy: 0.0024 - val_loss: 0.5121 - val_accuracy: 0.0000e+00\n",
            "Epoch 2/100\n",
            "117/117 [==============================] - 0s 2ms/step - loss: 0.5246 - accuracy: 0.0110 - val_loss: 0.6263 - val_accuracy: 0.0588\n",
            "Epoch 3/100\n",
            "117/117 [==============================] - 0s 3ms/step - loss: 0.5089 - accuracy: 0.0182 - val_loss: 0.5021 - val_accuracy: 0.0000e+00\n",
            "Epoch 4/100\n",
            "117/117 [==============================] - 0s 2ms/step - loss: 0.5136 - accuracy: 0.0152 - val_loss: 0.4972 - val_accuracy: 0.0224\n",
            "Epoch 5/100\n",
            "117/117 [==============================] - 0s 2ms/step - loss: 0.5143 - accuracy: 0.0144 - val_loss: 0.5017 - val_accuracy: 0.0064\n",
            "Epoch 6/100\n",
            "117/117 [==============================] - 0s 2ms/step - loss: 0.5050 - accuracy: 0.0160 - val_loss: 0.5069 - val_accuracy: 0.0075\n",
            "Epoch 7/100\n",
            "117/117 [==============================] - 0s 3ms/step - loss: 0.5014 - accuracy: 0.0184 - val_loss: 0.5098 - val_accuracy: 0.0000e+00\n",
            "Epoch 8/100\n",
            "117/117 [==============================] - 0s 2ms/step - loss: 0.5039 - accuracy: 0.0195 - val_loss: 0.4940 - val_accuracy: 0.0524\n",
            "Epoch 9/100\n",
            "117/117 [==============================] - 0s 2ms/step - loss: 0.5030 - accuracy: 0.0214 - val_loss: 0.4988 - val_accuracy: 0.0000e+00\n",
            "Epoch 10/100\n",
            "117/117 [==============================] - 0s 2ms/step - loss: 0.5022 - accuracy: 0.0198 - val_loss: 0.5508 - val_accuracy: 0.0000e+00\n",
            "Epoch 11/100\n",
            "117/117 [==============================] - 0s 2ms/step - loss: 0.5081 - accuracy: 0.0206 - val_loss: 0.5181 - val_accuracy: 0.0085\n",
            "Epoch 12/100\n",
            "117/117 [==============================] - 0s 2ms/step - loss: 0.4933 - accuracy: 0.0209 - val_loss: 0.4868 - val_accuracy: 0.0075\n",
            "Epoch 13/100\n",
            "117/117 [==============================] - 0s 2ms/step - loss: 0.4938 - accuracy: 0.0158 - val_loss: 0.4832 - val_accuracy: 0.0160\n",
            "Epoch 14/100\n",
            "117/117 [==============================] - 0s 2ms/step - loss: 0.5011 - accuracy: 0.0184 - val_loss: 0.4844 - val_accuracy: 0.0427\n",
            "Epoch 15/100\n",
            "117/117 [==============================] - 0s 2ms/step - loss: 0.4934 - accuracy: 0.0163 - val_loss: 0.5045 - val_accuracy: 0.0096\n",
            "Epoch 16/100\n",
            "117/117 [==============================] - 0s 2ms/step - loss: 0.4898 - accuracy: 0.0176 - val_loss: 0.4939 - val_accuracy: 0.0192\n",
            "Epoch 17/100\n",
            "117/117 [==============================] - 0s 2ms/step - loss: 0.4886 - accuracy: 0.0192 - val_loss: 0.5114 - val_accuracy: 0.0256\n",
            "Epoch 18/100\n",
            "117/117 [==============================] - 0s 2ms/step - loss: 0.5026 - accuracy: 0.0209 - val_loss: 0.4968 - val_accuracy: 0.0064\n",
            "Epoch 19/100\n",
            "117/117 [==============================] - 0s 2ms/step - loss: 0.4999 - accuracy: 0.0214 - val_loss: 0.5100 - val_accuracy: 0.0524\n",
            "Epoch 20/100\n",
            "117/117 [==============================] - 0s 2ms/step - loss: 0.4992 - accuracy: 0.0254 - val_loss: 0.5052 - val_accuracy: 0.0000e+00\n",
            "Epoch 21/100\n",
            "117/117 [==============================] - 0s 2ms/step - loss: 0.5003 - accuracy: 0.0142 - val_loss: 0.5209 - val_accuracy: 0.0588\n",
            "Epoch 22/100\n",
            "117/117 [==============================] - 0s 2ms/step - loss: 0.5163 - accuracy: 0.0214 - val_loss: 0.5048 - val_accuracy: 0.0000e+00\n",
            "Epoch 23/100\n",
            "117/117 [==============================] - 0s 2ms/step - loss: 0.4905 - accuracy: 0.0192 - val_loss: 0.5071 - val_accuracy: 0.0000e+00\n",
            "Epoch 24/100\n",
            "117/117 [==============================] - 0s 2ms/step - loss: 0.4984 - accuracy: 0.0203 - val_loss: 0.5002 - val_accuracy: 0.0513\n",
            "Epoch 25/100\n",
            "117/117 [==============================] - 0s 2ms/step - loss: 0.5206 - accuracy: 0.0222 - val_loss: 0.5106 - val_accuracy: 0.0000e+00\n",
            "Epoch 26/100\n",
            "117/117 [==============================] - 0s 3ms/step - loss: 0.4891 - accuracy: 0.0225 - val_loss: 0.5051 - val_accuracy: 0.0000e+00\n",
            "Epoch 27/100\n",
            "117/117 [==============================] - 0s 2ms/step - loss: 0.4922 - accuracy: 0.0198 - val_loss: 0.4866 - val_accuracy: 0.0085\n",
            "Epoch 28/100\n",
            "117/117 [==============================] - 0s 2ms/step - loss: 0.4967 - accuracy: 0.0209 - val_loss: 0.5093 - val_accuracy: 0.0000e+00\n",
            "Epoch 29/100\n",
            "117/117 [==============================] - 0s 2ms/step - loss: 0.4974 - accuracy: 0.0174 - val_loss: 0.4851 - val_accuracy: 0.0128\n",
            "Epoch 30/100\n",
            "117/117 [==============================] - 0s 2ms/step - loss: 0.4998 - accuracy: 0.0190 - val_loss: 0.4949 - val_accuracy: 0.0534\n",
            "Epoch 31/100\n",
            "117/117 [==============================] - 0s 2ms/step - loss: 0.5039 - accuracy: 0.0230 - val_loss: 0.5133 - val_accuracy: 0.0011\n",
            "Epoch 32/100\n",
            "117/117 [==============================] - 0s 2ms/step - loss: 0.4903 - accuracy: 0.0168 - val_loss: 0.5042 - val_accuracy: 0.0000e+00\n",
            "Epoch 33/100\n",
            "117/117 [==============================] - 0s 2ms/step - loss: 0.4959 - accuracy: 0.0155 - val_loss: 0.5208 - val_accuracy: 0.0588\n",
            "Epoch 34/100\n",
            "117/117 [==============================] - 0s 2ms/step - loss: 0.4895 - accuracy: 0.0241 - val_loss: 0.4928 - val_accuracy: 0.0096\n",
            "Epoch 35/100\n",
            "117/117 [==============================] - 0s 2ms/step - loss: 0.4891 - accuracy: 0.0150 - val_loss: 0.4923 - val_accuracy: 0.0171\n",
            "Epoch 36/100\n",
            "117/117 [==============================] - 0s 2ms/step - loss: 0.4985 - accuracy: 0.0200 - val_loss: 0.5320 - val_accuracy: 0.0000e+00\n",
            "Epoch 37/100\n",
            "117/117 [==============================] - 0s 2ms/step - loss: 0.4972 - accuracy: 0.0225 - val_loss: 0.4886 - val_accuracy: 0.0150\n",
            "Epoch 38/100\n",
            "117/117 [==============================] - 0s 2ms/step - loss: 0.5087 - accuracy: 0.0203 - val_loss: 0.4833 - val_accuracy: 0.0395\n",
            "Epoch 39/100\n",
            "117/117 [==============================] - 0s 3ms/step - loss: 0.4913 - accuracy: 0.0166 - val_loss: 0.5152 - val_accuracy: 0.0214\n",
            "Epoch 40/100\n",
            "117/117 [==============================] - 0s 2ms/step - loss: 0.5049 - accuracy: 0.0227 - val_loss: 0.5054 - val_accuracy: 0.0000e+00\n",
            "Epoch 41/100\n",
            "117/117 [==============================] - 0s 2ms/step - loss: 0.5108 - accuracy: 0.0225 - val_loss: 0.5096 - val_accuracy: 0.0011\n",
            "Epoch 42/100\n",
            "117/117 [==============================] - 0s 2ms/step - loss: 0.5008 - accuracy: 0.0227 - val_loss: 0.5265 - val_accuracy: 0.0000e+00\n",
            "Epoch 43/100\n",
            "117/117 [==============================] - 0s 2ms/step - loss: 0.5059 - accuracy: 0.0171 - val_loss: 0.5778 - val_accuracy: 0.1015\n",
            "Epoch 44/100\n",
            "117/117 [==============================] - 0s 2ms/step - loss: 0.5091 - accuracy: 0.0243 - val_loss: 0.5066 - val_accuracy: 0.0427\n",
            "Epoch 45/100\n",
            "117/117 [==============================] - 0s 2ms/step - loss: 0.5007 - accuracy: 0.0206 - val_loss: 0.5265 - val_accuracy: 0.0043\n",
            "Epoch 46/100\n",
            "117/117 [==============================] - 0s 2ms/step - loss: 0.4962 - accuracy: 0.0171 - val_loss: 0.4922 - val_accuracy: 0.0118\n",
            "Epoch 47/100\n",
            "117/117 [==============================] - 0s 2ms/step - loss: 0.4921 - accuracy: 0.0200 - val_loss: 0.5173 - val_accuracy: 0.0748\n",
            "Epoch 48/100\n",
            "117/117 [==============================] - 0s 2ms/step - loss: 0.5006 - accuracy: 0.0209 - val_loss: 0.4990 - val_accuracy: 0.0598\n",
            "Epoch 49/100\n",
            "117/117 [==============================] - 0s 2ms/step - loss: 0.4968 - accuracy: 0.0187 - val_loss: 0.5074 - val_accuracy: 0.0000e+00\n",
            "Epoch 50/100\n",
            "117/117 [==============================] - 0s 2ms/step - loss: 0.5002 - accuracy: 0.0200 - val_loss: 0.4942 - val_accuracy: 0.0000e+00\n",
            "Epoch 51/100\n",
            "117/117 [==============================] - 0s 2ms/step - loss: 0.4952 - accuracy: 0.0179 - val_loss: 0.4838 - val_accuracy: 0.0374\n",
            "Epoch 52/100\n",
            "117/117 [==============================] - 0s 2ms/step - loss: 0.5021 - accuracy: 0.0203 - val_loss: 0.4856 - val_accuracy: 0.0256\n",
            "Epoch 53/100\n",
            "117/117 [==============================] - 0s 2ms/step - loss: 0.4969 - accuracy: 0.0168 - val_loss: 0.5316 - val_accuracy: 0.0000e+00\n",
            "Epoch 54/100\n",
            "117/117 [==============================] - 0s 2ms/step - loss: 0.5021 - accuracy: 0.0195 - val_loss: 0.5226 - val_accuracy: 0.0000e+00\n",
            "Epoch 55/100\n",
            "117/117 [==============================] - 0s 2ms/step - loss: 0.5153 - accuracy: 0.0206 - val_loss: 0.4921 - val_accuracy: 0.0085\n",
            "Epoch 56/100\n",
            "117/117 [==============================] - 0s 3ms/step - loss: 0.4967 - accuracy: 0.0147 - val_loss: 0.4898 - val_accuracy: 0.0246\n",
            "Epoch 57/100\n",
            "117/117 [==============================] - 0s 2ms/step - loss: 0.4917 - accuracy: 0.0222 - val_loss: 0.4873 - val_accuracy: 0.0118\n",
            "Epoch 58/100\n",
            "117/117 [==============================] - 0s 2ms/step - loss: 0.4887 - accuracy: 0.0176 - val_loss: 0.4947 - val_accuracy: 0.0459\n",
            "Epoch 59/100\n",
            "117/117 [==============================] - 0s 2ms/step - loss: 0.4938 - accuracy: 0.0209 - val_loss: 0.4828 - val_accuracy: 0.0385\n",
            "Epoch 60/100\n",
            "117/117 [==============================] - 0s 2ms/step - loss: 0.4961 - accuracy: 0.0198 - val_loss: 0.4841 - val_accuracy: 0.0363\n",
            "Epoch 61/100\n",
            "117/117 [==============================] - 0s 2ms/step - loss: 0.4970 - accuracy: 0.0182 - val_loss: 0.5104 - val_accuracy: 0.0000e+00\n",
            "Epoch 62/100\n",
            "117/117 [==============================] - 0s 2ms/step - loss: 0.4955 - accuracy: 0.0217 - val_loss: 0.4868 - val_accuracy: 0.0192\n",
            "Epoch 63/100\n",
            "117/117 [==============================] - 0s 2ms/step - loss: 0.5042 - accuracy: 0.0179 - val_loss: 0.5090 - val_accuracy: 0.0000e+00\n",
            "Epoch 64/100\n",
            "117/117 [==============================] - 0s 2ms/step - loss: 0.5033 - accuracy: 0.0182 - val_loss: 0.5002 - val_accuracy: 0.0556\n",
            "Epoch 65/100\n",
            "117/117 [==============================] - 0s 2ms/step - loss: 0.4960 - accuracy: 0.0217 - val_loss: 0.4858 - val_accuracy: 0.0182\n",
            "Epoch 66/100\n",
            "117/117 [==============================] - 0s 2ms/step - loss: 0.5017 - accuracy: 0.0219 - val_loss: 0.4958 - val_accuracy: 0.0043\n",
            "Epoch 67/100\n",
            "117/117 [==============================] - 0s 2ms/step - loss: 0.4887 - accuracy: 0.0163 - val_loss: 0.4842 - val_accuracy: 0.0096\n",
            "Epoch 68/100\n",
            "117/117 [==============================] - 0s 2ms/step - loss: 0.4894 - accuracy: 0.0190 - val_loss: 0.5099 - val_accuracy: 0.0278\n",
            "Epoch 69/100\n",
            "117/117 [==============================] - 0s 2ms/step - loss: 0.4912 - accuracy: 0.0214 - val_loss: 0.4841 - val_accuracy: 0.0235\n",
            "Epoch 70/100\n",
            "117/117 [==============================] - 0s 2ms/step - loss: 0.5016 - accuracy: 0.0195 - val_loss: 0.5135 - val_accuracy: 0.0534\n",
            "Epoch 71/100\n",
            "117/117 [==============================] - 0s 2ms/step - loss: 0.4944 - accuracy: 0.0222 - val_loss: 0.4873 - val_accuracy: 0.0085\n",
            "Epoch 72/100\n",
            "117/117 [==============================] - 0s 2ms/step - loss: 0.5097 - accuracy: 0.0230 - val_loss: 0.4838 - val_accuracy: 0.0192\n",
            "Epoch 73/100\n",
            "117/117 [==============================] - 0s 2ms/step - loss: 0.4945 - accuracy: 0.0195 - val_loss: 0.4828 - val_accuracy: 0.0267\n",
            "Epoch 74/100\n",
            "117/117 [==============================] - 0s 2ms/step - loss: 0.5013 - accuracy: 0.0192 - val_loss: 0.4926 - val_accuracy: 0.0128\n",
            "Epoch 75/100\n",
            "117/117 [==============================] - 0s 2ms/step - loss: 0.5048 - accuracy: 0.0217 - val_loss: 0.4833 - val_accuracy: 0.0374\n",
            "Epoch 76/100\n",
            "117/117 [==============================] - 0s 2ms/step - loss: 0.4895 - accuracy: 0.0198 - val_loss: 0.4878 - val_accuracy: 0.0331\n",
            "Epoch 77/100\n",
            "117/117 [==============================] - 0s 2ms/step - loss: 0.5032 - accuracy: 0.0233 - val_loss: 0.4996 - val_accuracy: 0.0000e+00\n",
            "Epoch 78/100\n",
            "117/117 [==============================] - 0s 2ms/step - loss: 0.4957 - accuracy: 0.0217 - val_loss: 0.5416 - val_accuracy: 0.0000e+00\n",
            "Epoch 79/100\n",
            "117/117 [==============================] - 0s 2ms/step - loss: 0.4957 - accuracy: 0.0176 - val_loss: 0.4825 - val_accuracy: 0.0171\n",
            "Epoch 80/100\n",
            "117/117 [==============================] - 0s 2ms/step - loss: 0.5099 - accuracy: 0.0192 - val_loss: 0.4884 - val_accuracy: 0.0096\n",
            "Epoch 81/100\n",
            "117/117 [==============================] - 0s 2ms/step - loss: 0.4856 - accuracy: 0.0219 - val_loss: 0.4816 - val_accuracy: 0.0246\n",
            "Epoch 82/100\n",
            "117/117 [==============================] - 0s 2ms/step - loss: 0.4984 - accuracy: 0.0206 - val_loss: 0.4881 - val_accuracy: 0.0406\n",
            "Epoch 83/100\n",
            "117/117 [==============================] - 0s 2ms/step - loss: 0.4948 - accuracy: 0.0190 - val_loss: 0.4948 - val_accuracy: 0.0011\n",
            "Epoch 84/100\n",
            "117/117 [==============================] - 0s 2ms/step - loss: 0.4908 - accuracy: 0.0134 - val_loss: 0.4845 - val_accuracy: 0.0246\n",
            "Epoch 85/100\n",
            "117/117 [==============================] - 0s 2ms/step - loss: 0.5001 - accuracy: 0.0195 - val_loss: 0.4852 - val_accuracy: 0.0128\n",
            "Epoch 86/100\n",
            "117/117 [==============================] - 0s 2ms/step - loss: 0.5001 - accuracy: 0.0192 - val_loss: 0.5218 - val_accuracy: 0.0043\n",
            "Epoch 87/100\n",
            "117/117 [==============================] - 0s 2ms/step - loss: 0.4928 - accuracy: 0.0195 - val_loss: 0.5537 - val_accuracy: 0.0759\n",
            "Epoch 88/100\n",
            "117/117 [==============================] - 0s 2ms/step - loss: 0.5004 - accuracy: 0.0214 - val_loss: 0.4973 - val_accuracy: 0.0513\n",
            "Epoch 89/100\n",
            "117/117 [==============================] - 0s 2ms/step - loss: 0.4972 - accuracy: 0.0166 - val_loss: 0.5068 - val_accuracy: 0.0043\n",
            "Epoch 90/100\n",
            "117/117 [==============================] - 0s 2ms/step - loss: 0.4943 - accuracy: 0.0176 - val_loss: 0.5250 - val_accuracy: 0.0737\n",
            "Epoch 91/100\n",
            "117/117 [==============================] - 0s 3ms/step - loss: 0.4989 - accuracy: 0.0211 - val_loss: 0.4854 - val_accuracy: 0.0118\n",
            "Epoch 92/100\n",
            "117/117 [==============================] - 0s 2ms/step - loss: 0.4961 - accuracy: 0.0219 - val_loss: 0.5015 - val_accuracy: 0.0513\n",
            "Epoch 93/100\n",
            "117/117 [==============================] - 0s 2ms/step - loss: 0.4993 - accuracy: 0.0219 - val_loss: 0.5356 - val_accuracy: 0.0000e+00\n",
            "Epoch 94/100\n",
            "117/117 [==============================] - 0s 2ms/step - loss: 0.5042 - accuracy: 0.0184 - val_loss: 0.4940 - val_accuracy: 0.0128\n",
            "Epoch 95/100\n",
            "117/117 [==============================] - 0s 2ms/step - loss: 0.4940 - accuracy: 0.0222 - val_loss: 0.4955 - val_accuracy: 0.0096\n",
            "Epoch 96/100\n",
            "117/117 [==============================] - 0s 2ms/step - loss: 0.4934 - accuracy: 0.0192 - val_loss: 0.4965 - val_accuracy: 0.0545\n",
            "Epoch 97/100\n",
            "117/117 [==============================] - 0s 2ms/step - loss: 0.4952 - accuracy: 0.0179 - val_loss: 0.4904 - val_accuracy: 0.0363\n",
            "Epoch 98/100\n",
            "117/117 [==============================] - 0s 2ms/step - loss: 0.4961 - accuracy: 0.0190 - val_loss: 0.4800 - val_accuracy: 0.0256\n",
            "Epoch 99/100\n",
            "117/117 [==============================] - 0s 2ms/step - loss: 0.4962 - accuracy: 0.0190 - val_loss: 0.4933 - val_accuracy: 0.0374\n",
            "Epoch 100/100\n",
            "117/117 [==============================] - 0s 2ms/step - loss: 0.5163 - accuracy: 0.0257 - val_loss: 0.5840 - val_accuracy: 0.0876\n",
            "37/37 [==============================] - 0s 2ms/step - loss: 2.8597 - accuracy: 0.1906\n"
          ]
        },
        {
          "data": {
            "text/plain": [
              "[2.859684944152832, 0.1905982941389084]"
            ]
          },
          "execution_count": 168,
          "metadata": {},
          "output_type": "execute_result"
        }
      ],
      "source": [
        "import tensorflow.keras.models\n",
        "import tensorflow.keras.layers\n",
        "from keras import regularizers\n",
        "from keras.models import Sequential\n",
        "from keras.layers import Dense\n",
        "\n",
        "tf.random.set_seed(42)\n",
        "\n",
        "if model == 1:\n",
        "  num=len(y.unique())\n",
        "  #print(num)\n",
        "  if num == 2:\n",
        "    los = 'binary_crossentropy'\n",
        "  else:\n",
        "    los='categorical_crossentropy'\n",
        "else:\n",
        "  los='mse'\n",
        "\n",
        "if aktivaciona == 1:\n",
        "  func = 'relu'\n",
        "elif aktivaciona == 2:\n",
        "  func='sigmoid'\n",
        "elif aktivaciona==3:\n",
        "  func='linear'\n",
        "elif aktivaciona==4:\n",
        "  func='softmax'\n",
        "\n",
        "if reg==1:\n",
        "  regul = regularizers.l2(regRate)\n",
        "else:\n",
        "  regul = regularizers.l1(regRate)\n",
        "\n",
        "\n",
        "model = Sequential()\n",
        "\n",
        "for i in range(brojSlojeva-1):\n",
        "  model.add(Dense(brojNeurona, activation=func,kernel_regularizer=regul))\n",
        "\n",
        "if model == 1 and num==2:\n",
        "  model.add(Dense(1, activation='sigmoid',kernel_regularizer=regul))\n",
        "elif model==1 and num>2:\n",
        "  model.add(Dense(num, activation='softmax',kernel_regularizer=regul))\n",
        "else:\n",
        "  model.add(Dense(1, activation='linear',kernel_regularizer=regul))\n",
        "\n",
        "opt = tf.keras.optimizers.Adam(learning_rate=learningRate)\n",
        "model.compile(\n",
        "    loss=los,\n",
        "    optimizer=opt,\n",
        "    metrics=['accuracy']\n",
        ")\n",
        "\n",
        "history = model.fit(X_train_scaled, y_train, epochs=epoche, validation_split=0.2)\n",
        "model.evaluate(X_test,y_test,batch_size=32)\n"
      ]
    },
    {
      "cell_type": "markdown",
      "metadata": {
        "id": "ZK4vOA_LMvbs"
      },
      "source": [
        "Pratili smo gubitke i tačnost tokom treninga i sačuvali ih u istoriji. Sada možemo da vizuelizujemo ove metrike da bismo stekli osećaj kako model radi."
      ]
    },
    {
      "cell_type": "code",
      "execution_count": 169,
      "metadata": {
        "colab": {
          "base_uri": "https://localhost:8080/",
          "height": 522
        },
        "id": "-M9BWslfM0OP",
        "outputId": "dd1a892a-dd09-4d9b-b20b-24433dd80436"
      },
      "outputs": [
        {
          "data": {
            "image/png": "[encoded data removed]",
            "text/plain": [
              "<Figure size 1296x576 with 1 Axes>"
            ]
          },
          "metadata": {
            "needs_background": "light"
          },
          "output_type": "display_data"
        }
      ],
      "source": [
        "import matplotlib.pyplot as plt\n",
        "from matplotlib import rcParams\n",
        "\n",
        "rcParams['figure.figsize'] = (18, 8)\n",
        "rcParams['axes.spines.top'] = False\n",
        "rcParams['axes.spines.right'] = False\n",
        "\n",
        "plt.plot(\n",
        "    np.arange(1, 101), \n",
        "    history.history['loss'], label='Loss'\n",
        ")\n",
        "plt.plot(\n",
        "    np.arange(1, 101), \n",
        "    history.history['accuracy'], label='Accuracy'\n",
        ")\n",
        "plt.title('Evaluation metrics', size=20)\n",
        "plt.xlabel('Epoch', size=14)\n",
        "plt.legend();"
      ]
    },
    {
      "cell_type": "markdown",
      "metadata": {
        "id": "0IsPJwxARio8"
      },
      "source": [
        "Praćenje funkcije loss u toku procesa treniranja."
      ]
    },
    {
      "cell_type": "code",
      "execution_count": 175,
      "metadata": {
        "colab": {
          "base_uri": "https://localhost:8080/",
          "height": 279
        },
        "id": "l6sjDe9dPxLw",
        "outputId": "569479f8-d7f2-445d-a755-040cddbe1e3c"
      },
      "outputs": [
        {
          "data": {
            "text/plain": [
              "<matplotlib.legend.Legend at 0x7fbd08e85990>"
            ]
          },
          "execution_count": 175,
          "metadata": {},
          "output_type": "execute_result"
        },
        {
          "data": {
            "image/png": "[encoded data removed]",
            "text/plain": [
              "<Figure size 1296x576 with 1 Axes>"
            ]
          },
          "metadata": {
            "needs_background": "light"
          },
          "output_type": "display_data"
        }
      ],
      "source": [
        "from matplotlib import pyplot\n",
        "pyplot.subplot(211)\n",
        "pyplot.title('Loss')\n",
        "pyplot.plot(history.history['loss'], label='train')\n",
        "pyplot.plot(history.history['val_loss'], label='test')\n",
        "pyplot.legend()"
      ]
    },
    {
      "cell_type": "markdown",
      "metadata": {
        "id": "0lVRHU05SIRp"
      },
      "source": [
        "Praćenje vrednosti accuracy u toku procesa treniranja."
      ]
    },
    {
      "cell_type": "code",
      "execution_count": 186,
      "metadata": {
        "colab": {
          "base_uri": "https://localhost:8080/",
          "height": 262
        },
        "id": "6dakhpBJP-cO",
        "outputId": "62dc33e0-3998-4629-f11b-395d01b13e39"
      },
      "outputs": [
        {
          "data": {
            "image/png": "[encoded data removed]",
            "text/plain": [
              "<Figure size 1296x576 with 1 Axes>"
            ]
          },
          "metadata": {
            "needs_background": "light"
          },
          "output_type": "display_data"
        }
      ],
      "source": [
        "pyplot.subplot(212)\n",
        "pyplot.title('Accuracy')\n",
        "pyplot.plot(history.history['accuracy'], label='train')\n",
        "pyplot.plot(history.history['val_accuracy'], label='test')\n",
        "pyplot.legend()\n",
        "pyplot.show()"
      ]
    },
    {
      "cell_type": "markdown",
      "metadata": {
        "id": "SH7s8I7KRRwO"
      },
      "source": [
        "#Formiranje predikcije"
      ]
    },
    {
      "cell_type": "code",
      "execution_count": 185,
      "metadata": {
        "colab": {
          "base_uri": "https://localhost:8080/"
        },
        "id": "VdfdBks4RRKc",
        "outputId": "9a1e01db-37f8-4bce-f270-ec455807a1bd"
      },
      "outputs": [
        {
          "name": "stdout",
          "output_type": "stream",
          "text": [
            "[[0.17729712]\n",
            " [1.6957326 ]\n",
            " [1.5321528 ]\n",
            " ...\n",
            " [1.195656  ]\n",
            " [0.7001121 ]\n",
            " [1.7787038 ]]\n"
          ]
        }
      ],
      "source": [
        "predictions = model.predict(X_test_scaled)\n",
        "print(predictions)"
      ]
    }
  ],
  "metadata": {
    "colab": {
      "collapsed_sections": [],
      "name": "TensorFlowProjekatDrugiDeo.ipynb",
      "provenance": []
    },
    "kernelspec": {
      "display_name": "Python 3",
      "name": "python3"
    },
    "language_info": {
      "name": "python"
    }
  },
  "nbformat": 4,
  "nbformat_minor": 0
}
